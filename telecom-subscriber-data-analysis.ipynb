{
 "cells": [
  {
   "cell_type": "markdown",
   "metadata": {
    "toc": true
   },
   "source": [
    "<h1>Table of Contents<span class=\"tocSkip\"></span></h1>\n",
    "<div class=\"toc\"><ul class=\"toc-item\"><li><span><a href=\"#Изучение-общей-информации\" data-toc-modified-id=\"Изучение-общей-информации-1\"><span class=\"toc-item-num\">1&nbsp;&nbsp;</span>Изучение общей информации</a></span><ul class=\"toc-item\"><li><span><a href=\"#Вывод\" data-toc-modified-id=\"Вывод-1.1\"><span class=\"toc-item-num\">1.1&nbsp;&nbsp;</span>Вывод</a></span></li></ul></li><li><span><a href=\"#Предобработка-данных\" data-toc-modified-id=\"Предобработка-данных-2\"><span class=\"toc-item-num\">2&nbsp;&nbsp;</span>Предобработка данных</a></span><ul class=\"toc-item\"><li><span><a href=\"#Вывод\" data-toc-modified-id=\"Вывод-2.1\"><span class=\"toc-item-num\">2.1&nbsp;&nbsp;</span>Вывод</a></span></li></ul></li><li><span><a href=\"#Анализ-данных\" data-toc-modified-id=\"Анализ-данных-3\"><span class=\"toc-item-num\">3&nbsp;&nbsp;</span>Анализ данных</a></span><ul class=\"toc-item\"><li><span><a href=\"#Вывод\" data-toc-modified-id=\"Вывод-3.1\"><span class=\"toc-item-num\">3.1&nbsp;&nbsp;</span>Вывод</a></span></li></ul></li><li><span><a href=\"#Проверка-гипотез\" data-toc-modified-id=\"Проверка-гипотез-4\"><span class=\"toc-item-num\">4&nbsp;&nbsp;</span>Проверка гипотез</a></span><ul class=\"toc-item\"><li><span><a href=\"#Вывод\" data-toc-modified-id=\"Вывод-4.1\"><span class=\"toc-item-num\">4.1&nbsp;&nbsp;</span>Вывод</a></span></li></ul></li><li><span><a href=\"#Общий-вывод\" data-toc-modified-id=\"Общий-вывод-5\"><span class=\"toc-item-num\">5&nbsp;&nbsp;</span>Общий вывод</a></span></li></ul></div>"
   ]
  },
  {
   "cell_type": "markdown",
   "metadata": {},
   "source": [
    "# Определение перспективного тарифа сотовой связи на основании анализа поведения абонентов и показателей выручки"
   ]
  },
  {
   "cell_type": "markdown",
   "metadata": {},
   "source": [
    "## Изучение общей информации"
   ]
  },
  {
   "cell_type": "markdown",
   "metadata": {},
   "source": [
    "Клиентам оператора сотовой связи предлагают два тарифных плана: «Смарт» и «Ультра». Чтобы скорректировать рекламный бюджет, коммерческий департамент хочет понять, какой тариф приносит больше денег.\n",
    "\n",
    "\n",
    "Необходимо сделать предварительный анализ тарифов на небольшой выборке клиентов. В нашем распоряжении данные 500 пользователей: кто они, откуда, каким тарифом пользуются, сколько звонков и сообщений каждый отправил за год. Нужно проанализировать поведение клиентов и сделать вывод — какой тариф лучше."
   ]
  },
  {
   "cell_type": "markdown",
   "metadata": {},
   "source": [
    "**Тариф «Смарт»**\n",
    "\n",
    "- Ежемесячная плата: 550 рублей\n",
    "- Включено 500 минут разговора, 50 сообщений и 15 Гб интернет-трафика\n",
    "- Стоимость услуг сверх тарифного пакета:\n",
    "    - минута разговора: 3 рубля\n",
    "    - сообщение: 3 рубля\n",
    "    - 1 Гб интернет-трафика: 200 рублей\n",
    "\n",
    "**Тариф «Ультра»**\n",
    "\n",
    "- Ежемесячная плата: 1950 рублей\n",
    "- Включено 3000 минут разговора, 1000 сообщений и 30 Гб интернет-трафика\n",
    "- Стоимость услуг сверх тарифного пакета:\n",
    "    - минута разговора: 1 рубль\n",
    "    - сообщение: 1 рубль\n",
    "    - 1 Гб интернет-трафика: 150 рублей"
   ]
  },
  {
   "cell_type": "markdown",
   "metadata": {},
   "source": [
    "***Примечание***\n",
    "\n",
    "*Оператор всегда округляет секунды до минут, а мегабайты — до гигабайт. Каждый звонок округляется отдельно: даже если он длился всего 1 секунду, будет засчитан как 1 минута.\n",
    "Для веб-трафика отдельные сессии не считаются. Вместо этого общая сумма за месяц округляется в бо́льшую сторону. Если абонент использует 1025 мегабайт в этом месяце, с него возьмут плату за 2 гигабайта.*"
   ]
  },
  {
   "cell_type": "code",
   "execution_count": 1,
   "metadata": {},
   "outputs": [],
   "source": [
    "import pandas as pd\n",
    "import numpy as np\n",
    "import matplotlib.pyplot as plt \n",
    "from IPython.display import display\n",
    "from scipy import stats as st"
   ]
  },
  {
   "cell_type": "code",
   "execution_count": 2,
   "metadata": {},
   "outputs": [],
   "source": [
    "files = [\n",
    "    '/datasets/calls.csv',\n",
    "    '/datasets/internet.csv',\n",
    "    '/datasets/messages.csv',\n",
    "    '/datasets/tariffs.csv',\n",
    "    '/datasets/users.csv',\n",
    "]"
   ]
  },
  {
   "cell_type": "code",
   "execution_count": 3,
   "metadata": {
    "scrolled": false
   },
   "outputs": [
    {
     "name": "stdout",
     "output_type": "stream",
     "text": [
      "\n",
      "Путь к файлу: /datasets/calls.csv\n"
     ]
    },
    {
     "data": {
      "text/html": [
       "<div>\n",
       "<style scoped>\n",
       "    .dataframe tbody tr th:only-of-type {\n",
       "        vertical-align: middle;\n",
       "    }\n",
       "\n",
       "    .dataframe tbody tr th {\n",
       "        vertical-align: top;\n",
       "    }\n",
       "\n",
       "    .dataframe thead th {\n",
       "        text-align: right;\n",
       "    }\n",
       "</style>\n",
       "<table border=\"1\" class=\"dataframe\">\n",
       "  <thead>\n",
       "    <tr style=\"text-align: right;\">\n",
       "      <th></th>\n",
       "      <th>call_date</th>\n",
       "      <th>duration</th>\n",
       "      <th>user_id</th>\n",
       "    </tr>\n",
       "    <tr>\n",
       "      <th>id</th>\n",
       "      <th></th>\n",
       "      <th></th>\n",
       "      <th></th>\n",
       "    </tr>\n",
       "  </thead>\n",
       "  <tbody>\n",
       "    <tr>\n",
       "      <td>1000_0</td>\n",
       "      <td>2018-07-25</td>\n",
       "      <td>0.00</td>\n",
       "      <td>1000</td>\n",
       "    </tr>\n",
       "    <tr>\n",
       "      <td>1000_1</td>\n",
       "      <td>2018-08-17</td>\n",
       "      <td>0.00</td>\n",
       "      <td>1000</td>\n",
       "    </tr>\n",
       "    <tr>\n",
       "      <td>1000_2</td>\n",
       "      <td>2018-06-11</td>\n",
       "      <td>2.85</td>\n",
       "      <td>1000</td>\n",
       "    </tr>\n",
       "    <tr>\n",
       "      <td>1000_3</td>\n",
       "      <td>2018-09-21</td>\n",
       "      <td>13.80</td>\n",
       "      <td>1000</td>\n",
       "    </tr>\n",
       "    <tr>\n",
       "      <td>1000_4</td>\n",
       "      <td>2018-12-15</td>\n",
       "      <td>5.18</td>\n",
       "      <td>1000</td>\n",
       "    </tr>\n",
       "  </tbody>\n",
       "</table>\n",
       "</div>"
      ],
      "text/plain": [
       "         call_date  duration  user_id\n",
       "id                                   \n",
       "1000_0  2018-07-25      0.00     1000\n",
       "1000_1  2018-08-17      0.00     1000\n",
       "1000_2  2018-06-11      2.85     1000\n",
       "1000_3  2018-09-21     13.80     1000\n",
       "1000_4  2018-12-15      5.18     1000"
      ]
     },
     "metadata": {},
     "output_type": "display_data"
    },
    {
     "name": "stdout",
     "output_type": "stream",
     "text": [
      "<class 'pandas.core.frame.DataFrame'>\n",
      "Index: 202607 entries, 1000_0 to 1499_219\n",
      "Data columns (total 3 columns):\n",
      "call_date    202607 non-null object\n",
      "duration     202607 non-null float64\n",
      "user_id      202607 non-null int64\n",
      "dtypes: float64(1), int64(1), object(1)\n",
      "memory usage: 6.2+ MB\n",
      "None\n",
      "\n",
      "Количество пропусков в колонках /datasets/calls.csv :\n",
      "call_date    0\n",
      "duration     0\n",
      "user_id      0\n",
      "dtype: int64\n",
      "\n",
      "Количество дубликатов в колонках /datasets/calls.csv :\n",
      "8838\n",
      "*********************************************\n",
      "\n",
      "Путь к файлу: /datasets/internet.csv\n"
     ]
    },
    {
     "data": {
      "text/html": [
       "<div>\n",
       "<style scoped>\n",
       "    .dataframe tbody tr th:only-of-type {\n",
       "        vertical-align: middle;\n",
       "    }\n",
       "\n",
       "    .dataframe tbody tr th {\n",
       "        vertical-align: top;\n",
       "    }\n",
       "\n",
       "    .dataframe thead th {\n",
       "        text-align: right;\n",
       "    }\n",
       "</style>\n",
       "<table border=\"1\" class=\"dataframe\">\n",
       "  <thead>\n",
       "    <tr style=\"text-align: right;\">\n",
       "      <th></th>\n",
       "      <th>id</th>\n",
       "      <th>mb_used</th>\n",
       "      <th>session_date</th>\n",
       "      <th>user_id</th>\n",
       "    </tr>\n",
       "  </thead>\n",
       "  <tbody>\n",
       "    <tr>\n",
       "      <td>0</td>\n",
       "      <td>1000_0</td>\n",
       "      <td>112.95</td>\n",
       "      <td>2018-11-25</td>\n",
       "      <td>1000</td>\n",
       "    </tr>\n",
       "    <tr>\n",
       "      <td>1</td>\n",
       "      <td>1000_1</td>\n",
       "      <td>1052.81</td>\n",
       "      <td>2018-09-07</td>\n",
       "      <td>1000</td>\n",
       "    </tr>\n",
       "    <tr>\n",
       "      <td>2</td>\n",
       "      <td>1000_2</td>\n",
       "      <td>1197.26</td>\n",
       "      <td>2018-06-25</td>\n",
       "      <td>1000</td>\n",
       "    </tr>\n",
       "    <tr>\n",
       "      <td>3</td>\n",
       "      <td>1000_3</td>\n",
       "      <td>550.27</td>\n",
       "      <td>2018-08-22</td>\n",
       "      <td>1000</td>\n",
       "    </tr>\n",
       "    <tr>\n",
       "      <td>4</td>\n",
       "      <td>1000_4</td>\n",
       "      <td>302.56</td>\n",
       "      <td>2018-09-24</td>\n",
       "      <td>1000</td>\n",
       "    </tr>\n",
       "  </tbody>\n",
       "</table>\n",
       "</div>"
      ],
      "text/plain": [
       "       id  mb_used session_date  user_id\n",
       "0  1000_0   112.95   2018-11-25     1000\n",
       "1  1000_1  1052.81   2018-09-07     1000\n",
       "2  1000_2  1197.26   2018-06-25     1000\n",
       "3  1000_3   550.27   2018-08-22     1000\n",
       "4  1000_4   302.56   2018-09-24     1000"
      ]
     },
     "metadata": {},
     "output_type": "display_data"
    },
    {
     "name": "stdout",
     "output_type": "stream",
     "text": [
      "<class 'pandas.core.frame.DataFrame'>\n",
      "Int64Index: 149396 entries, 0 to 149395\n",
      "Data columns (total 4 columns):\n",
      "id              149396 non-null object\n",
      "mb_used         149396 non-null float64\n",
      "session_date    149396 non-null object\n",
      "user_id         149396 non-null int64\n",
      "dtypes: float64(1), int64(1), object(2)\n",
      "memory usage: 5.7+ MB\n",
      "None\n",
      "\n",
      "Количество пропусков в колонках /datasets/internet.csv :\n",
      "id              0\n",
      "mb_used         0\n",
      "session_date    0\n",
      "user_id         0\n",
      "dtype: int64\n",
      "\n",
      "Количество дубликатов в колонках /datasets/internet.csv :\n",
      "0\n",
      "*********************************************\n",
      "\n",
      "Путь к файлу: /datasets/messages.csv\n"
     ]
    },
    {
     "data": {
      "text/html": [
       "<div>\n",
       "<style scoped>\n",
       "    .dataframe tbody tr th:only-of-type {\n",
       "        vertical-align: middle;\n",
       "    }\n",
       "\n",
       "    .dataframe tbody tr th {\n",
       "        vertical-align: top;\n",
       "    }\n",
       "\n",
       "    .dataframe thead th {\n",
       "        text-align: right;\n",
       "    }\n",
       "</style>\n",
       "<table border=\"1\" class=\"dataframe\">\n",
       "  <thead>\n",
       "    <tr style=\"text-align: right;\">\n",
       "      <th></th>\n",
       "      <th>message_date</th>\n",
       "      <th>user_id</th>\n",
       "    </tr>\n",
       "    <tr>\n",
       "      <th>id</th>\n",
       "      <th></th>\n",
       "      <th></th>\n",
       "    </tr>\n",
       "  </thead>\n",
       "  <tbody>\n",
       "    <tr>\n",
       "      <td>1000_0</td>\n",
       "      <td>2018-06-27</td>\n",
       "      <td>1000</td>\n",
       "    </tr>\n",
       "    <tr>\n",
       "      <td>1000_1</td>\n",
       "      <td>2018-10-08</td>\n",
       "      <td>1000</td>\n",
       "    </tr>\n",
       "    <tr>\n",
       "      <td>1000_2</td>\n",
       "      <td>2018-08-04</td>\n",
       "      <td>1000</td>\n",
       "    </tr>\n",
       "    <tr>\n",
       "      <td>1000_3</td>\n",
       "      <td>2018-06-16</td>\n",
       "      <td>1000</td>\n",
       "    </tr>\n",
       "    <tr>\n",
       "      <td>1000_4</td>\n",
       "      <td>2018-12-05</td>\n",
       "      <td>1000</td>\n",
       "    </tr>\n",
       "  </tbody>\n",
       "</table>\n",
       "</div>"
      ],
      "text/plain": [
       "       message_date  user_id\n",
       "id                          \n",
       "1000_0   2018-06-27     1000\n",
       "1000_1   2018-10-08     1000\n",
       "1000_2   2018-08-04     1000\n",
       "1000_3   2018-06-16     1000\n",
       "1000_4   2018-12-05     1000"
      ]
     },
     "metadata": {},
     "output_type": "display_data"
    },
    {
     "name": "stdout",
     "output_type": "stream",
     "text": [
      "<class 'pandas.core.frame.DataFrame'>\n",
      "Index: 123036 entries, 1000_0 to 1499_183\n",
      "Data columns (total 2 columns):\n",
      "message_date    123036 non-null object\n",
      "user_id         123036 non-null int64\n",
      "dtypes: int64(1), object(1)\n",
      "memory usage: 2.8+ MB\n",
      "None\n",
      "\n",
      "Количество пропусков в колонках /datasets/messages.csv :\n",
      "message_date    0\n",
      "user_id         0\n",
      "dtype: int64\n",
      "\n",
      "Количество дубликатов в колонках /datasets/messages.csv :\n",
      "70379\n",
      "*********************************************\n",
      "\n",
      "Путь к файлу: /datasets/tariffs.csv\n"
     ]
    },
    {
     "data": {
      "text/html": [
       "<div>\n",
       "<style scoped>\n",
       "    .dataframe tbody tr th:only-of-type {\n",
       "        vertical-align: middle;\n",
       "    }\n",
       "\n",
       "    .dataframe tbody tr th {\n",
       "        vertical-align: top;\n",
       "    }\n",
       "\n",
       "    .dataframe thead th {\n",
       "        text-align: right;\n",
       "    }\n",
       "</style>\n",
       "<table border=\"1\" class=\"dataframe\">\n",
       "  <thead>\n",
       "    <tr style=\"text-align: right;\">\n",
       "      <th></th>\n",
       "      <th>mb_per_month_included</th>\n",
       "      <th>minutes_included</th>\n",
       "      <th>rub_monthly_fee</th>\n",
       "      <th>rub_per_gb</th>\n",
       "      <th>rub_per_message</th>\n",
       "      <th>rub_per_minute</th>\n",
       "      <th>tariff_name</th>\n",
       "    </tr>\n",
       "    <tr>\n",
       "      <th>messages_included</th>\n",
       "      <th></th>\n",
       "      <th></th>\n",
       "      <th></th>\n",
       "      <th></th>\n",
       "      <th></th>\n",
       "      <th></th>\n",
       "      <th></th>\n",
       "    </tr>\n",
       "  </thead>\n",
       "  <tbody>\n",
       "    <tr>\n",
       "      <td>50</td>\n",
       "      <td>15360</td>\n",
       "      <td>500</td>\n",
       "      <td>550</td>\n",
       "      <td>200</td>\n",
       "      <td>3</td>\n",
       "      <td>3</td>\n",
       "      <td>smart</td>\n",
       "    </tr>\n",
       "    <tr>\n",
       "      <td>1000</td>\n",
       "      <td>30720</td>\n",
       "      <td>3000</td>\n",
       "      <td>1950</td>\n",
       "      <td>150</td>\n",
       "      <td>1</td>\n",
       "      <td>1</td>\n",
       "      <td>ultra</td>\n",
       "    </tr>\n",
       "  </tbody>\n",
       "</table>\n",
       "</div>"
      ],
      "text/plain": [
       "                   mb_per_month_included  minutes_included  rub_monthly_fee  \\\n",
       "messages_included                                                             \n",
       "50                                 15360               500              550   \n",
       "1000                               30720              3000             1950   \n",
       "\n",
       "                   rub_per_gb  rub_per_message  rub_per_minute tariff_name  \n",
       "messages_included                                                           \n",
       "50                        200                3               3       smart  \n",
       "1000                      150                1               1       ultra  "
      ]
     },
     "metadata": {},
     "output_type": "display_data"
    },
    {
     "name": "stdout",
     "output_type": "stream",
     "text": [
      "<class 'pandas.core.frame.DataFrame'>\n",
      "Int64Index: 2 entries, 50 to 1000\n",
      "Data columns (total 7 columns):\n",
      "mb_per_month_included    2 non-null int64\n",
      "minutes_included         2 non-null int64\n",
      "rub_monthly_fee          2 non-null int64\n",
      "rub_per_gb               2 non-null int64\n",
      "rub_per_message          2 non-null int64\n",
      "rub_per_minute           2 non-null int64\n",
      "tariff_name              2 non-null object\n",
      "dtypes: int64(6), object(1)\n",
      "memory usage: 128.0+ bytes\n",
      "None\n",
      "\n",
      "Количество пропусков в колонках /datasets/tariffs.csv :\n",
      "mb_per_month_included    0\n",
      "minutes_included         0\n",
      "rub_monthly_fee          0\n",
      "rub_per_gb               0\n",
      "rub_per_message          0\n",
      "rub_per_minute           0\n",
      "tariff_name              0\n",
      "dtype: int64\n",
      "\n",
      "Количество дубликатов в колонках /datasets/tariffs.csv :\n",
      "0\n",
      "*********************************************\n",
      "\n",
      "Путь к файлу: /datasets/users.csv\n"
     ]
    },
    {
     "data": {
      "text/html": [
       "<div>\n",
       "<style scoped>\n",
       "    .dataframe tbody tr th:only-of-type {\n",
       "        vertical-align: middle;\n",
       "    }\n",
       "\n",
       "    .dataframe tbody tr th {\n",
       "        vertical-align: top;\n",
       "    }\n",
       "\n",
       "    .dataframe thead th {\n",
       "        text-align: right;\n",
       "    }\n",
       "</style>\n",
       "<table border=\"1\" class=\"dataframe\">\n",
       "  <thead>\n",
       "    <tr style=\"text-align: right;\">\n",
       "      <th></th>\n",
       "      <th>age</th>\n",
       "      <th>churn_date</th>\n",
       "      <th>city</th>\n",
       "      <th>first_name</th>\n",
       "      <th>last_name</th>\n",
       "      <th>reg_date</th>\n",
       "      <th>tariff</th>\n",
       "    </tr>\n",
       "    <tr>\n",
       "      <th>user_id</th>\n",
       "      <th></th>\n",
       "      <th></th>\n",
       "      <th></th>\n",
       "      <th></th>\n",
       "      <th></th>\n",
       "      <th></th>\n",
       "      <th></th>\n",
       "    </tr>\n",
       "  </thead>\n",
       "  <tbody>\n",
       "    <tr>\n",
       "      <td>1000</td>\n",
       "      <td>52</td>\n",
       "      <td>NaN</td>\n",
       "      <td>Краснодар</td>\n",
       "      <td>Рафаил</td>\n",
       "      <td>Верещагин</td>\n",
       "      <td>2018-05-25</td>\n",
       "      <td>ultra</td>\n",
       "    </tr>\n",
       "    <tr>\n",
       "      <td>1001</td>\n",
       "      <td>41</td>\n",
       "      <td>NaN</td>\n",
       "      <td>Москва</td>\n",
       "      <td>Иван</td>\n",
       "      <td>Ежов</td>\n",
       "      <td>2018-11-01</td>\n",
       "      <td>smart</td>\n",
       "    </tr>\n",
       "    <tr>\n",
       "      <td>1002</td>\n",
       "      <td>59</td>\n",
       "      <td>NaN</td>\n",
       "      <td>Стерлитамак</td>\n",
       "      <td>Евгений</td>\n",
       "      <td>Абрамович</td>\n",
       "      <td>2018-06-17</td>\n",
       "      <td>smart</td>\n",
       "    </tr>\n",
       "    <tr>\n",
       "      <td>1003</td>\n",
       "      <td>23</td>\n",
       "      <td>NaN</td>\n",
       "      <td>Москва</td>\n",
       "      <td>Белла</td>\n",
       "      <td>Белякова</td>\n",
       "      <td>2018-08-17</td>\n",
       "      <td>ultra</td>\n",
       "    </tr>\n",
       "    <tr>\n",
       "      <td>1004</td>\n",
       "      <td>68</td>\n",
       "      <td>NaN</td>\n",
       "      <td>Новокузнецк</td>\n",
       "      <td>Татьяна</td>\n",
       "      <td>Авдеенко</td>\n",
       "      <td>2018-05-14</td>\n",
       "      <td>ultra</td>\n",
       "    </tr>\n",
       "  </tbody>\n",
       "</table>\n",
       "</div>"
      ],
      "text/plain": [
       "         age churn_date         city first_name  last_name    reg_date tariff\n",
       "user_id                                                                      \n",
       "1000      52        NaN    Краснодар     Рафаил  Верещагин  2018-05-25  ultra\n",
       "1001      41        NaN       Москва       Иван       Ежов  2018-11-01  smart\n",
       "1002      59        NaN  Стерлитамак    Евгений  Абрамович  2018-06-17  smart\n",
       "1003      23        NaN       Москва      Белла   Белякова  2018-08-17  ultra\n",
       "1004      68        NaN  Новокузнецк    Татьяна   Авдеенко  2018-05-14  ultra"
      ]
     },
     "metadata": {},
     "output_type": "display_data"
    },
    {
     "name": "stdout",
     "output_type": "stream",
     "text": [
      "<class 'pandas.core.frame.DataFrame'>\n",
      "Int64Index: 500 entries, 1000 to 1499\n",
      "Data columns (total 7 columns):\n",
      "age           500 non-null int64\n",
      "churn_date    38 non-null object\n",
      "city          500 non-null object\n",
      "first_name    500 non-null object\n",
      "last_name     500 non-null object\n",
      "reg_date      500 non-null object\n",
      "tariff        500 non-null object\n",
      "dtypes: int64(1), object(6)\n",
      "memory usage: 31.2+ KB\n",
      "None\n",
      "\n",
      "Количество пропусков в колонках /datasets/users.csv :\n",
      "age             0\n",
      "churn_date    462\n",
      "city            0\n",
      "first_name      0\n",
      "last_name       0\n",
      "reg_date        0\n",
      "tariff          0\n",
      "dtype: int64\n",
      "\n",
      "Количество дубликатов в колонках /datasets/users.csv :\n",
      "0\n",
      "*********************************************\n"
     ]
    }
   ],
   "source": [
    "for f in files:\n",
    "    print('\\nПуть к файлу:', f)\n",
    "    display(pd.read_csv(f, index_col=0).head()) #прочитаем файлы из списка\n",
    "    print(pd.read_csv(f, index_col=0).info())\n",
    "    print('\\nКоличество пропусков в колонках', f, ':')\n",
    "    print(pd.read_csv(f, index_col=0).isna().sum()) #проверка на пропуски\n",
    "    print('\\nКоличество дубликатов в колонках', f, ':')\n",
    "    print(pd.read_csv(f, index_col=0).duplicated().sum()) #проверка на дубликаты\n",
    "    print('***' * 15)"
   ]
  },
  {
   "cell_type": "code",
   "execution_count": 4,
   "metadata": {},
   "outputs": [
    {
     "name": "stdout",
     "output_type": "stream",
     "text": [
      "ДЛИТЕЛЬНОСТЬ ЗВОНКОВ\n"
     ]
    },
    {
     "data": {
      "image/png": "[encoded data removed]",
      "text/plain": [
       "<Figure size 432x288 with 1 Axes>"
      ]
     },
     "metadata": {
      "needs_background": "light"
     },
     "output_type": "display_data"
    }
   ],
   "source": [
    "pd.read_csv('/datasets/calls.csv').hist('duration', bins=20)\n",
    "print('ДЛИТЕЛЬНОСТЬ ЗВОНКОВ')"
   ]
  },
  {
   "cell_type": "code",
   "execution_count": 5,
   "metadata": {},
   "outputs": [
    {
     "name": "stdout",
     "output_type": "stream",
     "text": [
      "ИСПОЛЬЗОВАННЫЕ МЕГАБАЙТЫ\n"
     ]
    },
    {
     "data": {
      "image/png": "[encoded data removed]",
      "text/plain": [
       "<Figure size 432x288 with 1 Axes>"
      ]
     },
     "metadata": {
      "needs_background": "light"
     },
     "output_type": "display_data"
    }
   ],
   "source": [
    "pd.read_csv('/datasets/internet.csv').hist('mb_used', bins=20)\n",
    "print('ИСПОЛЬЗОВАННЫЕ МЕГАБАЙТЫ')"
   ]
  },
  {
   "cell_type": "code",
   "execution_count": 6,
   "metadata": {},
   "outputs": [
    {
     "name": "stdout",
     "output_type": "stream",
     "text": [
      "СМС-СООБЩЕНИЯ\n"
     ]
    },
    {
     "data": {
      "image/png": "[encoded data removed]",
      "text/plain": [
       "<Figure size 432x288 with 1 Axes>"
      ]
     },
     "metadata": {
      "needs_background": "light"
     },
     "output_type": "display_data"
    }
   ],
   "source": [
    "pd.read_csv('/datasets/messages.csv').pivot_table(index='user_id', values='id', aggfunc='count').hist(bins=20, label='msg')\n",
    "print('СМС-СООБЩЕНИЯ')"
   ]
  },
  {
   "cell_type": "code",
   "execution_count": 7,
   "metadata": {},
   "outputs": [
    {
     "name": "stdout",
     "output_type": "stream",
     "text": [
      "ВОЗРАСТ ПОЛЬЗОВАТЕЛЕЙ\n"
     ]
    },
    {
     "data": {
      "image/png": "[encoded data removed]",
      "text/plain": [
       "<Figure size 432x288 with 1 Axes>"
      ]
     },
     "metadata": {
      "needs_background": "light"
     },
     "output_type": "display_data"
    }
   ],
   "source": [
    "pd.read_csv('/datasets/users.csv').hist('age', bins=45)\n",
    "print('ВОЗРАСТ ПОЛЬЗОВАТЕЛЕЙ')"
   ]
  },
  {
   "cell_type": "code",
   "execution_count": 8,
   "metadata": {},
   "outputs": [
    {
     "name": "stdout",
     "output_type": "stream",
     "text": [
      "РАСПРЕДЕЛЕНИЕ ПОЛЬЗОВАТЕЛЕЙ ПО ГОРОДАМ\n"
     ]
    },
    {
     "data": {
      "image/png": "[encoded data removed]",
      "text/plain": [
       "<Figure size 1008x360 with 1 Axes>"
      ]
     },
     "metadata": {
      "needs_background": "light"
     },
     "output_type": "display_data"
    }
   ],
   "source": [
    "pd.read_csv('/datasets/users.csv').pivot_table(\n",
    "    index='city', values='user_id', aggfunc='count'\n",
    ").sort_values(by='user_id', ascending=False).plot(kind='bar', figsize=(14, 5))\n",
    "print('РАСПРЕДЕЛЕНИЕ ПОЛЬЗОВАТЕЛЕЙ ПО ГОРОДАМ')"
   ]
  },
  {
   "cell_type": "markdown",
   "metadata": {},
   "source": [
    "### Вывод"
   ]
  },
  {
   "cell_type": "markdown",
   "metadata": {},
   "source": [
    "При первом взгляде на таблицы видно, что во всех столбцах, касающихся даты, должен быть формат datetime, а не object.\n",
    "\n",
    "Дубликатов и пропущенных значений нет ни в одной таблице, кроме users.csv. В users.csv 462 пропуска, которые по условию задачи обозначают, что тариф пользователя не действует. Их можно не обрабатывать, так как на результат они не влияют.\n",
    "\n",
    "Гистограммы длительности звонков и объема интернет-трафика в Мб выявляют необычные пики у нуля. Гистограмма возрастов пользователей не похожа по форме на нормальное распределение, возможно, выборка пользователей для этого слишком мала. Гистограмма для смс-сообщений несимметрична.\n",
    "\n",
    "Больше всего пользователей из Москвы, на втором месте - Санкт-Петербург, где пользователей более чем в два раза меньше. Количество пользователей в каждом из других городов не достигает половины от количества пользователей Санкт-Петербурга."
   ]
  },
  {
   "cell_type": "markdown",
   "metadata": {},
   "source": [
    "## Предобработка данных"
   ]
  },
  {
   "cell_type": "markdown",
   "metadata": {},
   "source": [
    "Считаем файлы в переменные, при этом сменим формат для даты на datetime и создадим колонки с месяцами."
   ]
  },
  {
   "cell_type": "code",
   "execution_count": 9,
   "metadata": {},
   "outputs": [],
   "source": [
    "df_calls = pd.read_csv('/datasets/calls.csv')\n",
    "df_calls['call_date'] = pd.to_datetime(\n",
    "    df_calls['call_date'], format='%Y-%m-%d' #преобразуем формат в datetime\n",
    ")\n",
    "df_calls['month'] = df_calls['call_date'].astype('datetime64[M]')  #номер месяца"
   ]
  },
  {
   "cell_type": "code",
   "execution_count": 10,
   "metadata": {},
   "outputs": [
    {
     "data": {
      "text/plain": [
       "Int64Index([2018], dtype='int64', name='call_date')"
      ]
     },
     "execution_count": 10,
     "metadata": {},
     "output_type": "execute_result"
    }
   ],
   "source": [
    "pd.DatetimeIndex(df_calls['call_date']).year.unique() #проверяем уникальные значения для года"
   ]
  },
  {
   "cell_type": "code",
   "execution_count": 11,
   "metadata": {},
   "outputs": [],
   "source": [
    "df_inter = pd.read_csv('/datasets/internet.csv')\n",
    "df_inter['session_date'] = pd.to_datetime(\n",
    "    df_inter['session_date'], format='%Y-%m-%d' #преобразуем формат в datetime\n",
    ")\n",
    "df_inter['month'] = df_inter['session_date'].astype('datetime64[M]') #номер месяца"
   ]
  },
  {
   "cell_type": "code",
   "execution_count": 12,
   "metadata": {},
   "outputs": [
    {
     "data": {
      "text/plain": [
       "Int64Index([2018], dtype='int64', name='session_date')"
      ]
     },
     "execution_count": 12,
     "metadata": {},
     "output_type": "execute_result"
    }
   ],
   "source": [
    "pd.DatetimeIndex(df_inter['session_date']).year.unique() #проверяем уникальные значения для года"
   ]
  },
  {
   "cell_type": "code",
   "execution_count": 13,
   "metadata": {},
   "outputs": [],
   "source": [
    "df_msg = pd.read_csv('/datasets/messages.csv')\n",
    "df_msg['message_date'] = pd.to_datetime(\n",
    "    df_msg['message_date'], format='%Y-%m-%d' #преобразуем формат в datetime\n",
    ")\n",
    "df_msg['month'] = df_msg['message_date'].astype('datetime64[M]') #номер месяца"
   ]
  },
  {
   "cell_type": "code",
   "execution_count": 14,
   "metadata": {},
   "outputs": [
    {
     "data": {
      "text/plain": [
       "Int64Index([2018], dtype='int64', name='message_date')"
      ]
     },
     "execution_count": 14,
     "metadata": {},
     "output_type": "execute_result"
    }
   ],
   "source": [
    "pd.DatetimeIndex(df_msg['message_date']).year.unique() #проверяем уникальные значения для года"
   ]
  },
  {
   "cell_type": "markdown",
   "metadata": {},
   "source": [
    "Годов, кроме 2018, не обнаружено."
   ]
  },
  {
   "cell_type": "code",
   "execution_count": 15,
   "metadata": {},
   "outputs": [],
   "source": [
    "df_users = pd.read_csv('/datasets/users.csv')"
   ]
  },
  {
   "cell_type": "code",
   "execution_count": 16,
   "metadata": {},
   "outputs": [],
   "source": [
    "df_tariffs = pd.read_csv('/datasets/tariffs.csv')"
   ]
  },
  {
   "cell_type": "markdown",
   "metadata": {},
   "source": [
    "Проверим данные на подозрительные значения с помощью графиков."
   ]
  },
  {
   "cell_type": "code",
   "execution_count": 17,
   "metadata": {},
   "outputs": [
    {
     "data": {
      "text/plain": [
       "<matplotlib.axes._subplots.AxesSubplot at 0x7f7bc2c77390>"
      ]
     },
     "execution_count": 17,
     "metadata": {},
     "output_type": "execute_result"
    },
    {
     "data": {
      "image/png": "[encoded data removed]",
      "text/plain": [
       "<Figure size 432x288 with 1 Axes>"
      ]
     },
     "metadata": {
      "needs_background": "light"
     },
     "output_type": "display_data"
    }
   ],
   "source": [
    "df_calls.plot(y='duration', title='duration', kind='hist', bins=50)"
   ]
  },
  {
   "cell_type": "markdown",
   "metadata": {},
   "source": [
    "Очень высокий пик \"нулевых\" звонков - это пропущенные звонки."
   ]
  },
  {
   "cell_type": "code",
   "execution_count": 18,
   "metadata": {},
   "outputs": [
    {
     "data": {
      "text/plain": [
       "39613"
      ]
     },
     "execution_count": 18,
     "metadata": {},
     "output_type": "execute_result"
    }
   ],
   "source": [
    "len(df_calls.query('duration == 0')) #количество нулевых значений в df_calls"
   ]
  },
  {
   "cell_type": "code",
   "execution_count": 19,
   "metadata": {},
   "outputs": [
    {
     "data": {
      "text/plain": [
       "<matplotlib.axes._subplots.AxesSubplot at 0x7f7bc2b6ddd0>"
      ]
     },
     "execution_count": 19,
     "metadata": {},
     "output_type": "execute_result"
    },
    {
     "data": {
      "image/png": "[encoded data removed]",
      "text/plain": [
       "<Figure size 432x288 with 1 Axes>"
      ]
     },
     "metadata": {
      "needs_background": "light"
     },
     "output_type": "display_data"
    }
   ],
   "source": [
    "df_inter.plot(y='mb_used', title='mb_used', kind='hist', bins=60)"
   ]
  },
  {
   "cell_type": "markdown",
   "metadata": {},
   "source": [
    "Аналогичная ситуация с интернетом - видимо, часто были случаи, когда загружались килобайты информации, но на мегабайты их не набиралось."
   ]
  },
  {
   "cell_type": "code",
   "execution_count": 20,
   "metadata": {},
   "outputs": [
    {
     "data": {
      "text/plain": [
       "19598"
      ]
     },
     "execution_count": 20,
     "metadata": {},
     "output_type": "execute_result"
    }
   ],
   "source": [
    "len(df_inter.query('mb_used == 0')) #проверим, много случаев, где не потратили ни одного мегабайта"
   ]
  },
  {
   "cell_type": "code",
   "execution_count": 21,
   "metadata": {},
   "outputs": [
    {
     "data": {
      "text/plain": [
       "0"
      ]
     },
     "execution_count": 21,
     "metadata": {},
     "output_type": "execute_result"
    }
   ],
   "source": [
    "len(df_inter.query('mb_used.isna()')) #есть ли пропущенные значения?"
   ]
  },
  {
   "cell_type": "markdown",
   "metadata": {},
   "source": [
    "Пропущенных значений для интернета нет, но есть масса нулевых. Очевидно, что случаи с нулевыми значениями - это дни, когда интернетом не пользовались."
   ]
  },
  {
   "cell_type": "markdown",
   "metadata": {},
   "source": [
    "Мы можем убить двух зайцев сразу: и устранить нулевые значения, и сделать работу с таблицами удобнее. Для этого объединим таблицы с информацией об услугах в единый датафрейм: так как тарифы с помесячной платой, найдем данные по объемам услуг для каждого из пользователей по месяцам с помощью pivot_table. \n",
    "\n",
    "За \"сделанный\" звонок будем считать такой звонок, который длился более 0 секунд, то есть отвеченный звонок - во-первых, только за такой звонок взимается плата, поэтому отвеченные звонки интересуют оператора больше, во-вторых, это не будет искажать показатели средней длительности звонка, если такую метрику потребуется рассчитать в будущем.\n",
    "\n",
    "Затем таблицы данных о звонках, сообщениях и использовании интернета объединим по user_id и month.  Используем метод объединения outer, чтобы информация не потерялась."
   ]
  },
  {
   "cell_type": "code",
   "execution_count": 22,
   "metadata": {},
   "outputs": [],
   "source": [
    "df_calls = df_calls.query('duration != 0').pivot_table( #чтобы учесть в количестве звонков только ненулевые, делаем срез\n",
    "    index=['user_id', 'month'], values='duration', aggfunc=['sum', 'count']\n",
    ")\n",
    "df_inter = df_inter.pivot_table(index=['user_id', 'month'], values='mb_used', aggfunc='sum')\n",
    "df_msg = df_msg.pivot_table(index=['user_id', 'month'], values='id', aggfunc='count') #считаем количество смс с помощью count\n",
    "df_calls.columns = ['calls_duration', 'calls_number'] #переименуем колонки для удобства работы с общим датафреймом в будущем\n",
    "df_msg.columns = ['messages'] #переименуем колонку для удобства работы с общим датафреймом в будущем"
   ]
  },
  {
   "cell_type": "code",
   "execution_count": 23,
   "metadata": {},
   "outputs": [],
   "source": [
    "df_services = df_calls.merge(df_inter, on=['user_id', 'month'], how='outer')\n",
    "df_services = df_services.merge(df_msg, on=['user_id', 'month'], how='outer')"
   ]
  },
  {
   "cell_type": "markdown",
   "metadata": {},
   "source": [
    "Необходимо округлить calls_duration до целочисленных значений вверх во всех случаях (так как даже 1 секунда округляется оператором до минуты)."
   ]
  },
  {
   "cell_type": "code",
   "execution_count": 24,
   "metadata": {},
   "outputs": [],
   "source": [
    "df_services['calls_duration'] = np.ceil(df_services['calls_duration'])"
   ]
  },
  {
   "cell_type": "markdown",
   "metadata": {},
   "source": [
    "Значения mb_used переведем в гигабайты для удобства - тариф учитывает только гигабайты."
   ]
  },
  {
   "cell_type": "code",
   "execution_count": 25,
   "metadata": {},
   "outputs": [],
   "source": [
    "df_services['gb'] = df_services['mb_used'] / 1024 #в 1 гигабайте 1024 мегабайт\n",
    "df_services['gb'] = np.ceil(df_services['gb']) #округляем до целого в большую сторону согласно условиям оператора"
   ]
  },
  {
   "cell_type": "code",
   "execution_count": 26,
   "metadata": {},
   "outputs": [
    {
     "data": {
      "text/plain": [
       "<matplotlib.axes._subplots.AxesSubplot at 0x7f7bcb586a50>"
      ]
     },
     "execution_count": 26,
     "metadata": {},
     "output_type": "execute_result"
    },
    {
     "data": {
      "image/png": "[encoded data removed]",
      "text/plain": [
       "<Figure size 432x288 with 1 Axes>"
      ]
     },
     "metadata": {
      "needs_background": "light"
     },
     "output_type": "display_data"
    }
   ],
   "source": [
    "df_services.plot(y='calls_duration', title='Длительность звонков', kind='hist', bins=60)"
   ]
  },
  {
   "cell_type": "code",
   "execution_count": 27,
   "metadata": {
    "scrolled": true
   },
   "outputs": [
    {
     "data": {
      "text/plain": [
       "<matplotlib.axes._subplots.AxesSubplot at 0x7f7bcb4b4750>"
      ]
     },
     "execution_count": 27,
     "metadata": {},
     "output_type": "execute_result"
    },
    {
     "data": {
      "image/png": "[encoded data removed]",
      "text/plain": [
       "<Figure size 432x288 with 1 Axes>"
      ]
     },
     "metadata": {
      "needs_background": "light"
     },
     "output_type": "display_data"
    }
   ],
   "source": [
    "df_services.plot(y='gb', title='Гб интернета', kind='hist', bins=50)"
   ]
  },
  {
   "cell_type": "markdown",
   "metadata": {},
   "source": [
    "Аномалия с пиками у нуля устранена."
   ]
  },
  {
   "cell_type": "code",
   "execution_count": 28,
   "metadata": {},
   "outputs": [
    {
     "data": {
      "text/plain": [
       "calls_duration    0.014312\n",
       "calls_number      0.014312\n",
       "mb_used           0.003423\n",
       "messages          0.154636\n",
       "gb                0.003423\n",
       "dtype: float64"
      ]
     },
     "execution_count": 28,
     "metadata": {},
     "output_type": "execute_result"
    }
   ],
   "source": [
    "df_services.isna().mean() #определим долю пропусков"
   ]
  },
  {
   "cell_type": "markdown",
   "metadata": {},
   "source": [
    "Так как для объединения был использован способ out, во всех столбцах появились пропущенные значения.\n",
    "\n",
    "Удалять пропущенные значения не будем - они несут в себе информацию о том, что конкретными услугами не пользовались.\n",
    "\n",
    "Из доли пропусков можно сделать выводы: чаще всего не пользуются смс, реже всего не пользуются интернетом."
   ]
  },
  {
   "cell_type": "markdown",
   "metadata": {},
   "source": [
    "Проверим информацию о пользователях на наличие дубликатов, необычных значений."
   ]
  },
  {
   "cell_type": "code",
   "execution_count": 29,
   "metadata": {},
   "outputs": [
    {
     "data": {
      "text/plain": [
       "0"
      ]
     },
     "execution_count": 29,
     "metadata": {},
     "output_type": "execute_result"
    }
   ],
   "source": [
    "df_users.duplicated().sum() #количество дубликатов"
   ]
  },
  {
   "cell_type": "code",
   "execution_count": 30,
   "metadata": {},
   "outputs": [
    {
     "data": {
      "text/plain": [
       "array(['Краснодар', 'Москва', 'Стерлитамак', 'Новокузнецк',\n",
       "       'Набережные Челны', 'Ульяновск', 'Челябинск', 'Пермь', 'Тюмень',\n",
       "       'Самара', 'Санкт-Петербург', 'Иваново', 'Чебоксары', 'Омск', 'Уфа',\n",
       "       'Томск', 'Чита', 'Мурманск', 'Петрозаводск', 'Тверь',\n",
       "       'Екатеринбург', 'Махачкала', 'Вологда', 'Череповец', 'Ярославль',\n",
       "       'Сочи', 'Хабаровск', 'Ставрополь', 'Рязань', 'Улан-Удэ', 'Тула',\n",
       "       'Саратов', 'Ростов-на-Дону', 'Казань', 'Иркутск', 'Курск',\n",
       "       'Калуга', 'Якутск', 'Астрахань', 'Химки', 'Владикавказ',\n",
       "       'Волгоград', 'Саранск', 'Ижевск', 'Новосибирск', 'Брянск',\n",
       "       'Тольятти', 'Нижний Тагил', 'Орёл', 'Белгород', 'Воронеж',\n",
       "       'Волжский', 'Курган', 'Барнаул', 'Красноярск', 'Архангельск',\n",
       "       'Липецк', 'Кемерово', 'Киров', 'Сургут', 'Пенза', 'Магнитогорск',\n",
       "       'Нижний Новгород', 'Кострома', 'Владивосток', 'Тамбов', 'Балашиха',\n",
       "       'Севастополь', 'Калининград', 'Оренбург', 'Смоленск',\n",
       "       'Нижневартовск', 'Владимир', 'Новороссийск', 'Грозный', 'Подольск'],\n",
       "      dtype=object)"
      ]
     },
     "execution_count": 30,
     "metadata": {},
     "output_type": "execute_result"
    }
   ],
   "source": [
    "df_users['city'].unique() #нет ли опечаток в названии городов"
   ]
  },
  {
   "cell_type": "code",
   "execution_count": 31,
   "metadata": {},
   "outputs": [
    {
     "data": {
      "text/plain": [
       "array(['ultra', 'smart'], dtype=object)"
      ]
     },
     "execution_count": 31,
     "metadata": {},
     "output_type": "execute_result"
    }
   ],
   "source": [
    "df_users['tariff'].unique()"
   ]
  },
  {
   "cell_type": "markdown",
   "metadata": {},
   "source": [
    "Сменим тип значений даты в таблице df_users на datetime."
   ]
  },
  {
   "cell_type": "code",
   "execution_count": 32,
   "metadata": {},
   "outputs": [],
   "source": [
    "df_users['churn_date'] = pd.to_datetime(df_users['churn_date'], format='%Y-%m-%d')\n",
    "df_users['reg_date'] = pd.to_datetime(df_users['reg_date'], format='%Y-%m-%d')"
   ]
  },
  {
   "cell_type": "markdown",
   "metadata": {},
   "source": [
    "Добавим данные помесячной выручки с каждого пользователя. Для удобства объединим датафрейм с таблицей, описывающей тарифы."
   ]
  },
  {
   "cell_type": "code",
   "execution_count": 33,
   "metadata": {},
   "outputs": [],
   "source": [
    "df_services = df_services.reset_index() #разделим мультииндекс на столбцы, чтобы облегчить объединение данных из таблиц"
   ]
  },
  {
   "cell_type": "code",
   "execution_count": 34,
   "metadata": {},
   "outputs": [],
   "source": [
    "#добавим в таблицу название тарифа и город, которые будут необходимы для проверки гипотез\n",
    "df_services = df_services.merge(df_users[['user_id', 'tariff', 'city']], on='user_id', how='inner')"
   ]
  },
  {
   "cell_type": "code",
   "execution_count": 35,
   "metadata": {},
   "outputs": [],
   "source": [
    "df_services = df_services.merge(df_tariffs, left_on='tariff', right_on='tariff_name')"
   ]
  },
  {
   "cell_type": "code",
   "execution_count": 36,
   "metadata": {
    "scrolled": true
   },
   "outputs": [
    {
     "data": {
      "text/html": [
       "<div>\n",
       "<style scoped>\n",
       "    .dataframe tbody tr th:only-of-type {\n",
       "        vertical-align: middle;\n",
       "    }\n",
       "\n",
       "    .dataframe tbody tr th {\n",
       "        vertical-align: top;\n",
       "    }\n",
       "\n",
       "    .dataframe thead th {\n",
       "        text-align: right;\n",
       "    }\n",
       "</style>\n",
       "<table border=\"1\" class=\"dataframe\">\n",
       "  <thead>\n",
       "    <tr style=\"text-align: right;\">\n",
       "      <th></th>\n",
       "      <th>user_id</th>\n",
       "      <th>month</th>\n",
       "      <th>calls_duration</th>\n",
       "      <th>calls_number</th>\n",
       "      <th>mb_used</th>\n",
       "      <th>messages</th>\n",
       "      <th>gb</th>\n",
       "      <th>tariff</th>\n",
       "      <th>city</th>\n",
       "      <th>messages_included</th>\n",
       "      <th>mb_per_month_included</th>\n",
       "      <th>minutes_included</th>\n",
       "      <th>rub_monthly_fee</th>\n",
       "      <th>rub_per_gb</th>\n",
       "      <th>rub_per_message</th>\n",
       "      <th>rub_per_minute</th>\n",
       "      <th>tariff_name</th>\n",
       "    </tr>\n",
       "  </thead>\n",
       "  <tbody>\n",
       "    <tr>\n",
       "      <td>0</td>\n",
       "      <td>1000</td>\n",
       "      <td>2018-05-01</td>\n",
       "      <td>151.0</td>\n",
       "      <td>17.0</td>\n",
       "      <td>2253.49</td>\n",
       "      <td>22.0</td>\n",
       "      <td>3.0</td>\n",
       "      <td>ultra</td>\n",
       "      <td>Краснодар</td>\n",
       "      <td>1000</td>\n",
       "      <td>30720</td>\n",
       "      <td>3000</td>\n",
       "      <td>1950</td>\n",
       "      <td>150</td>\n",
       "      <td>1</td>\n",
       "      <td>1</td>\n",
       "      <td>ultra</td>\n",
       "    </tr>\n",
       "    <tr>\n",
       "      <td>1</td>\n",
       "      <td>1000</td>\n",
       "      <td>2018-06-01</td>\n",
       "      <td>159.0</td>\n",
       "      <td>28.0</td>\n",
       "      <td>23233.77</td>\n",
       "      <td>60.0</td>\n",
       "      <td>23.0</td>\n",
       "      <td>ultra</td>\n",
       "      <td>Краснодар</td>\n",
       "      <td>1000</td>\n",
       "      <td>30720</td>\n",
       "      <td>3000</td>\n",
       "      <td>1950</td>\n",
       "      <td>150</td>\n",
       "      <td>1</td>\n",
       "      <td>1</td>\n",
       "      <td>ultra</td>\n",
       "    </tr>\n",
       "    <tr>\n",
       "      <td>2</td>\n",
       "      <td>1000</td>\n",
       "      <td>2018-07-01</td>\n",
       "      <td>319.0</td>\n",
       "      <td>41.0</td>\n",
       "      <td>14003.64</td>\n",
       "      <td>75.0</td>\n",
       "      <td>14.0</td>\n",
       "      <td>ultra</td>\n",
       "      <td>Краснодар</td>\n",
       "      <td>1000</td>\n",
       "      <td>30720</td>\n",
       "      <td>3000</td>\n",
       "      <td>1950</td>\n",
       "      <td>150</td>\n",
       "      <td>1</td>\n",
       "      <td>1</td>\n",
       "      <td>ultra</td>\n",
       "    </tr>\n",
       "    <tr>\n",
       "      <td>3</td>\n",
       "      <td>1000</td>\n",
       "      <td>2018-08-01</td>\n",
       "      <td>390.0</td>\n",
       "      <td>42.0</td>\n",
       "      <td>14055.93</td>\n",
       "      <td>81.0</td>\n",
       "      <td>14.0</td>\n",
       "      <td>ultra</td>\n",
       "      <td>Краснодар</td>\n",
       "      <td>1000</td>\n",
       "      <td>30720</td>\n",
       "      <td>3000</td>\n",
       "      <td>1950</td>\n",
       "      <td>150</td>\n",
       "      <td>1</td>\n",
       "      <td>1</td>\n",
       "      <td>ultra</td>\n",
       "    </tr>\n",
       "    <tr>\n",
       "      <td>4</td>\n",
       "      <td>1000</td>\n",
       "      <td>2018-09-01</td>\n",
       "      <td>441.0</td>\n",
       "      <td>46.0</td>\n",
       "      <td>14568.91</td>\n",
       "      <td>57.0</td>\n",
       "      <td>15.0</td>\n",
       "      <td>ultra</td>\n",
       "      <td>Краснодар</td>\n",
       "      <td>1000</td>\n",
       "      <td>30720</td>\n",
       "      <td>3000</td>\n",
       "      <td>1950</td>\n",
       "      <td>150</td>\n",
       "      <td>1</td>\n",
       "      <td>1</td>\n",
       "      <td>ultra</td>\n",
       "    </tr>\n",
       "  </tbody>\n",
       "</table>\n",
       "</div>"
      ],
      "text/plain": [
       "   user_id      month  calls_duration  calls_number   mb_used  messages    gb  \\\n",
       "0     1000 2018-05-01           151.0          17.0   2253.49      22.0   3.0   \n",
       "1     1000 2018-06-01           159.0          28.0  23233.77      60.0  23.0   \n",
       "2     1000 2018-07-01           319.0          41.0  14003.64      75.0  14.0   \n",
       "3     1000 2018-08-01           390.0          42.0  14055.93      81.0  14.0   \n",
       "4     1000 2018-09-01           441.0          46.0  14568.91      57.0  15.0   \n",
       "\n",
       "  tariff       city  messages_included  mb_per_month_included  \\\n",
       "0  ultra  Краснодар               1000                  30720   \n",
       "1  ultra  Краснодар               1000                  30720   \n",
       "2  ultra  Краснодар               1000                  30720   \n",
       "3  ultra  Краснодар               1000                  30720   \n",
       "4  ultra  Краснодар               1000                  30720   \n",
       "\n",
       "   minutes_included  rub_monthly_fee  rub_per_gb  rub_per_message  \\\n",
       "0              3000             1950         150                1   \n",
       "1              3000             1950         150                1   \n",
       "2              3000             1950         150                1   \n",
       "3              3000             1950         150                1   \n",
       "4              3000             1950         150                1   \n",
       "\n",
       "   rub_per_minute tariff_name  \n",
       "0               1       ultra  \n",
       "1               1       ultra  \n",
       "2               1       ultra  \n",
       "3               1       ultra  \n",
       "4               1       ultra  "
      ]
     },
     "execution_count": 36,
     "metadata": {},
     "output_type": "execute_result"
    }
   ],
   "source": [
    "df_services.head(5)"
   ]
  },
  {
   "cell_type": "markdown",
   "metadata": {},
   "source": [
    "Расчеты:"
   ]
  },
  {
   "cell_type": "code",
   "execution_count": 37,
   "metadata": {},
   "outputs": [],
   "source": [
    "def negative_to_zero(number): #функция, преоразующая отрицательные значения в ноль\n",
    "    if number < 0:\n",
    "        return 0\n",
    "    return number"
   ]
  },
  {
   "cell_type": "code",
   "execution_count": 38,
   "metadata": {},
   "outputs": [],
   "source": [
    "#вычитаем бесплатный лимит из объема фактических услуг\n",
    "df_services['income'] = (\n",
    "    df_services['calls_duration'] - df_services['minutes_included'] #пользователю доплачивать за неиспользованный пакет не будут\n",
    ").apply(negative_to_zero) * df_services['rub_per_minute'] #поэтому отрицательную разность превращаем в ноль\n",
    "#остаток умножаем на значение из тарифного плана\n",
    "df_services['income'] = df_services['income'].fillna(0) #заполняем пропуски выручки нулями, чтобы избежать ошибок расчета"
   ]
  },
  {
   "cell_type": "code",
   "execution_count": 39,
   "metadata": {},
   "outputs": [],
   "source": [
    "df_services['income'] += (\n",
    "df_services['messages'] - df_services['messages_included']\n",
    ").apply(negative_to_zero) * df_services['rub_per_message']\n",
    "df_services['income'] = df_services['income'].fillna(0)"
   ]
  },
  {
   "cell_type": "code",
   "execution_count": 40,
   "metadata": {},
   "outputs": [],
   "source": [
    "df_services['income'] += (\n",
    "df_services['gb'] - (df_services['mb_per_month_included'] / 1024)\n",
    ").apply(negative_to_zero) * df_services['rub_per_gb']\n",
    "df_services['income'] = df_services['income'].fillna(0)"
   ]
  },
  {
   "cell_type": "code",
   "execution_count": 41,
   "metadata": {},
   "outputs": [],
   "source": [
    "df_services['income'] += df_services['rub_monthly_fee'] #прибавляем абонентскую плату, соответствующую тарифному плану"
   ]
  },
  {
   "cell_type": "code",
   "execution_count": 42,
   "metadata": {},
   "outputs": [
    {
     "data": {
      "text/plain": [
       "count    3214.000000\n",
       "mean     1497.439017\n",
       "std       790.553209\n",
       "min       550.000000\n",
       "25%       715.750000\n",
       "50%      1552.500000\n",
       "75%      1950.000000\n",
       "max      6614.000000\n",
       "Name: income, dtype: float64"
      ]
     },
     "execution_count": 42,
     "metadata": {},
     "output_type": "execute_result"
    }
   ],
   "source": [
    "df_services['income'].describe() #минимальное значение соответствует тарифному плану smart"
   ]
  },
  {
   "cell_type": "code",
   "execution_count": 43,
   "metadata": {},
   "outputs": [
    {
     "data": {
      "text/plain": [
       "0"
      ]
     },
     "execution_count": 43,
     "metadata": {},
     "output_type": "execute_result"
    }
   ],
   "source": [
    "df_services['income'].isna().sum() #пропусков нет - для каждого пользователя есть значение помесячной выручки"
   ]
  },
  {
   "cell_type": "markdown",
   "metadata": {},
   "source": [
    "### Вывод"
   ]
  },
  {
   "cell_type": "markdown",
   "metadata": {},
   "source": [
    "В процессе подготовки данных выявлены аномальные пики у нуля для продолжительности звонков и интернет-трафика. Нули для звонков - пропущенные вызовы, нули для интернет-трафика - видимо, трафик не достиг величины мегабайта.\n",
    "\n",
    "Аномальные пики были устранены в ходе группировки данных по месяцам у каждого уникального пользователя, так как столбцы были просуммированы (ноль вклада в сумму не дает). По месяцам распределить данные позволил перевод даты в тип datetime.\n",
    "\n",
    "При анализе оставшихся пропусков был сделан вывод, что чаще интернет - самая популярная услуга, а смс пользуются реже, чем интернетом и звонками.\n",
    "\n",
    "Агрегация данных в единый датафрейм позволила вычислить помесяную выручку каждого пользователя. Минимальная выручка составляет 550 руб. - стоимость пакета тарифа \"Смарт\". Максимальная выручка - 6614 руб. Среднее значение выручки и медиана близки к 1500 руб. - это выше стоимости пакета тарифа \"Смарт\", но ниже стоимости пакета тарифа \"Ультра\". "
   ]
  },
  {
   "cell_type": "markdown",
   "metadata": {},
   "source": [
    "## Анализ данных"
   ]
  },
  {
   "cell_type": "markdown",
   "metadata": {},
   "source": [
    "Запишем в переменную более компактную таблицу с необходимыми данными:"
   ]
  },
  {
   "cell_type": "code",
   "execution_count": 44,
   "metadata": {},
   "outputs": [],
   "source": [
    "monthly_user_info = df_services[[\n",
    "    'user_id', \n",
    "    'month', \n",
    "    'calls_number', \n",
    "    'calls_duration', \n",
    "    'messages', \n",
    "    'gb', \n",
    "    'mb_used',\n",
    "    'income', \n",
    "    'tariff',\n",
    "    'city'\n",
    "]]"
   ]
  },
  {
   "cell_type": "code",
   "execution_count": 45,
   "metadata": {},
   "outputs": [
    {
     "data": {
      "text/html": [
       "<div>\n",
       "<style scoped>\n",
       "    .dataframe tbody tr th:only-of-type {\n",
       "        vertical-align: middle;\n",
       "    }\n",
       "\n",
       "    .dataframe tbody tr th {\n",
       "        vertical-align: top;\n",
       "    }\n",
       "\n",
       "    .dataframe thead th {\n",
       "        text-align: right;\n",
       "    }\n",
       "</style>\n",
       "<table border=\"1\" class=\"dataframe\">\n",
       "  <thead>\n",
       "    <tr style=\"text-align: right;\">\n",
       "      <th></th>\n",
       "      <th>user_id</th>\n",
       "      <th>month</th>\n",
       "      <th>calls_number</th>\n",
       "      <th>calls_duration</th>\n",
       "      <th>messages</th>\n",
       "      <th>gb</th>\n",
       "      <th>mb_used</th>\n",
       "      <th>income</th>\n",
       "      <th>tariff</th>\n",
       "      <th>city</th>\n",
       "    </tr>\n",
       "  </thead>\n",
       "  <tbody>\n",
       "    <tr>\n",
       "      <td>0</td>\n",
       "      <td>1000</td>\n",
       "      <td>2018-05-01</td>\n",
       "      <td>17.0</td>\n",
       "      <td>151.0</td>\n",
       "      <td>22.0</td>\n",
       "      <td>3.0</td>\n",
       "      <td>2253.49</td>\n",
       "      <td>1950.0</td>\n",
       "      <td>ultra</td>\n",
       "      <td>Краснодар</td>\n",
       "    </tr>\n",
       "    <tr>\n",
       "      <td>1</td>\n",
       "      <td>1000</td>\n",
       "      <td>2018-06-01</td>\n",
       "      <td>28.0</td>\n",
       "      <td>159.0</td>\n",
       "      <td>60.0</td>\n",
       "      <td>23.0</td>\n",
       "      <td>23233.77</td>\n",
       "      <td>1950.0</td>\n",
       "      <td>ultra</td>\n",
       "      <td>Краснодар</td>\n",
       "    </tr>\n",
       "    <tr>\n",
       "      <td>2</td>\n",
       "      <td>1000</td>\n",
       "      <td>2018-07-01</td>\n",
       "      <td>41.0</td>\n",
       "      <td>319.0</td>\n",
       "      <td>75.0</td>\n",
       "      <td>14.0</td>\n",
       "      <td>14003.64</td>\n",
       "      <td>1950.0</td>\n",
       "      <td>ultra</td>\n",
       "      <td>Краснодар</td>\n",
       "    </tr>\n",
       "    <tr>\n",
       "      <td>3</td>\n",
       "      <td>1000</td>\n",
       "      <td>2018-08-01</td>\n",
       "      <td>42.0</td>\n",
       "      <td>390.0</td>\n",
       "      <td>81.0</td>\n",
       "      <td>14.0</td>\n",
       "      <td>14055.93</td>\n",
       "      <td>1950.0</td>\n",
       "      <td>ultra</td>\n",
       "      <td>Краснодар</td>\n",
       "    </tr>\n",
       "    <tr>\n",
       "      <td>4</td>\n",
       "      <td>1000</td>\n",
       "      <td>2018-09-01</td>\n",
       "      <td>46.0</td>\n",
       "      <td>441.0</td>\n",
       "      <td>57.0</td>\n",
       "      <td>15.0</td>\n",
       "      <td>14568.91</td>\n",
       "      <td>1950.0</td>\n",
       "      <td>ultra</td>\n",
       "      <td>Краснодар</td>\n",
       "    </tr>\n",
       "  </tbody>\n",
       "</table>\n",
       "</div>"
      ],
      "text/plain": [
       "   user_id      month  calls_number  calls_duration  messages    gb   mb_used  \\\n",
       "0     1000 2018-05-01          17.0           151.0      22.0   3.0   2253.49   \n",
       "1     1000 2018-06-01          28.0           159.0      60.0  23.0  23233.77   \n",
       "2     1000 2018-07-01          41.0           319.0      75.0  14.0  14003.64   \n",
       "3     1000 2018-08-01          42.0           390.0      81.0  14.0  14055.93   \n",
       "4     1000 2018-09-01          46.0           441.0      57.0  15.0  14568.91   \n",
       "\n",
       "   income tariff       city  \n",
       "0  1950.0  ultra  Краснодар  \n",
       "1  1950.0  ultra  Краснодар  \n",
       "2  1950.0  ultra  Краснодар  \n",
       "3  1950.0  ultra  Краснодар  \n",
       "4  1950.0  ultra  Краснодар  "
      ]
     },
     "execution_count": 45,
     "metadata": {},
     "output_type": "execute_result"
    }
   ],
   "source": [
    "monthly_user_info.head()"
   ]
  },
  {
   "cell_type": "markdown",
   "metadata": {},
   "source": [
    "Сколько минут разговора, сколько сообщений и какой объём интернет-трафика требуется пользователям каждого тарифа в месяц?\n",
    "\n",
    "Составим сводную таблицу."
   ]
  },
  {
   "cell_type": "code",
   "execution_count": 46,
   "metadata": {},
   "outputs": [
    {
     "data": {
      "text/html": [
       "<div>\n",
       "<style scoped>\n",
       "    .dataframe tbody tr th:only-of-type {\n",
       "        vertical-align: middle;\n",
       "    }\n",
       "\n",
       "    .dataframe tbody tr th {\n",
       "        vertical-align: top;\n",
       "    }\n",
       "\n",
       "    .dataframe thead tr th {\n",
       "        text-align: left;\n",
       "    }\n",
       "\n",
       "    .dataframe thead tr:last-of-type th {\n",
       "        text-align: right;\n",
       "    }\n",
       "</style>\n",
       "<table border=\"1\" class=\"dataframe\">\n",
       "  <thead>\n",
       "    <tr>\n",
       "      <th></th>\n",
       "      <th colspan=\"3\" halign=\"left\">mean</th>\n",
       "      <th colspan=\"3\" halign=\"left\">var</th>\n",
       "      <th colspan=\"3\" halign=\"left\">std</th>\n",
       "    </tr>\n",
       "    <tr>\n",
       "      <th></th>\n",
       "      <th>calls_duration</th>\n",
       "      <th>gb</th>\n",
       "      <th>messages</th>\n",
       "      <th>calls_duration</th>\n",
       "      <th>gb</th>\n",
       "      <th>messages</th>\n",
       "      <th>calls_duration</th>\n",
       "      <th>gb</th>\n",
       "      <th>messages</th>\n",
       "    </tr>\n",
       "    <tr>\n",
       "      <th>tariff</th>\n",
       "      <th></th>\n",
       "      <th></th>\n",
       "      <th></th>\n",
       "      <th></th>\n",
       "      <th></th>\n",
       "      <th></th>\n",
       "      <th></th>\n",
       "      <th></th>\n",
       "      <th></th>\n",
       "    </tr>\n",
       "  </thead>\n",
       "  <tbody>\n",
       "    <tr>\n",
       "      <td>smart</td>\n",
       "      <td>396.344890</td>\n",
       "      <td>16.336176</td>\n",
       "      <td>38.716441</td>\n",
       "      <td>31945.580998</td>\n",
       "      <td>32.923756</td>\n",
       "      <td>717.594201</td>\n",
       "      <td>178.733268</td>\n",
       "      <td>5.737923</td>\n",
       "      <td>26.787949</td>\n",
       "    </tr>\n",
       "    <tr>\n",
       "      <td>ultra</td>\n",
       "      <td>517.512144</td>\n",
       "      <td>19.694359</td>\n",
       "      <td>61.161006</td>\n",
       "      <td>83228.224747</td>\n",
       "      <td>94.146734</td>\n",
       "      <td>2109.659183</td>\n",
       "      <td>288.493024</td>\n",
       "      <td>9.702924</td>\n",
       "      <td>45.931026</td>\n",
       "    </tr>\n",
       "  </tbody>\n",
       "</table>\n",
       "</div>"
      ],
      "text/plain": [
       "                 mean                                  var             \\\n",
       "       calls_duration         gb   messages calls_duration         gb   \n",
       "tariff                                                                  \n",
       "smart      396.344890  16.336176  38.716441   31945.580998  32.923756   \n",
       "ultra      517.512144  19.694359  61.161006   83228.224747  94.146734   \n",
       "\n",
       "                               std                       \n",
       "           messages calls_duration        gb   messages  \n",
       "tariff                                                   \n",
       "smart    717.594201     178.733268  5.737923  26.787949  \n",
       "ultra   2109.659183     288.493024  9.702924  45.931026  "
      ]
     },
     "execution_count": 46,
     "metadata": {},
     "output_type": "execute_result"
    }
   ],
   "source": [
    "monthly_user_info.pivot_table(index='tariff', values=['calls_duration', 'messages', 'gb'], aggfunc=['mean', 'var', 'std'])"
   ]
  },
  {
   "cell_type": "markdown",
   "metadata": {},
   "source": [
    "Отдельно посчитаем среднее, дисперсию и стандартное отклонение для значений, чтобы записать их переменные."
   ]
  },
  {
   "cell_type": "code",
   "execution_count": 47,
   "metadata": {},
   "outputs": [],
   "source": [
    "smart_call_mean = monthly_user_info.loc[monthly_user_info['tariff'] == 'smart', 'calls_duration'].mean() #среднее\n",
    "#мы исследуем выборку, поэтому присваиваем ddof единицу\n",
    "smart_call_var = np.var(monthly_user_info.loc[monthly_user_info['tariff'] == 'smart', 'calls_duration'], ddof=1) #дисперсия\n",
    "smart_call_std = np.std(monthly_user_info.loc[monthly_user_info['tariff'] == 'smart', 'calls_duration'], ddof=1) #стандартное отклонение"
   ]
  },
  {
   "cell_type": "code",
   "execution_count": 48,
   "metadata": {
    "scrolled": true
   },
   "outputs": [
    {
     "name": "stdout",
     "output_type": "stream",
     "text": [
      "Средняя продолжительность звонка, smart: 396.345\n",
      "Дисперсия для продолжительности звонка, smart: 31945.581\n",
      "Стандартное отклонение для продолжительности звонка, smart: 178.733\n"
     ]
    }
   ],
   "source": [
    "print('Средняя продолжительность звонка, smart: {:.3f}'.format(smart_call_mean))\n",
    "print('Дисперсия для продолжительности звонка, smart: {:.3f}'.format(smart_call_var))\n",
    "print('Стандартное отклонение для продолжительности звонка, smart: {:.3f}'.format(smart_call_std))"
   ]
  },
  {
   "cell_type": "code",
   "execution_count": 49,
   "metadata": {},
   "outputs": [],
   "source": [
    "ultra_call_mean = monthly_user_info.loc[monthly_user_info['tariff'] == 'ultra', 'calls_duration'].mean() #среднее\n",
    "ultra_call_var = np.var(monthly_user_info.loc[monthly_user_info['tariff'] == 'ultra', 'calls_duration'], ddof=1) #дисперсия\n",
    "ultra_call_std = np.std(monthly_user_info.loc[monthly_user_info['tariff'] == 'ultra', 'calls_duration'], ddof=1) #стандартное отклонение"
   ]
  },
  {
   "cell_type": "code",
   "execution_count": 50,
   "metadata": {},
   "outputs": [
    {
     "name": "stdout",
     "output_type": "stream",
     "text": [
      "Средняя продолжительность звонка, ultra: 517.512\n",
      "Дисперсия для продолжительности звонка, ultra: 83228.225\n",
      "Стандартное отклонение для продолжительности звонка, ultra: 288.493\n"
     ]
    }
   ],
   "source": [
    "print('Средняя продолжительность звонка, ultra: {:.3f}'.format(ultra_call_mean))\n",
    "print('Дисперсия для продолжительности звонка, ultra: {:.3f}'.format(ultra_call_var))\n",
    "print('Стандартное отклонение для продолжительности звонка, ultra: {:.3f}'.format(ultra_call_std))"
   ]
  },
  {
   "cell_type": "code",
   "execution_count": 51,
   "metadata": {},
   "outputs": [],
   "source": [
    "smart_msg_mean = monthly_user_info.loc[monthly_user_info['tariff'] == 'smart', 'messages'].mean() #среднее\n",
    "#мы исследуем выборку, поэтому присваиваем ddof единицу\n",
    "smart_msg_var = np.var(monthly_user_info.loc[monthly_user_info['tariff'] == 'smart', 'messages'], ddof=1) #дисперсия\n",
    "smart_msg_std = np.std(monthly_user_info.loc[monthly_user_info['tariff'] == 'smart', 'messages'], ddof=1) #стандартное отклонение"
   ]
  },
  {
   "cell_type": "code",
   "execution_count": 52,
   "metadata": {
    "scrolled": false
   },
   "outputs": [
    {
     "name": "stdout",
     "output_type": "stream",
     "text": [
      "Среднее количество смс, smart: 38.716\n",
      "Дисперсия для количества смс, smart: 717.594\n",
      "Стандартное отклонение для количества смс, smart: 26.788\n"
     ]
    }
   ],
   "source": [
    "print('Среднее количество смс, smart: {:.3f}'.format(smart_msg_mean))\n",
    "print('Дисперсия для количества смс, smart: {:.3f}'.format(smart_msg_var))\n",
    "print('Стандартное отклонение для количества смс, smart: {:.3f}'.format(smart_msg_std))"
   ]
  },
  {
   "cell_type": "code",
   "execution_count": 53,
   "metadata": {},
   "outputs": [],
   "source": [
    "ultra_msg_mean = monthly_user_info.loc[monthly_user_info['tariff'] == 'ultra', 'messages'].mean() #среднее\n",
    "#мы исследуем выборку, поэтому присваиваем ddof единицу\n",
    "ultra_msg_var = np.var(monthly_user_info.loc[monthly_user_info['tariff'] == 'ultra', 'messages'], ddof=1) #дисперсия\n",
    "ultra_msg_std = np.std(monthly_user_info.loc[monthly_user_info['tariff'] == 'ultra', 'messages'], ddof=1) #стандартное отклонение"
   ]
  },
  {
   "cell_type": "code",
   "execution_count": 54,
   "metadata": {
    "scrolled": false
   },
   "outputs": [
    {
     "name": "stdout",
     "output_type": "stream",
     "text": [
      "Среднее количество смс, ultra: 61.161\n",
      "Дисперсия для количества смс, ultra: 2109.659\n",
      "Стандартное отклонение для количества смс, ultra: 45.931\n"
     ]
    }
   ],
   "source": [
    "print('Среднее количество смс, ultra: {:.3f}'.format(ultra_msg_mean))\n",
    "print('Дисперсия для количества смс, ultra: {:.3f}'.format(ultra_msg_var))\n",
    "print('Стандартное отклонение для количества смс, ultra: {:.3f}'.format(ultra_msg_std))"
   ]
  },
  {
   "cell_type": "code",
   "execution_count": 55,
   "metadata": {},
   "outputs": [],
   "source": [
    "smart_gb_mean = monthly_user_info.loc[monthly_user_info['tariff'] == 'smart', 'gb'].mean() #среднее\n",
    "#мы исследуем выборку, поэтому присваиваем ddof единицу\n",
    "smart_gb_var = np.var(monthly_user_info.loc[monthly_user_info['tariff'] == 'smart', 'gb'], ddof=1) #дисперсия\n",
    "smart_gb_std = np.std(monthly_user_info.loc[monthly_user_info['tariff'] == 'smart', 'gb'], ddof=1) #стандартное отклонение"
   ]
  },
  {
   "cell_type": "code",
   "execution_count": 56,
   "metadata": {
    "scrolled": true
   },
   "outputs": [
    {
     "name": "stdout",
     "output_type": "stream",
     "text": [
      "Среднее количество потраченных Гб, smart: 16.336\n",
      "Дисперсия для потраченных Гб, smart: 32.924\n",
      "Стандартное отклонение для потраченных Гб, smart: 5.738\n"
     ]
    }
   ],
   "source": [
    "print('Среднее количество потраченных Гб, smart: {:.3f}'.format(smart_gb_mean))\n",
    "print('Дисперсия для потраченных Гб, smart: {:.3f}'.format(smart_gb_var))\n",
    "print('Стандартное отклонение для потраченных Гб, smart: {:.3f}'.format(smart_gb_std))"
   ]
  },
  {
   "cell_type": "code",
   "execution_count": 57,
   "metadata": {},
   "outputs": [],
   "source": [
    "ultra_gb_mean = monthly_user_info.loc[monthly_user_info['tariff'] == 'ultra', 'gb'].mean() #среднее\n",
    "#мы исследуем выборку, поэтому присваиваем ddof единицу\n",
    "ultra_gb_var = np.var(monthly_user_info.loc[monthly_user_info['tariff'] == 'ultra', 'gb'], ddof=1) #дисперсия\n",
    "ultra_gb_std = np.std(monthly_user_info.loc[monthly_user_info['tariff'] == 'ultra', 'gb'], ddof=1) #стандартное отклонение"
   ]
  },
  {
   "cell_type": "code",
   "execution_count": 58,
   "metadata": {
    "scrolled": true
   },
   "outputs": [
    {
     "name": "stdout",
     "output_type": "stream",
     "text": [
      "Среднее количество потраченных Гб, ultra: 19.694\n",
      "Дисперсия для потраченных Гб, ultra: 94.147\n",
      "Стандартное отклонение для потраченных Гб, ultra: 9.703\n"
     ]
    }
   ],
   "source": [
    "print('Среднее количество потраченных Гб, ultra: {:.3f}'.format(ultra_gb_mean))\n",
    "print('Дисперсия для потраченных Гб, ultra: {:.3f}'.format(ultra_gb_var))\n",
    "print('Стандартное отклонение для потраченных Гб, ultra: {:.3f}'.format(ultra_gb_std))"
   ]
  },
  {
   "cell_type": "markdown",
   "metadata": {},
   "source": [
    "Можем свести данные в маленькие таблицы для наглядности:"
   ]
  },
  {
   "cell_type": "code",
   "execution_count": 59,
   "metadata": {},
   "outputs": [],
   "source": [
    "two_tariffs_call = pd.DataFrame(data={\n",
    "    'smart': [smart_call_mean, smart_call_var, smart_call_std], 'ultra': [ultra_call_mean, ultra_call_var, ultra_call_std]\n",
    "}, index=['mean', 'var', 'std'])"
   ]
  },
  {
   "cell_type": "code",
   "execution_count": 60,
   "metadata": {},
   "outputs": [
    {
     "name": "stdout",
     "output_type": "stream",
     "text": [
      "ЗВОНКИ\n"
     ]
    },
    {
     "data": {
      "text/html": [
       "<div>\n",
       "<style scoped>\n",
       "    .dataframe tbody tr th:only-of-type {\n",
       "        vertical-align: middle;\n",
       "    }\n",
       "\n",
       "    .dataframe tbody tr th {\n",
       "        vertical-align: top;\n",
       "    }\n",
       "\n",
       "    .dataframe thead th {\n",
       "        text-align: right;\n",
       "    }\n",
       "</style>\n",
       "<table border=\"1\" class=\"dataframe\">\n",
       "  <thead>\n",
       "    <tr style=\"text-align: right;\">\n",
       "      <th></th>\n",
       "      <th>smart</th>\n",
       "      <th>ultra</th>\n",
       "    </tr>\n",
       "  </thead>\n",
       "  <tbody>\n",
       "    <tr>\n",
       "      <td>mean</td>\n",
       "      <td>396.344890</td>\n",
       "      <td>517.512144</td>\n",
       "    </tr>\n",
       "    <tr>\n",
       "      <td>var</td>\n",
       "      <td>31945.580998</td>\n",
       "      <td>83228.224747</td>\n",
       "    </tr>\n",
       "    <tr>\n",
       "      <td>std</td>\n",
       "      <td>178.733268</td>\n",
       "      <td>288.493024</td>\n",
       "    </tr>\n",
       "  </tbody>\n",
       "</table>\n",
       "</div>"
      ],
      "text/plain": [
       "             smart         ultra\n",
       "mean    396.344890    517.512144\n",
       "var   31945.580998  83228.224747\n",
       "std     178.733268    288.493024"
      ]
     },
     "execution_count": 60,
     "metadata": {},
     "output_type": "execute_result"
    }
   ],
   "source": [
    "print('ЗВОНКИ')\n",
    "two_tariffs_call"
   ]
  },
  {
   "cell_type": "code",
   "execution_count": 61,
   "metadata": {},
   "outputs": [],
   "source": [
    "two_tariffs_msg = pd.DataFrame(data={\n",
    "    'smart': [smart_msg_mean, smart_msg_var, smart_msg_std], 'ultra': [ultra_msg_mean, ultra_msg_var, ultra_msg_std]\n",
    "}, index=['mean', 'var', 'std'])"
   ]
  },
  {
   "cell_type": "code",
   "execution_count": 62,
   "metadata": {},
   "outputs": [
    {
     "name": "stdout",
     "output_type": "stream",
     "text": [
      "СМС\n"
     ]
    },
    {
     "data": {
      "text/html": [
       "<div>\n",
       "<style scoped>\n",
       "    .dataframe tbody tr th:only-of-type {\n",
       "        vertical-align: middle;\n",
       "    }\n",
       "\n",
       "    .dataframe tbody tr th {\n",
       "        vertical-align: top;\n",
       "    }\n",
       "\n",
       "    .dataframe thead th {\n",
       "        text-align: right;\n",
       "    }\n",
       "</style>\n",
       "<table border=\"1\" class=\"dataframe\">\n",
       "  <thead>\n",
       "    <tr style=\"text-align: right;\">\n",
       "      <th></th>\n",
       "      <th>smart</th>\n",
       "      <th>ultra</th>\n",
       "    </tr>\n",
       "  </thead>\n",
       "  <tbody>\n",
       "    <tr>\n",
       "      <td>mean</td>\n",
       "      <td>38.716441</td>\n",
       "      <td>61.161006</td>\n",
       "    </tr>\n",
       "    <tr>\n",
       "      <td>var</td>\n",
       "      <td>717.594201</td>\n",
       "      <td>2109.659183</td>\n",
       "    </tr>\n",
       "    <tr>\n",
       "      <td>std</td>\n",
       "      <td>26.787949</td>\n",
       "      <td>45.931026</td>\n",
       "    </tr>\n",
       "  </tbody>\n",
       "</table>\n",
       "</div>"
      ],
      "text/plain": [
       "           smart        ultra\n",
       "mean   38.716441    61.161006\n",
       "var   717.594201  2109.659183\n",
       "std    26.787949    45.931026"
      ]
     },
     "execution_count": 62,
     "metadata": {},
     "output_type": "execute_result"
    }
   ],
   "source": [
    "print('СМС')\n",
    "two_tariffs_msg"
   ]
  },
  {
   "cell_type": "code",
   "execution_count": 63,
   "metadata": {},
   "outputs": [],
   "source": [
    "two_tariffs_gb = pd.DataFrame(data={\n",
    "    'smart': [smart_gb_mean, smart_gb_var, smart_gb_std], 'ultra': [ultra_gb_mean, ultra_gb_var, ultra_gb_std]\n",
    "}, index=['mean', 'var', 'std'])"
   ]
  },
  {
   "cell_type": "code",
   "execution_count": 64,
   "metadata": {},
   "outputs": [
    {
     "name": "stdout",
     "output_type": "stream",
     "text": [
      "ИНТЕРНЕТ\n"
     ]
    },
    {
     "data": {
      "text/html": [
       "<div>\n",
       "<style scoped>\n",
       "    .dataframe tbody tr th:only-of-type {\n",
       "        vertical-align: middle;\n",
       "    }\n",
       "\n",
       "    .dataframe tbody tr th {\n",
       "        vertical-align: top;\n",
       "    }\n",
       "\n",
       "    .dataframe thead th {\n",
       "        text-align: right;\n",
       "    }\n",
       "</style>\n",
       "<table border=\"1\" class=\"dataframe\">\n",
       "  <thead>\n",
       "    <tr style=\"text-align: right;\">\n",
       "      <th></th>\n",
       "      <th>smart</th>\n",
       "      <th>ultra</th>\n",
       "    </tr>\n",
       "  </thead>\n",
       "  <tbody>\n",
       "    <tr>\n",
       "      <td>mean</td>\n",
       "      <td>16.336176</td>\n",
       "      <td>19.694359</td>\n",
       "    </tr>\n",
       "    <tr>\n",
       "      <td>var</td>\n",
       "      <td>32.923756</td>\n",
       "      <td>94.146734</td>\n",
       "    </tr>\n",
       "    <tr>\n",
       "      <td>std</td>\n",
       "      <td>5.737923</td>\n",
       "      <td>9.702924</td>\n",
       "    </tr>\n",
       "  </tbody>\n",
       "</table>\n",
       "</div>"
      ],
      "text/plain": [
       "          smart      ultra\n",
       "mean  16.336176  19.694359\n",
       "var   32.923756  94.146734\n",
       "std    5.737923   9.702924"
      ]
     },
     "execution_count": 64,
     "metadata": {},
     "output_type": "execute_result"
    }
   ],
   "source": [
    "print('ИНТЕРНЕТ')\n",
    "two_tariffs_gb"
   ]
  },
  {
   "cell_type": "markdown",
   "metadata": {},
   "source": [
    "Построим гистограммы, дополнительно нормализовав значения по правилу трех сигм, чтобы избавиться от выбросов и графики было легче оценивать."
   ]
  },
  {
   "cell_type": "code",
   "execution_count": 65,
   "metadata": {},
   "outputs": [
    {
     "data": {
      "text/plain": [
       "<matplotlib.axes._subplots.AxesSubplot at 0x7f7bcd235d90>"
      ]
     },
     "execution_count": 65,
     "metadata": {},
     "output_type": "execute_result"
    },
    {
     "data": {
      "image/png": "[encoded data removed]",
      "text/plain": [
       "<Figure size 648x360 with 1 Axes>"
      ]
     },
     "metadata": {
      "needs_background": "light"
     },
     "output_type": "display_data"
    }
   ],
   "source": [
    "monthly_user_info.query(\n",
    "    '(tariff == \"smart\") and ((@smart_call_mean - 3*@smart_call_std) <= calls_duration <= (@smart_call_mean + 3*@smart_call_std))'\n",
    ")['calls_duration'].hist(bins=50, alpha=0.5, figsize=(9, 5))\n",
    "monthly_user_info.query(\n",
    "    '(tariff == \"ultra\") and ((@ultra_call_mean - 3*@ultra_call_std) <= calls_duration <= (@ultra_call_mean + 3*@ultra_call_std))'\n",
    ")['calls_duration'].hist(bins=50, alpha=0.7)"
   ]
  },
  {
   "cell_type": "markdown",
   "metadata": {},
   "source": [
    "Гистограммы похожи на нормальное распределение. Есть обрывы гистограмм слева - нет значений меньше нуля.\n",
    "\n",
    "На гистограмме видно, что ultra в среднем имеет большее высокие значения для продолжительности звонков, чем smart.\n",
    "\n",
    "Гистограмма тарифа ultra имеет большой разброс значений.\n",
    "\n",
    "Пользователи тарифа ultra могут позволить себе говорить по телефону дольше - там, где уже не встречаются значения smart, есть значения для ultra. Лимит по минутам для ultra - 3000, но пользователи ultra не добираются и до половины лимита. Напротив, пользователи smart часто превышают свой лимит в 500 минут."
   ]
  },
  {
   "cell_type": "code",
   "execution_count": 66,
   "metadata": {},
   "outputs": [
    {
     "data": {
      "text/plain": [
       "<matplotlib.axes._subplots.AxesSubplot at 0x7f7bcd16e0d0>"
      ]
     },
     "execution_count": 66,
     "metadata": {},
     "output_type": "execute_result"
    },
    {
     "data": {
      "image/png": "[encoded data removed]",
      "text/plain": [
       "<Figure size 648x360 with 1 Axes>"
      ]
     },
     "metadata": {
      "needs_background": "light"
     },
     "output_type": "display_data"
    }
   ],
   "source": [
    "monthly_user_info.query(\n",
    "    '(tariff == \"smart\") and ((@smart_msg_mean - 3*@smart_msg_std) <= messages <= (@smart_msg_mean + 3*@smart_msg_std))'\n",
    ")['messages'].hist(bins=40, alpha=0.5, figsize=(9, 5))\n",
    "monthly_user_info.query(\n",
    "    '(tariff == \"ultra\") and ((@ultra_msg_mean - 3*@ultra_msg_std) <= messages <= (@ultra_msg_mean + 3*@ultra_msg_std))'\n",
    ")['messages'].hist(bins=40, alpha=0.7)"
   ]
  },
  {
   "cell_type": "markdown",
   "metadata": {},
   "source": [
    "Гистограммы больше напоминают распределение Пуассона, чем нормальное, имеют положительную скошенность. У них обеих обрывы слева, так как значений меньше нуля нет.\n",
    "\n",
    "Самые частые значения находятся в начале горизонтальной оси - пользователи предпочитают укладываться в лимит смс. В тарифе ultra лимит - 1000 сообщений, однако пользователи ultra в целом не добираются даже до 1/5 своего лимита. В то же время, пользователи smart часто превышают свой лимит в 50 смс.\n",
    "\n",
    "Тариф ultra имеет большой разброс значений относительно тарифа smart.\n",
    "\n",
    "Значения количества смс в месяц свыше 125 встречаются только у пользователей тарифа ultra."
   ]
  },
  {
   "cell_type": "code",
   "execution_count": 67,
   "metadata": {
    "scrolled": false
   },
   "outputs": [
    {
     "data": {
      "text/plain": [
       "<matplotlib.axes._subplots.AxesSubplot at 0x7f7bcb350f10>"
      ]
     },
     "execution_count": 67,
     "metadata": {},
     "output_type": "execute_result"
    },
    {
     "data": {
      "image/png": "[encoded data removed]",
      "text/plain": [
       "<Figure size 648x360 with 1 Axes>"
      ]
     },
     "metadata": {
      "needs_background": "light"
     },
     "output_type": "display_data"
    }
   ],
   "source": [
    "monthly_user_info.query(\n",
    "    '(tariff == \"smart\") and ((@smart_gb_mean - 3*@smart_gb_std) <= gb <= (@smart_gb_mean + 3*@smart_gb_std))'\n",
    ")['gb'].hist(bins=50, alpha=0.5, figsize=(9, 5))\n",
    "monthly_user_info.query(\n",
    "    '(tariff == \"ultra\") and ((@ultra_gb_mean - 3*@ultra_gb_std) <= gb <= (@ultra_gb_mean + 3*@ultra_gb_std))'\n",
    ")['gb'].hist(bins=50, alpha=0.7)"
   ]
  },
  {
   "cell_type": "markdown",
   "metadata": {},
   "source": [
    "Гистограммы по форме похожи на нормальное распределение.\n",
    "\n",
    "Четко видно, что среднее значение smart меньше, чем среднее значение ultra, примерно на 3 Гб.\n",
    "\n",
    "Тариф ultra снова имеет большой разброс значений по сравнению со значениями тарифа smart.\n",
    "\n",
    "Пользователи тарифа ultra могут использовать более 35 Гб в месяц, в отличие от пользователей тарифа smart. Для пользователей smart наиболее частым объемом трафика является 12-22 Гб.\n",
    "\n",
    "По гистограмме заметно, что пользователи обоих тарифов часто превышают свои лимиты на интернет-трафик, но чаще это делают пользователи smart. "
   ]
  },
  {
   "cell_type": "markdown",
   "metadata": {},
   "source": [
    "### Вывод"
   ]
  },
  {
   "cell_type": "markdown",
   "metadata": {},
   "source": [
    "Среднее значение продолжительности разговора, смс-сообщений и интернет-трафика оказалось выше у пользователей тарифа \"Ультра\": 517 минут разговора в среднем против 396 минут, 61 смс против 39 смс, почти 20 Гб против 16 Гб. Это неудивительно, так как лимиты на тарифе \"Ультра\" гораздо выше, чем на тарифе \"Смарт\". Разброс значений тарифа \"Ультра\" шире, чем значений тарифа \"Смарт\", что можно объяснить большими лимитами.\n",
    "\n",
    "Выяснилось, что пользователи тарифа \"Смарт\" чаще превышают лимиты и, соответственно, доплачивают за услуги сверх тарифного пакета.\n",
    "\n",
    "Тенденция к превышению лимитов интернет-трафика была выявлена у пользователей обоих тарифов."
   ]
  },
  {
   "cell_type": "markdown",
   "metadata": {},
   "source": [
    "## Проверка гипотез"
   ]
  },
  {
   "cell_type": "markdown",
   "metadata": {},
   "source": [
    "Средняя выручка пользователей тарифов «Ультра» и «Смарт» различаются;\n",
    "средняя выручка пользователей из Москвы отличается от выручки пользователей из других регионов."
   ]
  },
  {
   "cell_type": "markdown",
   "metadata": {},
   "source": [
    "***H₀: средняя выручка пользователей тарифов «Ультра» и «Смарт» равны.***\n",
    "\n",
    "***H₁: средняя выручка пользователей тарифов «Ультра» и «Смарт» не равны.***"
   ]
  },
  {
   "cell_type": "code",
   "execution_count": 68,
   "metadata": {},
   "outputs": [],
   "source": [
    "alpha = 0.05"
   ]
  },
  {
   "cell_type": "code",
   "execution_count": 69,
   "metadata": {},
   "outputs": [],
   "source": [
    "smart_income = monthly_user_info.query('tariff == \"smart\"')['income']\n",
    "ultra_income = monthly_user_info.query('tariff == \"ultra\"')['income']"
   ]
  },
  {
   "cell_type": "code",
   "execution_count": 70,
   "metadata": {},
   "outputs": [
    {
     "name": "stdout",
     "output_type": "stream",
     "text": [
      "Средняя выручка smart: 1244.356\n",
      "Средняя выручка ultra: 2070.152\n"
     ]
    }
   ],
   "source": [
    "print('Средняя выручка smart: {:.3f}'.format(smart_income.mean()))\n",
    "print('Средняя выручка ultra: {:.3f}'.format(ultra_income.mean()))"
   ]
  },
  {
   "cell_type": "code",
   "execution_count": 71,
   "metadata": {},
   "outputs": [
    {
     "name": "stdout",
     "output_type": "stream",
     "text": [
      "p-значение: 2.3037784176255047e-186\n",
      "Отвергаем нулевую гипотезу\n"
     ]
    }
   ],
   "source": [
    "results = st.ttest_ind(smart_income, ultra_income) #гипотеза о равенстве средних двух независимых совокупностей\n",
    "\n",
    "print('p-значение:', results.pvalue)\n",
    "\n",
    "if (results.pvalue < alpha):\n",
    "    print(\"Отвергаем нулевую гипотезу\")\n",
    "else:\n",
    "    print(\"Не получилось отвергнуть нулевую гипотезу\")"
   ]
  },
  {
   "cell_type": "markdown",
   "metadata": {},
   "source": [
    "*Полученное значение p-value говорит о том, что такое же или большее различие в значениях выручки между тарифами получить случайно можно только с крайне малой вероятностью. Это слишком малая вероятность, чтобы делать вывод о незначимом различии между средними значениями выручки тарифов.*\n",
    "\n",
    "**Нулевая гипотеза о равенстве средней выручки пользователей тарифов отвергнута.**"
   ]
  },
  {
   "cell_type": "markdown",
   "metadata": {},
   "source": [
    "~~~"
   ]
  },
  {
   "cell_type": "markdown",
   "metadata": {},
   "source": [
    "***H₀: средняя выручка пользователей из Москвы и других регионов равны.***\n",
    "\n",
    "***H₁: средняя выручка пользователей из Москвы и других регионов не равны.***"
   ]
  },
  {
   "cell_type": "code",
   "execution_count": 72,
   "metadata": {},
   "outputs": [],
   "source": [
    "moscow_income = monthly_user_info.query('city == \"Москва\"')['income']\n",
    "others_income = monthly_user_info.query('city != \"Москва\"')['income']"
   ]
  },
  {
   "cell_type": "code",
   "execution_count": 73,
   "metadata": {
    "scrolled": true
   },
   "outputs": [
    {
     "name": "stdout",
     "output_type": "stream",
     "text": [
      "Средняя выручка, Москва: 1509.334\n",
      "Средняя выручка, другие города: 1494.647\n"
     ]
    }
   ],
   "source": [
    "print('Средняя выручка, Москва: {:.3f}'.format(moscow_income.mean()))\n",
    "print('Средняя выручка, другие города: {:.3f}'.format(others_income.mean()))"
   ]
  },
  {
   "cell_type": "code",
   "execution_count": 74,
   "metadata": {
    "scrolled": true
   },
   "outputs": [
    {
     "name": "stdout",
     "output_type": "stream",
     "text": [
      "p-значение: 0.6794748476607528\n",
      "Не получилось отвергнуть нулевую гипотезу\n"
     ]
    }
   ],
   "source": [
    "results_city = st.ttest_ind(moscow_income, others_income) #гипотеза о равенстве средних двух независимых совокупностей\n",
    "\n",
    "print('p-значение:', results_city.pvalue)\n",
    "\n",
    "if (results_city.pvalue < alpha):\n",
    "    print(\"Отвергаем нулевую гипотезу\")\n",
    "else:\n",
    "    print(\"Не получилось отвергнуть нулевую гипотезу\")"
   ]
  },
  {
   "cell_type": "markdown",
   "metadata": {},
   "source": [
    "*Полученное значение p-value говорит о том, такое же или большее различие в значениях выручки между Москвой и другими городами можно получить случайно с вероятностью почти 70%. Это слишком большая вероятность, чтобы делать вывод о значимом различии между средними значениями выручки.*\n",
    "\n",
    "**Нулевая гипотеза о равенстве средней выручки пользователей из Москвы и других регионов не может быть отвергнута.**"
   ]
  },
  {
   "cell_type": "markdown",
   "metadata": {},
   "source": [
    "Нулевые гипотезы были сформулированы исходя из того, что нулевая гипотеза всегда должна содержать знак равенства.\n",
    "\n",
    "Использован t-критерий Стьюдента, так как нам нужна оценка статистической значимости разности двух выборочных средних, а имеем мы не слишком большие выборки с большим разбросом значений."
   ]
  },
  {
   "cell_type": "markdown",
   "metadata": {},
   "source": [
    "### Вывод"
   ]
  },
  {
   "cell_type": "markdown",
   "metadata": {},
   "source": [
    "Средняя выручка пользователей тарифа \"Ультра\" оказалась статистически значимо больше средней выручки пользователей тарифа \"Смарт\" - 2070 руб. против 1244 руб.\n",
    "\n",
    "Статистически значимых различий между выручкой пользователей из Москвы и других регионов выявлено не было. Средняя выручка пользователей из Москвы и других городов приблизительно равна 1500 руб.\n",
    "\n",
    "Использован подход гипотезы о равенстве средних двух генеральных совокупностей, метод ttest_ind из stats, так как мы проверяли две независимые выборки."
   ]
  },
  {
   "cell_type": "markdown",
   "metadata": {},
   "source": [
    "## Общий вывод"
   ]
  },
  {
   "cell_type": "markdown",
   "metadata": {},
   "source": [
    "В ходе выполнения проекта были проанализированы данные о пользователях тарифов \"Смарт\" и \"Ультра\" оператора сотовой связи.\n",
    "\n",
    "В процессе подготовки данных выявлены и устранены с помощью группировки по месяцам и срезов данных аномальные пики у нуля для продолжительности звонков и интернет-трафика, которые по сути означали отсутствие факта \"использования\", а значит и последующей оплаты услуги. \n",
    "\n",
    "Еще на этапе подготовки данных на основании доли пропусков в столбцах длительности и количества звонков, количества смс-сообщений и объема интернет-трафика было выявлено, что интернет - самая популярная услуга, а смс пользуются реже, чем интернетом и звонками.\n",
    "\n",
    "Минимальная выручка пользователя составляет 550 рублей (стоимость пакета тарифа \"Смарт\"), максимальная - 6614 рублей. Среднее значение выручки составляет примерно 1500 руб.\n",
    "\n",
    "- Среднее значение продолжительности разговора у пользователей тарифа \"Ультра\" - 517 минут, у пользователей тарифа \"Смарт\" - 396 минут\n",
    "- Среднее количество смс-сообщений у пользователей тарифа \"Ультра\" - 61 смс, у пользователей тарифа \"Смарт\" - 39 смс\n",
    "- Средний объем интернет-трафика у пользователей тарифа \"Ультра\" - 20 Гб, у пользователей тарифа \"Смарт\" - 16 Гб\n",
    " \n",
    "Это легко объяснить тем, что лимиты на тарифе \"Ультра\" гораздо выше, чем на тарифе \"Смарт\". Разброс значений тарифа \"Ультра\" шире, чем значений тарифа \"Смарт\", что также можно объяснить большими лимитами.\n",
    "\n",
    "Кроме того, интересно, что пользователи тарифа \"Смарт\" чаще превышают лимиты своего тарифного пакета и, соответственно, чаще доплачивают за услуги сверх него.\n",
    "\n",
    "Однако часто превышают лимиты интернет-трафика пользователи обоих тарифов. При этом, в отличие от пользователей тарифа \"Смарт\", пользователи тарифа \"Ультра\", судя по гистограммам, лимиты по количеству минут разговора и количеству смс не превышают или практически не превышают (выбросы при построении гистограмм были отсеяны с помощью правила трёх сигм).\n",
    "\n",
    "Статистически значимых различий между выручкой пользователей из Москвы и других регионов выявлено не было, она приблизительно равна 1500 рублям.\n",
    "\n",
    "Средняя выручка пользователей тарифа \"Ультра\" оказалась статистически значимо больше средней выручки пользователей тарифа \"Смарт\" - 2070 рублей против 1244 рублей.\n",
    "\n",
    "Несмотря на то, что пользователи \"Смарт\" чаще переплачивают, больше выручки генерируют пользователи тарифа \"Ультра\".\n",
    "\n",
    "Таким образом, тариф \"Ультра\" прибыльнее.\n",
    "\n",
    "При составлении новых тарифных пакетов можно порекомендовать выделять бо́льшие лимиты на интернет, а на звонки и смс лимиты 1000 минут и 125 сообщений соответственно. Возможно, такой тариф привлечет больше клиентов, так как большое количество пользователей используют свыше 30 Гб в месяц, практически все абоненты при этом укладываются в 1000 минут и 125 смс в месяц. Пользователям не будет казаться, что они переплачивают за неиспользованные минуты и смс."
   ]
  }
 ],
 "metadata": {
  "ExecuteTimeLog": [
   {
    "duration": 1699,
    "start_time": "2021-11-09T14:49:36.989Z"
   },
   {
    "duration": 4,
    "start_time": "2021-11-09T14:49:39.270Z"
   },
   {
    "duration": 463,
    "start_time": "2021-11-09T14:53:50.864Z"
   },
   {
    "duration": 766,
    "start_time": "2021-11-09T14:54:00.077Z"
   },
   {
    "duration": 529,
    "start_time": "2021-11-09T14:54:12.861Z"
   },
   {
    "duration": 769,
    "start_time": "2021-11-09T14:54:22.166Z"
   },
   {
    "duration": 542,
    "start_time": "2021-11-09T14:54:28.637Z"
   },
   {
    "duration": 741,
    "start_time": "2021-11-09T14:54:40.653Z"
   },
   {
    "duration": 580,
    "start_time": "2021-11-09T14:54:48.854Z"
   },
   {
    "duration": 618,
    "start_time": "2021-11-09T14:56:57.532Z"
   },
   {
    "duration": 618,
    "start_time": "2021-11-09T14:57:12.359Z"
   },
   {
    "duration": 595,
    "start_time": "2021-11-09T14:57:35.723Z"
   },
   {
    "duration": 594,
    "start_time": "2021-11-09T14:57:40.775Z"
   },
   {
    "duration": 577,
    "start_time": "2021-11-09T14:57:59.327Z"
   },
   {
    "duration": 1584,
    "start_time": "2021-11-09T15:09:22.474Z"
   },
   {
    "duration": 4,
    "start_time": "2021-11-09T15:09:24.060Z"
   },
   {
    "duration": 631,
    "start_time": "2021-11-09T15:09:24.066Z"
   },
   {
    "duration": 366,
    "start_time": "2021-11-09T15:13:25.915Z"
   },
   {
    "duration": 1522,
    "start_time": "2021-11-09T15:13:30.794Z"
   },
   {
    "duration": 4,
    "start_time": "2021-11-09T15:13:32.318Z"
   },
   {
    "duration": 656,
    "start_time": "2021-11-09T15:13:32.325Z"
   },
   {
    "duration": 3,
    "start_time": "2021-11-09T15:13:32.984Z"
   },
   {
    "duration": 367,
    "start_time": "2021-11-09T15:15:02.487Z"
   },
   {
    "duration": 1804,
    "start_time": "2021-11-09T15:15:08.859Z"
   },
   {
    "duration": 3,
    "start_time": "2021-11-09T15:15:10.666Z"
   },
   {
    "duration": 620,
    "start_time": "2021-11-09T15:15:10.672Z"
   },
   {
    "duration": 551,
    "start_time": "2021-11-09T15:15:14.482Z"
   },
   {
    "duration": 1581,
    "start_time": "2021-11-09T15:16:10.581Z"
   },
   {
    "duration": 4,
    "start_time": "2021-11-09T15:16:12.164Z"
   },
   {
    "duration": 609,
    "start_time": "2021-11-09T15:16:12.170Z"
   },
   {
    "duration": 470,
    "start_time": "2021-11-09T15:16:12.782Z"
   },
   {
    "duration": 1538,
    "start_time": "2021-11-09T15:18:08.898Z"
   },
   {
    "duration": 4,
    "start_time": "2021-11-09T15:18:10.438Z"
   },
   {
    "duration": 843,
    "start_time": "2021-11-09T15:18:10.446Z"
   },
   {
    "duration": 680,
    "start_time": "2021-11-09T15:18:11.292Z"
   },
   {
    "duration": 1527,
    "start_time": "2021-11-09T15:18:39.051Z"
   },
   {
    "duration": 4,
    "start_time": "2021-11-09T15:18:40.582Z"
   },
   {
    "duration": 601,
    "start_time": "2021-11-09T15:18:40.589Z"
   },
   {
    "duration": 459,
    "start_time": "2021-11-09T15:18:41.193Z"
   },
   {
    "duration": 1658,
    "start_time": "2021-11-09T15:19:47.089Z"
   },
   {
    "duration": 4,
    "start_time": "2021-11-09T15:19:48.749Z"
   },
   {
    "duration": 617,
    "start_time": "2021-11-09T15:19:48.756Z"
   },
   {
    "duration": 463,
    "start_time": "2021-11-09T15:19:49.377Z"
   },
   {
    "duration": 1896,
    "start_time": "2021-11-09T15:20:18.677Z"
   },
   {
    "duration": 6,
    "start_time": "2021-11-09T15:20:20.577Z"
   },
   {
    "duration": 880,
    "start_time": "2021-11-09T15:20:20.587Z"
   },
   {
    "duration": 694,
    "start_time": "2021-11-09T15:20:21.470Z"
   },
   {
    "duration": 23,
    "start_time": "2021-11-09T15:20:23.770Z"
   },
   {
    "duration": 29,
    "start_time": "2021-11-09T15:22:48.649Z"
   },
   {
    "duration": 51,
    "start_time": "2021-11-09T15:22:58.482Z"
   },
   {
    "duration": 1519,
    "start_time": "2021-11-09T15:27:57.421Z"
   },
   {
    "duration": 4,
    "start_time": "2021-11-09T15:27:58.942Z"
   },
   {
    "duration": 618,
    "start_time": "2021-11-09T15:27:58.951Z"
   },
   {
    "duration": 638,
    "start_time": "2021-11-09T15:27:59.572Z"
   },
   {
    "duration": 22,
    "start_time": "2021-11-09T15:28:00.213Z"
   },
   {
    "duration": 677,
    "start_time": "2021-11-09T15:28:03.864Z"
   },
   {
    "duration": 323,
    "start_time": "2021-11-09T15:28:21.514Z"
   },
   {
    "duration": 360,
    "start_time": "2021-11-09T15:28:46.546Z"
   },
   {
    "duration": 357,
    "start_time": "2021-11-09T15:29:23.459Z"
   },
   {
    "duration": 32,
    "start_time": "2021-11-09T15:30:52.915Z"
   },
   {
    "duration": 25,
    "start_time": "2021-11-09T15:31:11.409Z"
   },
   {
    "duration": 1499,
    "start_time": "2021-11-09T15:32:28.207Z"
   },
   {
    "duration": 4,
    "start_time": "2021-11-09T15:32:29.709Z"
   },
   {
    "duration": 622,
    "start_time": "2021-11-09T15:32:29.718Z"
   },
   {
    "duration": 469,
    "start_time": "2021-11-09T15:32:30.343Z"
   },
   {
    "duration": 17,
    "start_time": "2021-11-09T15:32:30.814Z"
   },
   {
    "duration": 49,
    "start_time": "2021-11-09T15:32:30.833Z"
   },
   {
    "duration": 23,
    "start_time": "2021-11-09T15:32:30.884Z"
   },
   {
    "duration": 443,
    "start_time": "2021-11-09T15:35:31.704Z"
   },
   {
    "duration": 1431,
    "start_time": "2021-11-09T15:35:41.617Z"
   },
   {
    "duration": 3,
    "start_time": "2021-11-09T15:35:43.050Z"
   },
   {
    "duration": 611,
    "start_time": "2021-11-09T15:35:43.056Z"
   },
   {
    "duration": 453,
    "start_time": "2021-11-09T15:35:43.670Z"
   },
   {
    "duration": 15,
    "start_time": "2021-11-09T15:35:44.127Z"
   },
   {
    "duration": 47,
    "start_time": "2021-11-09T15:35:44.144Z"
   },
   {
    "duration": 8,
    "start_time": "2021-11-09T15:35:56.487Z"
   },
   {
    "duration": 32,
    "start_time": "2021-11-09T15:36:01.449Z"
   },
   {
    "duration": 465,
    "start_time": "2021-11-09T15:37:37.344Z"
   },
   {
    "duration": 39,
    "start_time": "2021-11-09T15:37:44.990Z"
   },
   {
    "duration": 586,
    "start_time": "2021-11-09T15:38:27.622Z"
   },
   {
    "duration": 335,
    "start_time": "2021-11-09T15:38:31.370Z"
   },
   {
    "duration": 4,
    "start_time": "2021-11-09T15:38:48.407Z"
   },
   {
    "duration": 7,
    "start_time": "2021-11-09T15:38:48.414Z"
   },
   {
    "duration": 598,
    "start_time": "2021-11-09T15:38:48.424Z"
   },
   {
    "duration": 476,
    "start_time": "2021-11-09T15:38:49.025Z"
   },
   {
    "duration": 3,
    "start_time": "2021-11-09T15:38:49.503Z"
   },
   {
    "duration": 317,
    "start_time": "2021-11-09T15:38:52.324Z"
   },
   {
    "duration": 218,
    "start_time": "2021-11-09T18:34:10.650Z"
   },
   {
    "duration": 1008,
    "start_time": "2021-11-09T18:35:04.380Z"
   },
   {
    "duration": 1034,
    "start_time": "2021-11-09T18:35:15.656Z"
   },
   {
    "duration": 1117,
    "start_time": "2021-11-09T18:35:29.744Z"
   },
   {
    "duration": 1049,
    "start_time": "2021-11-09T18:35:36.207Z"
   },
   {
    "duration": 1049,
    "start_time": "2021-11-09T18:35:46.078Z"
   },
   {
    "duration": 1048,
    "start_time": "2021-11-09T18:35:57.694Z"
   },
   {
    "duration": 630,
    "start_time": "2021-11-09T18:37:44.282Z"
   },
   {
    "duration": 234,
    "start_time": "2021-11-09T18:37:54.012Z"
   },
   {
    "duration": 19,
    "start_time": "2021-11-09T18:38:04.914Z"
   },
   {
    "duration": 17,
    "start_time": "2021-11-09T18:38:11.491Z"
   },
   {
    "duration": 259,
    "start_time": "2021-11-09T18:39:06.156Z"
   },
   {
    "duration": 19,
    "start_time": "2021-11-09T18:39:08.573Z"
   },
   {
    "duration": 226,
    "start_time": "2021-11-09T18:40:42.561Z"
   },
   {
    "duration": 7480,
    "start_time": "2021-11-09T18:41:15.544Z"
   },
   {
    "duration": 152,
    "start_time": "2021-11-09T18:41:49.958Z"
   },
   {
    "duration": 30,
    "start_time": "2021-11-09T18:43:27.579Z"
   },
   {
    "duration": 19,
    "start_time": "2021-11-09T18:44:48.549Z"
   },
   {
    "duration": 22,
    "start_time": "2021-11-09T18:49:20.628Z"
   },
   {
    "duration": 18,
    "start_time": "2021-11-09T18:49:27.307Z"
   },
   {
    "duration": 19,
    "start_time": "2021-11-09T18:49:33.695Z"
   },
   {
    "duration": 15,
    "start_time": "2021-11-09T18:49:42.671Z"
   },
   {
    "duration": 93,
    "start_time": "2021-11-09T18:51:55.688Z"
   },
   {
    "duration": 20,
    "start_time": "2021-11-09T18:52:02.372Z"
   },
   {
    "duration": 18,
    "start_time": "2021-11-09T18:52:50.747Z"
   },
   {
    "duration": 19,
    "start_time": "2021-11-09T18:53:18.226Z"
   },
   {
    "duration": 21,
    "start_time": "2021-11-09T18:59:11.804Z"
   },
   {
    "duration": 19,
    "start_time": "2021-11-09T18:59:18.875Z"
   },
   {
    "duration": 20,
    "start_time": "2021-11-09T18:59:24.115Z"
   },
   {
    "duration": 8914,
    "start_time": "2021-11-09T19:00:08.310Z"
   },
   {
    "duration": 1241,
    "start_time": "2021-11-09T19:01:33.177Z"
   },
   {
    "duration": 34,
    "start_time": "2021-11-09T19:01:45.914Z"
   },
   {
    "duration": 1389,
    "start_time": "2021-11-09T19:01:56.204Z"
   },
   {
    "duration": 32,
    "start_time": "2021-11-09T19:02:01.231Z"
   },
   {
    "duration": 840,
    "start_time": "2021-11-09T19:04:32.573Z"
   },
   {
    "duration": 21,
    "start_time": "2021-11-09T19:04:37.681Z"
   },
   {
    "duration": 8,
    "start_time": "2021-11-09T19:04:49.725Z"
   },
   {
    "duration": 291,
    "start_time": "2021-11-09T19:07:12.260Z"
   },
   {
    "duration": 8,
    "start_time": "2021-11-09T19:07:17.699Z"
   },
   {
    "duration": 292,
    "start_time": "2021-11-09T19:16:54.454Z"
   },
   {
    "duration": 11,
    "start_time": "2021-11-09T19:16:59.162Z"
   },
   {
    "duration": 5,
    "start_time": "2021-11-09T19:17:08.655Z"
   },
   {
    "duration": 8,
    "start_time": "2021-11-09T19:17:14.549Z"
   },
   {
    "duration": 346,
    "start_time": "2021-11-09T19:18:01.563Z"
   },
   {
    "duration": 14,
    "start_time": "2021-11-09T19:18:39.658Z"
   },
   {
    "duration": 20,
    "start_time": "2021-11-09T19:18:44.820Z"
   },
   {
    "duration": 4,
    "start_time": "2021-11-09T19:20:25.196Z"
   },
   {
    "duration": 5,
    "start_time": "2021-11-09T19:20:25.204Z"
   },
   {
    "duration": 1151,
    "start_time": "2021-11-09T19:20:25.212Z"
   },
   {
    "duration": 269,
    "start_time": "2021-11-09T19:20:26.366Z"
   },
   {
    "duration": 224,
    "start_time": "2021-11-09T19:20:26.638Z"
   },
   {
    "duration": 169,
    "start_time": "2021-11-09T19:20:26.866Z"
   },
   {
    "duration": 10,
    "start_time": "2021-11-09T19:20:27.038Z"
   },
   {
    "duration": 7,
    "start_time": "2021-11-09T19:20:27.050Z"
   },
   {
    "duration": 130,
    "start_time": "2021-11-09T19:20:27.059Z"
   },
   {
    "duration": 27,
    "start_time": "2021-11-09T19:20:33.462Z"
   },
   {
    "duration": 22,
    "start_time": "2021-11-09T19:20:36.503Z"
   },
   {
    "duration": 770,
    "start_time": "2021-11-09T19:21:00.558Z"
   },
   {
    "duration": 126,
    "start_time": "2021-11-09T19:21:15.253Z"
   },
   {
    "duration": 15,
    "start_time": "2021-11-09T19:21:23.189Z"
   },
   {
    "duration": 30,
    "start_time": "2021-11-09T19:21:28.012Z"
   },
   {
    "duration": 5,
    "start_time": "2021-11-09T19:22:55.349Z"
   },
   {
    "duration": 29,
    "start_time": "2021-11-09T19:23:24.204Z"
   },
   {
    "duration": 578,
    "start_time": "2021-11-09T19:23:39.273Z"
   },
   {
    "duration": 304,
    "start_time": "2021-11-09T19:23:53.570Z"
   },
   {
    "duration": 3,
    "start_time": "2021-11-09T19:24:15.719Z"
   },
   {
    "duration": 7,
    "start_time": "2021-11-09T19:24:15.725Z"
   },
   {
    "duration": 1067,
    "start_time": "2021-11-09T19:24:15.735Z"
   },
   {
    "duration": 263,
    "start_time": "2021-11-09T19:24:16.805Z"
   },
   {
    "duration": 212,
    "start_time": "2021-11-09T19:24:17.071Z"
   },
   {
    "duration": 163,
    "start_time": "2021-11-09T19:24:17.286Z"
   },
   {
    "duration": 15,
    "start_time": "2021-11-09T19:24:17.451Z"
   },
   {
    "duration": 8,
    "start_time": "2021-11-09T19:24:17.486Z"
   },
   {
    "duration": 121,
    "start_time": "2021-11-09T19:24:17.496Z"
   },
   {
    "duration": 26,
    "start_time": "2021-11-09T19:24:17.619Z"
   },
   {
    "duration": 45,
    "start_time": "2021-11-09T19:24:17.647Z"
   },
   {
    "duration": 343,
    "start_time": "2021-11-09T19:24:26.636Z"
   },
   {
    "duration": 14,
    "start_time": "2021-11-09T19:24:41.747Z"
   },
   {
    "duration": 30,
    "start_time": "2021-11-09T19:24:44.195Z"
   },
   {
    "duration": 7,
    "start_time": "2021-11-09T19:25:02.846Z"
   },
   {
    "duration": 35,
    "start_time": "2021-11-09T19:25:08.195Z"
   },
   {
    "duration": 5,
    "start_time": "2021-11-09T19:25:57.868Z"
   },
   {
    "duration": 9,
    "start_time": "2021-11-09T19:25:57.877Z"
   },
   {
    "duration": 1068,
    "start_time": "2021-11-09T19:25:57.890Z"
   },
   {
    "duration": 256,
    "start_time": "2021-11-09T19:25:58.961Z"
   },
   {
    "duration": 210,
    "start_time": "2021-11-09T19:25:59.219Z"
   },
   {
    "duration": 152,
    "start_time": "2021-11-09T19:25:59.432Z"
   },
   {
    "duration": 10,
    "start_time": "2021-11-09T19:25:59.587Z"
   },
   {
    "duration": 7,
    "start_time": "2021-11-09T19:25:59.599Z"
   },
   {
    "duration": 128,
    "start_time": "2021-11-09T19:25:59.608Z"
   },
   {
    "duration": 43,
    "start_time": "2021-11-09T19:25:59.739Z"
   },
   {
    "duration": 32,
    "start_time": "2021-11-09T19:25:59.786Z"
   },
   {
    "duration": 35,
    "start_time": "2021-11-09T19:26:06.329Z"
   },
   {
    "duration": 8786,
    "start_time": "2021-11-09T19:26:37.524Z"
   },
   {
    "duration": 7469,
    "start_time": "2021-11-09T19:26:49.819Z"
   },
   {
    "duration": 8676,
    "start_time": "2021-11-09T19:26:57.889Z"
   },
   {
    "duration": 6924,
    "start_time": "2021-11-09T19:27:07.119Z"
   },
   {
    "duration": 8457,
    "start_time": "2021-11-09T19:27:26.014Z"
   },
   {
    "duration": 350,
    "start_time": "2021-11-09T19:27:39.374Z"
   },
   {
    "duration": 308,
    "start_time": "2021-11-09T19:30:22.303Z"
   },
   {
    "duration": 10,
    "start_time": "2021-11-09T19:30:29.580Z"
   },
   {
    "duration": 16,
    "start_time": "2021-11-09T19:30:43.934Z"
   },
   {
    "duration": 17,
    "start_time": "2021-11-09T19:30:48.772Z"
   },
   {
    "duration": 19,
    "start_time": "2021-11-09T19:31:02.222Z"
   },
   {
    "duration": 106,
    "start_time": "2021-11-09T19:31:17.814Z"
   },
   {
    "duration": 104,
    "start_time": "2021-11-09T19:33:13.517Z"
   },
   {
    "duration": 304,
    "start_time": "2021-11-09T19:33:17.809Z"
   },
   {
    "duration": 290,
    "start_time": "2021-11-09T19:33:24.549Z"
   },
   {
    "duration": 24,
    "start_time": "2021-11-09T19:34:31.175Z"
   },
   {
    "duration": 321,
    "start_time": "2021-11-09T19:34:44.235Z"
   },
   {
    "duration": 24,
    "start_time": "2021-11-09T19:34:50.335Z"
   },
   {
    "duration": 16,
    "start_time": "2021-11-09T19:35:02.628Z"
   },
   {
    "duration": 15,
    "start_time": "2021-11-09T19:35:07.114Z"
   },
   {
    "duration": 19,
    "start_time": "2021-11-09T19:35:10.664Z"
   },
   {
    "duration": 15,
    "start_time": "2021-11-09T19:35:15.854Z"
   },
   {
    "duration": 101,
    "start_time": "2021-11-09T19:35:20.501Z"
   },
   {
    "duration": 10,
    "start_time": "2021-11-09T19:35:26.140Z"
   },
   {
    "duration": 15,
    "start_time": "2021-11-09T19:35:33.132Z"
   },
   {
    "duration": 14,
    "start_time": "2021-11-09T19:35:41.637Z"
   },
   {
    "duration": 1266,
    "start_time": "2021-11-09T19:35:45.341Z"
   },
   {
    "duration": 15,
    "start_time": "2021-11-09T19:35:56.553Z"
   },
   {
    "duration": 138,
    "start_time": "2021-11-09T19:36:00.200Z"
   },
   {
    "duration": 107,
    "start_time": "2021-11-09T19:36:05.915Z"
   },
   {
    "duration": 20,
    "start_time": "2021-11-09T19:36:14.163Z"
   },
   {
    "duration": 7,
    "start_time": "2021-11-09T19:36:31.427Z"
   },
   {
    "duration": 6,
    "start_time": "2021-11-09T19:36:39.538Z"
   },
   {
    "duration": 7665,
    "start_time": "2021-11-09T19:37:00.912Z"
   },
   {
    "duration": 302,
    "start_time": "2021-11-09T19:37:15.015Z"
   },
   {
    "duration": 8,
    "start_time": "2021-11-09T19:37:23.308Z"
   },
   {
    "duration": 7,
    "start_time": "2021-11-09T19:37:27.584Z"
   },
   {
    "duration": 19,
    "start_time": "2021-11-09T19:37:33.371Z"
   },
   {
    "duration": 10,
    "start_time": "2021-11-09T19:37:58.057Z"
   },
   {
    "duration": 15,
    "start_time": "2021-11-09T19:38:15.047Z"
   },
   {
    "duration": 23,
    "start_time": "2021-11-09T19:39:11.950Z"
   },
   {
    "duration": 27,
    "start_time": "2021-11-09T19:39:20.104Z"
   },
   {
    "duration": 5,
    "start_time": "2021-11-09T20:08:22.352Z"
   },
   {
    "duration": 6,
    "start_time": "2021-11-09T20:08:22.360Z"
   },
   {
    "duration": 1056,
    "start_time": "2021-11-09T20:08:22.369Z"
   },
   {
    "duration": 255,
    "start_time": "2021-11-09T20:08:23.427Z"
   },
   {
    "duration": 215,
    "start_time": "2021-11-09T20:08:23.685Z"
   },
   {
    "duration": 150,
    "start_time": "2021-11-09T20:08:23.902Z"
   },
   {
    "duration": 10,
    "start_time": "2021-11-09T20:08:24.055Z"
   },
   {
    "duration": 18,
    "start_time": "2021-11-09T20:08:24.068Z"
   },
   {
    "duration": 105,
    "start_time": "2021-11-09T20:08:24.089Z"
   },
   {
    "duration": 23,
    "start_time": "2021-11-09T20:08:24.197Z"
   },
   {
    "duration": 23,
    "start_time": "2021-11-09T20:23:35.736Z"
   },
   {
    "duration": 27,
    "start_time": "2021-11-09T20:36:51.429Z"
   },
   {
    "duration": 21,
    "start_time": "2021-11-09T20:36:56.125Z"
   },
   {
    "duration": 306,
    "start_time": "2021-11-09T21:44:10.444Z"
   },
   {
    "duration": 4,
    "start_time": "2021-11-09T21:52:06.983Z"
   },
   {
    "duration": 280,
    "start_time": "2021-11-09T21:52:45.104Z"
   },
   {
    "duration": 278,
    "start_time": "2021-11-09T21:53:39.099Z"
   },
   {
    "duration": 285,
    "start_time": "2021-11-09T21:54:42.373Z"
   },
   {
    "duration": 4,
    "start_time": "2021-11-09T21:55:44.681Z"
   },
   {
    "duration": 298,
    "start_time": "2021-11-09T21:56:39.180Z"
   },
   {
    "duration": 86,
    "start_time": "2021-11-09T21:56:48.174Z"
   },
   {
    "duration": 5,
    "start_time": "2021-11-09T21:56:51.998Z"
   },
   {
    "duration": 23,
    "start_time": "2021-11-09T21:56:57.880Z"
   },
   {
    "duration": 17,
    "start_time": "2021-11-09T21:57:31.828Z"
   },
   {
    "duration": 286,
    "start_time": "2021-11-09T21:57:53.500Z"
   },
   {
    "duration": 6,
    "start_time": "2021-11-09T21:58:43.158Z"
   },
   {
    "duration": 23,
    "start_time": "2021-11-09T21:58:51.225Z"
   },
   {
    "duration": 4,
    "start_time": "2021-11-09T21:59:05.331Z"
   },
   {
    "duration": 29,
    "start_time": "2021-11-09T21:59:07.251Z"
   },
   {
    "duration": 5,
    "start_time": "2021-11-09T22:00:10.414Z"
   },
   {
    "duration": 23,
    "start_time": "2021-11-09T22:00:17.176Z"
   },
   {
    "duration": 298,
    "start_time": "2021-11-09T22:01:09.499Z"
   },
   {
    "duration": 694,
    "start_time": "2021-11-09T22:01:21.608Z"
   },
   {
    "duration": 467,
    "start_time": "2021-11-09T22:12:17.918Z"
   },
   {
    "duration": 440,
    "start_time": "2021-11-09T22:12:45.993Z"
   },
   {
    "duration": 596,
    "start_time": "2021-11-09T22:12:58.611Z"
   },
   {
    "duration": 679,
    "start_time": "2021-11-09T22:13:06.159Z"
   },
   {
    "duration": 224,
    "start_time": "2021-11-09T22:18:11.917Z"
   },
   {
    "duration": 15,
    "start_time": "2021-11-09T22:26:03.239Z"
   },
   {
    "duration": 14,
    "start_time": "2021-11-09T22:26:35.384Z"
   },
   {
    "duration": 14,
    "start_time": "2021-11-09T22:26:44.948Z"
   },
   {
    "duration": 14,
    "start_time": "2021-11-09T22:26:49.887Z"
   },
   {
    "duration": 14,
    "start_time": "2021-11-09T22:26:52.989Z"
   },
   {
    "duration": 14,
    "start_time": "2021-11-09T22:26:58.796Z"
   },
   {
    "duration": 13,
    "start_time": "2021-11-09T22:27:01.137Z"
   },
   {
    "duration": 18,
    "start_time": "2021-11-09T22:27:03.408Z"
   },
   {
    "duration": 13,
    "start_time": "2021-11-09T22:28:08.235Z"
   },
   {
    "duration": 460,
    "start_time": "2021-11-09T22:30:01.217Z"
   },
   {
    "duration": 451,
    "start_time": "2021-11-09T22:31:21.568Z"
   },
   {
    "duration": 596,
    "start_time": "2021-11-09T22:31:27.895Z"
   },
   {
    "duration": 468,
    "start_time": "2021-11-09T22:31:33.062Z"
   },
   {
    "duration": 14,
    "start_time": "2021-11-09T22:32:38.243Z"
   },
   {
    "duration": 11,
    "start_time": "2021-11-09T22:32:52.890Z"
   },
   {
    "duration": 10,
    "start_time": "2021-11-09T22:33:07.841Z"
   },
   {
    "duration": 9,
    "start_time": "2021-11-09T22:33:11.387Z"
   },
   {
    "duration": 4,
    "start_time": "2021-11-09T22:33:50.136Z"
   },
   {
    "duration": 7,
    "start_time": "2021-11-09T22:33:50.143Z"
   },
   {
    "duration": 1067,
    "start_time": "2021-11-09T22:33:50.154Z"
   },
   {
    "duration": 208,
    "start_time": "2021-11-09T22:34:13.437Z"
   },
   {
    "duration": 5,
    "start_time": "2021-11-09T22:34:36.810Z"
   },
   {
    "duration": 8,
    "start_time": "2021-11-09T22:34:36.817Z"
   },
   {
    "duration": 1056,
    "start_time": "2021-11-09T22:34:36.828Z"
   },
   {
    "duration": 252,
    "start_time": "2021-11-09T22:34:37.887Z"
   },
   {
    "duration": 217,
    "start_time": "2021-11-09T22:34:38.142Z"
   },
   {
    "duration": 146,
    "start_time": "2021-11-09T22:34:38.362Z"
   },
   {
    "duration": 11,
    "start_time": "2021-11-09T22:34:38.511Z"
   },
   {
    "duration": 17,
    "start_time": "2021-11-09T22:34:41.638Z"
   },
   {
    "duration": 583,
    "start_time": "2021-11-09T22:34:44.205Z"
   },
   {
    "duration": 469,
    "start_time": "2021-11-09T22:34:51.243Z"
   },
   {
    "duration": 16,
    "start_time": "2021-11-09T22:35:22.017Z"
   },
   {
    "duration": 1070,
    "start_time": "2021-11-09T22:35:35.018Z"
   },
   {
    "duration": 606,
    "start_time": "2021-11-09T22:35:39.604Z"
   },
   {
    "duration": 747,
    "start_time": "2021-11-09T22:35:43.230Z"
   },
   {
    "duration": 907,
    "start_time": "2021-11-09T22:35:48.727Z"
   },
   {
    "duration": 26,
    "start_time": "2021-11-09T22:36:15.723Z"
   },
   {
    "duration": 13,
    "start_time": "2021-11-09T22:36:26.814Z"
   },
   {
    "duration": 340,
    "start_time": "2021-11-09T22:38:05.394Z"
   },
   {
    "duration": 10,
    "start_time": "2021-11-09T22:38:12.386Z"
   },
   {
    "duration": 12,
    "start_time": "2021-11-09T22:38:31.637Z"
   },
   {
    "duration": 12,
    "start_time": "2021-11-09T22:38:41.219Z"
   },
   {
    "duration": 14,
    "start_time": "2021-11-09T22:41:29.316Z"
   },
   {
    "duration": 86,
    "start_time": "2021-11-09T22:44:09.373Z"
   },
   {
    "duration": 25,
    "start_time": "2021-11-09T22:44:11.132Z"
   },
   {
    "duration": 23,
    "start_time": "2021-11-09T22:44:12.601Z"
   },
   {
    "duration": 691,
    "start_time": "2021-11-09T22:45:36.979Z"
   },
   {
    "duration": 625,
    "start_time": "2021-11-09T22:46:04.729Z"
   },
   {
    "duration": 599,
    "start_time": "2021-11-09T22:46:07.709Z"
   },
   {
    "duration": 743,
    "start_time": "2021-11-09T22:46:14.734Z"
   },
   {
    "duration": 5,
    "start_time": "2021-11-09T22:47:22.978Z"
   },
   {
    "duration": 7,
    "start_time": "2021-11-09T22:47:39.217Z"
   },
   {
    "duration": 12,
    "start_time": "2021-11-09T22:47:45.333Z"
   },
   {
    "duration": 12,
    "start_time": "2021-11-09T22:48:07.461Z"
   },
   {
    "duration": 6,
    "start_time": "2021-11-09T22:48:13.301Z"
   },
   {
    "duration": 12,
    "start_time": "2021-11-09T22:48:32.509Z"
   },
   {
    "duration": 310,
    "start_time": "2021-11-09T22:49:07.391Z"
   },
   {
    "duration": 10,
    "start_time": "2021-11-09T22:49:20.973Z"
   },
   {
    "duration": 8,
    "start_time": "2021-11-09T22:49:26.936Z"
   },
   {
    "duration": 10,
    "start_time": "2021-11-09T22:49:41.678Z"
   },
   {
    "duration": 8,
    "start_time": "2021-11-09T22:49:49.651Z"
   },
   {
    "duration": 9,
    "start_time": "2021-11-09T22:52:45.605Z"
   },
   {
    "duration": 10,
    "start_time": "2021-11-09T23:04:16.195Z"
   },
   {
    "duration": 23,
    "start_time": "2021-11-09T23:04:36.883Z"
   },
   {
    "duration": 10,
    "start_time": "2021-11-09T23:04:47.934Z"
   },
   {
    "duration": 10,
    "start_time": "2021-11-09T23:05:09.818Z"
   },
   {
    "duration": 313,
    "start_time": "2021-11-09T23:05:13.781Z"
   },
   {
    "duration": 8,
    "start_time": "2021-11-09T23:05:17.079Z"
   },
   {
    "duration": 9,
    "start_time": "2021-11-09T23:05:47.350Z"
   },
   {
    "duration": 11,
    "start_time": "2021-11-09T23:06:02.444Z"
   },
   {
    "duration": 6,
    "start_time": "2021-11-09T23:06:53.880Z"
   },
   {
    "duration": 4,
    "start_time": "2021-11-09T23:07:51.673Z"
   },
   {
    "duration": 5,
    "start_time": "2021-11-09T23:08:00.492Z"
   },
   {
    "duration": 294,
    "start_time": "2021-11-09T23:08:05.830Z"
   },
   {
    "duration": 8,
    "start_time": "2021-11-09T23:08:13.223Z"
   },
   {
    "duration": 6,
    "start_time": "2021-11-09T23:09:05.121Z"
   },
   {
    "duration": 6,
    "start_time": "2021-11-09T23:09:52.464Z"
   },
   {
    "duration": 9,
    "start_time": "2021-11-09T23:11:13.849Z"
   },
   {
    "duration": 4,
    "start_time": "2021-11-09T23:12:30.900Z"
   },
   {
    "duration": 38,
    "start_time": "2021-11-09T23:12:30.907Z"
   },
   {
    "duration": 1132,
    "start_time": "2021-11-09T23:12:30.949Z"
   },
   {
    "duration": 264,
    "start_time": "2021-11-09T23:12:32.084Z"
   },
   {
    "duration": 231,
    "start_time": "2021-11-09T23:12:32.351Z"
   },
   {
    "duration": 163,
    "start_time": "2021-11-09T23:12:32.584Z"
   },
   {
    "duration": 11,
    "start_time": "2021-11-09T23:12:32.750Z"
   },
   {
    "duration": 24,
    "start_time": "2021-11-09T23:12:32.763Z"
   },
   {
    "duration": 488,
    "start_time": "2021-11-09T23:12:32.791Z"
   },
   {
    "duration": 15,
    "start_time": "2021-11-09T23:12:33.283Z"
   },
   {
    "duration": 506,
    "start_time": "2021-11-09T23:12:33.300Z"
   },
   {
    "duration": 12,
    "start_time": "2021-11-09T23:12:33.809Z"
   },
   {
    "duration": 10,
    "start_time": "2021-11-09T23:12:33.824Z"
   },
   {
    "duration": 107,
    "start_time": "2021-11-09T23:12:33.836Z"
   },
   {
    "duration": 36,
    "start_time": "2021-11-09T23:12:33.946Z"
   },
   {
    "duration": 511,
    "start_time": "2021-11-09T23:12:33.984Z"
   },
   {
    "duration": 487,
    "start_time": "2021-11-09T23:12:34.497Z"
   },
   {
    "duration": 6,
    "start_time": "2021-11-09T23:12:34.986Z"
   },
   {
    "duration": 9,
    "start_time": "2021-11-09T23:12:34.995Z"
   },
   {
    "duration": 11,
    "start_time": "2021-11-09T23:12:35.006Z"
   },
   {
    "duration": 13,
    "start_time": "2021-11-09T23:12:35.020Z"
   },
   {
    "duration": 49,
    "start_time": "2021-11-09T23:12:35.035Z"
   },
   {
    "duration": 10,
    "start_time": "2021-11-09T23:12:35.086Z"
   },
   {
    "duration": 10,
    "start_time": "2021-11-09T23:12:35.099Z"
   },
   {
    "duration": 7016,
    "start_time": "2021-11-09T23:12:49.735Z"
   },
   {
    "duration": 10,
    "start_time": "2021-11-09T23:13:01.434Z"
   },
   {
    "duration": 11,
    "start_time": "2021-11-09T23:13:17.498Z"
   },
   {
    "duration": 3,
    "start_time": "2021-11-09T23:20:49.556Z"
   },
   {
    "duration": 9,
    "start_time": "2021-11-09T23:20:49.567Z"
   },
   {
    "duration": 1121,
    "start_time": "2021-11-09T23:20:49.578Z"
   },
   {
    "duration": 275,
    "start_time": "2021-11-09T23:20:50.703Z"
   },
   {
    "duration": 220,
    "start_time": "2021-11-09T23:20:50.983Z"
   },
   {
    "duration": 159,
    "start_time": "2021-11-09T23:20:51.206Z"
   },
   {
    "duration": 15,
    "start_time": "2021-11-09T23:20:51.368Z"
   },
   {
    "duration": 8,
    "start_time": "2021-11-09T23:20:51.385Z"
   },
   {
    "duration": 503,
    "start_time": "2021-11-09T23:20:51.395Z"
   },
   {
    "duration": 15,
    "start_time": "2021-11-09T23:20:51.901Z"
   },
   {
    "duration": 688,
    "start_time": "2021-11-09T23:20:51.919Z"
   },
   {
    "duration": 13,
    "start_time": "2021-11-09T23:20:52.609Z"
   },
   {
    "duration": 10,
    "start_time": "2021-11-09T23:20:52.624Z"
   },
   {
    "duration": 102,
    "start_time": "2021-11-09T23:20:56.462Z"
   },
   {
    "duration": 24,
    "start_time": "2021-11-09T23:22:22.154Z"
   },
   {
    "duration": 482,
    "start_time": "2021-11-09T23:22:34.367Z"
   },
   {
    "duration": 472,
    "start_time": "2021-11-09T23:22:50.386Z"
   },
   {
    "duration": 475,
    "start_time": "2021-11-09T23:23:08.164Z"
   },
   {
    "duration": 18,
    "start_time": "2021-11-09T23:23:39.274Z"
   },
   {
    "duration": 9,
    "start_time": "2021-11-09T23:23:49.546Z"
   },
   {
    "duration": 3,
    "start_time": "2021-11-09T23:28:09.546Z"
   },
   {
    "duration": 11,
    "start_time": "2021-11-09T23:28:09.552Z"
   },
   {
    "duration": 1019,
    "start_time": "2021-11-09T23:28:09.565Z"
   },
   {
    "duration": 255,
    "start_time": "2021-11-09T23:28:10.586Z"
   },
   {
    "duration": 213,
    "start_time": "2021-11-09T23:28:10.844Z"
   },
   {
    "duration": 143,
    "start_time": "2021-11-09T23:28:11.060Z"
   },
   {
    "duration": 8,
    "start_time": "2021-11-09T23:28:11.205Z"
   },
   {
    "duration": 11,
    "start_time": "2021-11-09T23:28:11.215Z"
   },
   {
    "duration": 492,
    "start_time": "2021-11-09T23:28:11.229Z"
   },
   {
    "duration": 15,
    "start_time": "2021-11-09T23:28:11.723Z"
   },
   {
    "duration": 523,
    "start_time": "2021-11-09T23:28:11.740Z"
   },
   {
    "duration": 22,
    "start_time": "2021-11-09T23:28:12.266Z"
   },
   {
    "duration": 10,
    "start_time": "2021-11-09T23:28:12.290Z"
   },
   {
    "duration": 118,
    "start_time": "2021-11-09T23:28:17.746Z"
   },
   {
    "duration": 25,
    "start_time": "2021-11-09T23:28:25.503Z"
   },
   {
    "duration": 506,
    "start_time": "2021-11-09T23:28:26.919Z"
   },
   {
    "duration": 10,
    "start_time": "2021-11-09T23:28:31.003Z"
   },
   {
    "duration": 489,
    "start_time": "2021-11-09T23:28:39.039Z"
   },
   {
    "duration": 786,
    "start_time": "2021-11-09T23:28:53.153Z"
   },
   {
    "duration": 341,
    "start_time": "2021-11-09T23:29:03.226Z"
   },
   {
    "duration": 375,
    "start_time": "2021-11-09T23:29:07.445Z"
   },
   {
    "duration": 490,
    "start_time": "2021-11-09T23:29:43.712Z"
   },
   {
    "duration": 25,
    "start_time": "2021-11-09T23:30:15.709Z"
   },
   {
    "duration": 487,
    "start_time": "2021-11-09T23:30:16.882Z"
   },
   {
    "duration": 475,
    "start_time": "2021-11-09T23:30:20.171Z"
   },
   {
    "duration": 5,
    "start_time": "2021-11-09T23:30:48.908Z"
   },
   {
    "duration": 7,
    "start_time": "2021-11-09T23:30:52.714Z"
   },
   {
    "duration": 9,
    "start_time": "2021-11-09T23:30:54.401Z"
   },
   {
    "duration": 12,
    "start_time": "2021-11-09T23:31:51.635Z"
   },
   {
    "duration": 7,
    "start_time": "2021-11-09T23:31:53.466Z"
   },
   {
    "duration": 7,
    "start_time": "2021-11-09T23:31:56.666Z"
   },
   {
    "duration": 9,
    "start_time": "2021-11-09T23:32:21.421Z"
   },
   {
    "duration": 12,
    "start_time": "2021-11-09T23:32:23.226Z"
   },
   {
    "duration": 10,
    "start_time": "2021-11-09T23:32:29.455Z"
   },
   {
    "duration": 5,
    "start_time": "2021-11-09T23:36:31.758Z"
   },
   {
    "duration": 503,
    "start_time": "2021-11-09T23:37:42.546Z"
   },
   {
    "duration": 6933,
    "start_time": "2021-11-09T23:37:45.126Z"
   },
   {
    "duration": 453,
    "start_time": "2021-11-09T23:38:13.287Z"
   },
   {
    "duration": 463,
    "start_time": "2021-11-09T23:38:17.250Z"
   },
   {
    "duration": 459,
    "start_time": "2021-11-09T23:39:52.686Z"
   },
   {
    "duration": 454,
    "start_time": "2021-11-09T23:40:16.579Z"
   },
   {
    "duration": 495,
    "start_time": "2021-11-09T23:40:56.191Z"
   },
   {
    "duration": 493,
    "start_time": "2021-11-09T23:41:02.217Z"
   },
   {
    "duration": 446,
    "start_time": "2021-11-09T23:45:16.871Z"
   },
   {
    "duration": 203,
    "start_time": "2021-11-09T23:45:21.352Z"
   },
   {
    "duration": 217,
    "start_time": "2021-11-09T23:45:32.688Z"
   },
   {
    "duration": 199,
    "start_time": "2021-11-09T23:45:35.441Z"
   },
   {
    "duration": 5,
    "start_time": "2021-11-10T00:04:08.011Z"
   },
   {
    "duration": 14,
    "start_time": "2021-11-10T00:04:08.018Z"
   },
   {
    "duration": 1019,
    "start_time": "2021-11-10T00:04:08.035Z"
   },
   {
    "duration": 245,
    "start_time": "2021-11-10T00:04:09.057Z"
   },
   {
    "duration": 207,
    "start_time": "2021-11-10T00:04:09.305Z"
   },
   {
    "duration": 148,
    "start_time": "2021-11-10T00:04:09.514Z"
   },
   {
    "duration": 8,
    "start_time": "2021-11-10T00:04:09.665Z"
   },
   {
    "duration": 11,
    "start_time": "2021-11-10T00:04:09.676Z"
   },
   {
    "duration": 480,
    "start_time": "2021-11-10T00:04:09.690Z"
   },
   {
    "duration": 19,
    "start_time": "2021-11-10T00:04:10.173Z"
   },
   {
    "duration": 524,
    "start_time": "2021-11-10T00:04:10.194Z"
   },
   {
    "duration": 13,
    "start_time": "2021-11-10T00:04:10.720Z"
   },
   {
    "duration": 9,
    "start_time": "2021-11-10T00:04:10.735Z"
   },
   {
    "duration": 142,
    "start_time": "2021-11-10T00:04:10.747Z"
   },
   {
    "duration": 23,
    "start_time": "2021-11-10T00:04:10.891Z"
   },
   {
    "duration": 5,
    "start_time": "2021-11-10T00:04:10.917Z"
   },
   {
    "duration": 13,
    "start_time": "2021-11-10T00:04:10.924Z"
   },
   {
    "duration": 12,
    "start_time": "2021-11-10T00:04:10.939Z"
   },
   {
    "duration": 34,
    "start_time": "2021-11-10T00:04:10.954Z"
   },
   {
    "duration": 6,
    "start_time": "2021-11-10T00:04:10.990Z"
   },
   {
    "duration": 7,
    "start_time": "2021-11-10T00:04:10.998Z"
   },
   {
    "duration": 15,
    "start_time": "2021-11-10T00:04:11.007Z"
   },
   {
    "duration": 12,
    "start_time": "2021-11-10T00:04:17.362Z"
   },
   {
    "duration": 19,
    "start_time": "2021-11-10T00:04:22.587Z"
   },
   {
    "duration": 4,
    "start_time": "2021-11-10T00:06:22.688Z"
   },
   {
    "duration": 12,
    "start_time": "2021-11-10T00:06:22.695Z"
   },
   {
    "duration": 1092,
    "start_time": "2021-11-10T00:06:22.711Z"
   },
   {
    "duration": 252,
    "start_time": "2021-11-10T00:06:23.805Z"
   },
   {
    "duration": 204,
    "start_time": "2021-11-10T00:06:24.059Z"
   },
   {
    "duration": 144,
    "start_time": "2021-11-10T00:06:24.265Z"
   },
   {
    "duration": 8,
    "start_time": "2021-11-10T00:06:24.412Z"
   },
   {
    "duration": 8,
    "start_time": "2021-11-10T00:06:24.422Z"
   },
   {
    "duration": 499,
    "start_time": "2021-11-10T00:06:24.432Z"
   },
   {
    "duration": 13,
    "start_time": "2021-11-10T00:06:24.934Z"
   },
   {
    "duration": 513,
    "start_time": "2021-11-10T00:06:24.950Z"
   },
   {
    "duration": 21,
    "start_time": "2021-11-10T00:06:25.466Z"
   },
   {
    "duration": 9,
    "start_time": "2021-11-10T00:06:25.489Z"
   },
   {
    "duration": 61,
    "start_time": "2021-11-10T00:06:26.859Z"
   },
   {
    "duration": 24,
    "start_time": "2021-11-10T00:06:31.020Z"
   },
   {
    "duration": 4,
    "start_time": "2021-11-10T00:08:03.802Z"
   },
   {
    "duration": 7,
    "start_time": "2021-11-10T00:08:03.810Z"
   },
   {
    "duration": 1094,
    "start_time": "2021-11-10T00:08:03.821Z"
   },
   {
    "duration": 258,
    "start_time": "2021-11-10T00:08:04.918Z"
   },
   {
    "duration": 217,
    "start_time": "2021-11-10T00:08:05.182Z"
   },
   {
    "duration": 162,
    "start_time": "2021-11-10T00:08:05.402Z"
   },
   {
    "duration": 18,
    "start_time": "2021-11-10T00:08:05.567Z"
   },
   {
    "duration": 7,
    "start_time": "2021-11-10T00:08:05.588Z"
   },
   {
    "duration": 493,
    "start_time": "2021-11-10T00:08:05.602Z"
   },
   {
    "duration": 15,
    "start_time": "2021-11-10T00:08:06.098Z"
   },
   {
    "duration": 506,
    "start_time": "2021-11-10T00:08:06.115Z"
   },
   {
    "duration": 11,
    "start_time": "2021-11-10T00:08:06.624Z"
   },
   {
    "duration": 13,
    "start_time": "2021-11-10T00:08:06.637Z"
   },
   {
    "duration": 71,
    "start_time": "2021-11-10T00:08:06.652Z"
   },
   {
    "duration": 173,
    "start_time": "2021-11-10T00:08:06.725Z"
   },
   {
    "duration": 25,
    "start_time": "2021-11-10T00:08:06.901Z"
   },
   {
    "duration": 5,
    "start_time": "2021-11-10T00:08:06.928Z"
   },
   {
    "duration": 8,
    "start_time": "2021-11-10T00:08:06.935Z"
   },
   {
    "duration": 39,
    "start_time": "2021-11-10T00:08:06.946Z"
   },
   {
    "duration": 12,
    "start_time": "2021-11-10T00:08:06.987Z"
   },
   {
    "duration": 6,
    "start_time": "2021-11-10T00:08:07.002Z"
   },
   {
    "duration": 7,
    "start_time": "2021-11-10T00:08:07.011Z"
   },
   {
    "duration": 10,
    "start_time": "2021-11-10T00:08:07.020Z"
   },
   {
    "duration": 296,
    "start_time": "2021-11-10T00:11:45.475Z"
   },
   {
    "duration": 4,
    "start_time": "2021-11-10T00:12:08.897Z"
   },
   {
    "duration": 6,
    "start_time": "2021-11-10T00:12:08.904Z"
   },
   {
    "duration": 1065,
    "start_time": "2021-11-10T00:12:08.913Z"
   },
   {
    "duration": 253,
    "start_time": "2021-11-10T00:12:09.981Z"
   },
   {
    "duration": 214,
    "start_time": "2021-11-10T00:12:10.237Z"
   },
   {
    "duration": 158,
    "start_time": "2021-11-10T00:12:10.454Z"
   },
   {
    "duration": 9,
    "start_time": "2021-11-10T00:12:10.615Z"
   },
   {
    "duration": 10,
    "start_time": "2021-11-10T00:12:10.626Z"
   },
   {
    "duration": 493,
    "start_time": "2021-11-10T00:12:10.638Z"
   },
   {
    "duration": 14,
    "start_time": "2021-11-10T00:12:11.134Z"
   },
   {
    "duration": 511,
    "start_time": "2021-11-10T00:12:11.150Z"
   },
   {
    "duration": 25,
    "start_time": "2021-11-10T00:12:11.663Z"
   },
   {
    "duration": 9,
    "start_time": "2021-11-10T00:12:11.690Z"
   },
   {
    "duration": 48,
    "start_time": "2021-11-10T00:12:11.702Z"
   },
   {
    "duration": 177,
    "start_time": "2021-11-10T00:12:11.752Z"
   },
   {
    "duration": 25,
    "start_time": "2021-11-10T00:12:11.932Z"
   },
   {
    "duration": 5,
    "start_time": "2021-11-10T00:12:11.959Z"
   },
   {
    "duration": 26,
    "start_time": "2021-11-10T00:12:11.966Z"
   },
   {
    "duration": 9,
    "start_time": "2021-11-10T00:12:11.998Z"
   },
   {
    "duration": 13,
    "start_time": "2021-11-10T00:12:12.009Z"
   },
   {
    "duration": 6,
    "start_time": "2021-11-10T00:12:12.024Z"
   },
   {
    "duration": 9,
    "start_time": "2021-11-10T00:12:12.033Z"
   },
   {
    "duration": 44,
    "start_time": "2021-11-10T00:12:12.044Z"
   },
   {
    "duration": 286,
    "start_time": "2021-11-10T00:12:13.646Z"
   },
   {
    "duration": 300,
    "start_time": "2021-11-10T00:12:39.525Z"
   },
   {
    "duration": 24,
    "start_time": "2021-11-10T00:12:58.663Z"
   },
   {
    "duration": 4,
    "start_time": "2021-11-10T00:14:31.784Z"
   },
   {
    "duration": 12,
    "start_time": "2021-11-10T00:14:31.791Z"
   },
   {
    "duration": 1124,
    "start_time": "2021-11-10T00:14:31.806Z"
   },
   {
    "duration": 254,
    "start_time": "2021-11-10T00:14:32.933Z"
   },
   {
    "duration": 216,
    "start_time": "2021-11-10T00:14:33.189Z"
   },
   {
    "duration": 152,
    "start_time": "2021-11-10T00:14:33.407Z"
   },
   {
    "duration": 8,
    "start_time": "2021-11-10T00:14:33.562Z"
   },
   {
    "duration": 6,
    "start_time": "2021-11-10T00:14:33.581Z"
   },
   {
    "duration": 479,
    "start_time": "2021-11-10T00:14:33.589Z"
   },
   {
    "duration": 23,
    "start_time": "2021-11-10T00:14:34.070Z"
   },
   {
    "duration": 503,
    "start_time": "2021-11-10T00:14:34.095Z"
   },
   {
    "duration": 14,
    "start_time": "2021-11-10T00:14:34.601Z"
   },
   {
    "duration": 11,
    "start_time": "2021-11-10T00:14:34.617Z"
   },
   {
    "duration": 165,
    "start_time": "2021-11-10T00:14:34.630Z"
   },
   {
    "duration": 25,
    "start_time": "2021-11-10T00:14:34.798Z"
   },
   {
    "duration": 5,
    "start_time": "2021-11-10T00:14:34.826Z"
   },
   {
    "duration": 12,
    "start_time": "2021-11-10T00:14:34.833Z"
   },
   {
    "duration": 36,
    "start_time": "2021-11-10T00:14:34.847Z"
   },
   {
    "duration": 10,
    "start_time": "2021-11-10T00:14:34.887Z"
   },
   {
    "duration": 7,
    "start_time": "2021-11-10T00:14:34.900Z"
   },
   {
    "duration": 6,
    "start_time": "2021-11-10T00:14:34.909Z"
   },
   {
    "duration": 9,
    "start_time": "2021-11-10T00:14:34.917Z"
   },
   {
    "duration": 24,
    "start_time": "2021-11-10T00:15:03.501Z"
   },
   {
    "duration": 13,
    "start_time": "2021-11-10T00:15:09.210Z"
   },
   {
    "duration": 21,
    "start_time": "2021-11-10T00:15:12.972Z"
   },
   {
    "duration": 5,
    "start_time": "2021-11-10T00:15:32.447Z"
   },
   {
    "duration": 13,
    "start_time": "2021-11-10T00:15:32.456Z"
   },
   {
    "duration": 1088,
    "start_time": "2021-11-10T00:15:32.473Z"
   },
   {
    "duration": 255,
    "start_time": "2021-11-10T00:15:33.564Z"
   },
   {
    "duration": 222,
    "start_time": "2021-11-10T00:15:33.822Z"
   },
   {
    "duration": 158,
    "start_time": "2021-11-10T00:15:34.047Z"
   },
   {
    "duration": 8,
    "start_time": "2021-11-10T00:15:34.208Z"
   },
   {
    "duration": 14,
    "start_time": "2021-11-10T00:15:34.218Z"
   },
   {
    "duration": 490,
    "start_time": "2021-11-10T00:15:34.236Z"
   },
   {
    "duration": 15,
    "start_time": "2021-11-10T00:15:34.729Z"
   },
   {
    "duration": 524,
    "start_time": "2021-11-10T00:15:34.747Z"
   },
   {
    "duration": 18,
    "start_time": "2021-11-10T00:15:35.273Z"
   },
   {
    "duration": 9,
    "start_time": "2021-11-10T00:15:35.293Z"
   },
   {
    "duration": 430,
    "start_time": "2021-11-10T00:15:35.305Z"
   },
   {
    "duration": 23,
    "start_time": "2021-11-10T00:15:35.737Z"
   },
   {
    "duration": 4,
    "start_time": "2021-11-10T00:15:35.763Z"
   },
   {
    "duration": 7,
    "start_time": "2021-11-10T00:15:35.782Z"
   },
   {
    "duration": 13,
    "start_time": "2021-11-10T00:15:35.791Z"
   },
   {
    "duration": 13,
    "start_time": "2021-11-10T00:15:35.806Z"
   },
   {
    "duration": 30,
    "start_time": "2021-11-10T00:15:35.822Z"
   },
   {
    "duration": 13,
    "start_time": "2021-11-10T00:15:35.855Z"
   },
   {
    "duration": 18,
    "start_time": "2021-11-10T00:15:35.870Z"
   },
   {
    "duration": 32,
    "start_time": "2021-11-10T00:15:35.890Z"
   },
   {
    "duration": 28,
    "start_time": "2021-11-10T00:15:39.514Z"
   },
   {
    "duration": 10,
    "start_time": "2021-11-10T00:21:02.014Z"
   },
   {
    "duration": 8,
    "start_time": "2021-11-10T00:21:23.367Z"
   },
   {
    "duration": 28,
    "start_time": "2021-11-10T00:23:35.042Z"
   },
   {
    "duration": 296,
    "start_time": "2021-11-10T00:23:42.089Z"
   },
   {
    "duration": 27,
    "start_time": "2021-11-10T00:23:46.255Z"
   },
   {
    "duration": 27,
    "start_time": "2021-11-10T00:24:05.463Z"
   },
   {
    "duration": 303,
    "start_time": "2021-11-10T00:24:11.001Z"
   },
   {
    "duration": 29,
    "start_time": "2021-11-10T00:24:24.796Z"
   },
   {
    "duration": 16,
    "start_time": "2021-11-10T00:25:26.315Z"
   },
   {
    "duration": 5,
    "start_time": "2021-11-10T00:25:32.546Z"
   },
   {
    "duration": 19,
    "start_time": "2021-11-10T00:25:32.553Z"
   },
   {
    "duration": 1050,
    "start_time": "2021-11-10T00:25:32.575Z"
   },
   {
    "duration": 238,
    "start_time": "2021-11-10T00:25:33.629Z"
   },
   {
    "duration": 212,
    "start_time": "2021-11-10T00:25:33.870Z"
   },
   {
    "duration": 145,
    "start_time": "2021-11-10T00:25:34.084Z"
   },
   {
    "duration": 10,
    "start_time": "2021-11-10T00:25:34.233Z"
   },
   {
    "duration": 7,
    "start_time": "2021-11-10T00:25:34.247Z"
   },
   {
    "duration": 494,
    "start_time": "2021-11-10T00:25:34.257Z"
   },
   {
    "duration": 31,
    "start_time": "2021-11-10T00:25:34.753Z"
   },
   {
    "duration": 506,
    "start_time": "2021-11-10T00:25:34.786Z"
   },
   {
    "duration": 13,
    "start_time": "2021-11-10T00:25:35.294Z"
   },
   {
    "duration": 9,
    "start_time": "2021-11-10T00:25:35.309Z"
   },
   {
    "duration": 141,
    "start_time": "2021-11-10T00:25:35.321Z"
   },
   {
    "duration": 32,
    "start_time": "2021-11-10T00:25:35.464Z"
   },
   {
    "duration": 4,
    "start_time": "2021-11-10T00:25:35.498Z"
   },
   {
    "duration": 11,
    "start_time": "2021-11-10T00:25:35.505Z"
   },
   {
    "duration": 11,
    "start_time": "2021-11-10T00:25:35.518Z"
   },
   {
    "duration": 12,
    "start_time": "2021-11-10T00:25:35.533Z"
   },
   {
    "duration": 36,
    "start_time": "2021-11-10T00:25:35.547Z"
   },
   {
    "duration": 9,
    "start_time": "2021-11-10T00:25:35.586Z"
   },
   {
    "duration": 17,
    "start_time": "2021-11-10T00:25:35.598Z"
   },
   {
    "duration": 29,
    "start_time": "2021-11-10T00:25:35.617Z"
   },
   {
    "duration": 8,
    "start_time": "2021-11-10T00:25:35.649Z"
   },
   {
    "duration": 344,
    "start_time": "2021-11-10T00:25:35.660Z"
   },
   {
    "duration": 17,
    "start_time": "2021-11-10T00:25:55.527Z"
   },
   {
    "duration": 30,
    "start_time": "2021-11-10T00:26:09.168Z"
   },
   {
    "duration": 31,
    "start_time": "2021-11-10T00:26:27.476Z"
   },
   {
    "duration": 23,
    "start_time": "2021-11-10T00:26:47.662Z"
   },
   {
    "duration": 30,
    "start_time": "2021-11-10T00:26:58.415Z"
   },
   {
    "duration": 6,
    "start_time": "2021-11-10T00:27:51.863Z"
   },
   {
    "duration": 8,
    "start_time": "2021-11-10T00:27:55.680Z"
   },
   {
    "duration": 378,
    "start_time": "2021-11-10T00:30:51.823Z"
   },
   {
    "duration": 7,
    "start_time": "2021-11-10T00:31:00.015Z"
   },
   {
    "duration": 20,
    "start_time": "2021-11-10T00:31:05.076Z"
   },
   {
    "duration": 12,
    "start_time": "2021-11-10T00:32:27.010Z"
   },
   {
    "duration": 23,
    "start_time": "2021-11-10T00:32:30.881Z"
   },
   {
    "duration": 24,
    "start_time": "2021-11-10T00:33:08.608Z"
   },
   {
    "duration": 11,
    "start_time": "2021-11-10T00:33:31.236Z"
   },
   {
    "duration": 11,
    "start_time": "2021-11-10T00:34:00.922Z"
   },
   {
    "duration": 23,
    "start_time": "2021-11-10T00:34:04.850Z"
   },
   {
    "duration": 11,
    "start_time": "2021-11-10T00:34:12.510Z"
   },
   {
    "duration": 24,
    "start_time": "2021-11-10T00:34:16.370Z"
   },
   {
    "duration": 4,
    "start_time": "2021-11-10T00:34:27.301Z"
   },
   {
    "duration": 7,
    "start_time": "2021-11-10T00:34:27.308Z"
   },
   {
    "duration": 1141,
    "start_time": "2021-11-10T00:34:27.318Z"
   },
   {
    "duration": 247,
    "start_time": "2021-11-10T00:34:28.462Z"
   },
   {
    "duration": 214,
    "start_time": "2021-11-10T00:34:28.711Z"
   },
   {
    "duration": 142,
    "start_time": "2021-11-10T00:34:28.927Z"
   },
   {
    "duration": 10,
    "start_time": "2021-11-10T00:34:29.072Z"
   },
   {
    "duration": 7,
    "start_time": "2021-11-10T00:34:29.085Z"
   },
   {
    "duration": 483,
    "start_time": "2021-11-10T00:34:29.094Z"
   },
   {
    "duration": 15,
    "start_time": "2021-11-10T00:34:29.582Z"
   },
   {
    "duration": 505,
    "start_time": "2021-11-10T00:34:29.599Z"
   },
   {
    "duration": 12,
    "start_time": "2021-11-10T00:34:30.106Z"
   },
   {
    "duration": 14,
    "start_time": "2021-11-10T00:34:30.120Z"
   },
   {
    "duration": 137,
    "start_time": "2021-11-10T00:34:30.136Z"
   },
   {
    "duration": 25,
    "start_time": "2021-11-10T00:34:30.275Z"
   },
   {
    "duration": 4,
    "start_time": "2021-11-10T00:34:30.302Z"
   },
   {
    "duration": 19,
    "start_time": "2021-11-10T00:34:30.308Z"
   },
   {
    "duration": 19,
    "start_time": "2021-11-10T00:34:30.329Z"
   },
   {
    "duration": 14,
    "start_time": "2021-11-10T00:34:30.354Z"
   },
   {
    "duration": 13,
    "start_time": "2021-11-10T00:34:30.371Z"
   },
   {
    "duration": 19,
    "start_time": "2021-11-10T00:34:30.387Z"
   },
   {
    "duration": 25,
    "start_time": "2021-11-10T00:34:30.409Z"
   },
   {
    "duration": 25,
    "start_time": "2021-11-10T00:34:30.436Z"
   },
   {
    "duration": 28,
    "start_time": "2021-11-10T00:34:37.112Z"
   },
   {
    "duration": 10,
    "start_time": "2021-11-10T00:34:44.643Z"
   },
   {
    "duration": 23,
    "start_time": "2021-11-10T00:34:50.043Z"
   },
   {
    "duration": 4,
    "start_time": "2021-11-10T00:35:32.606Z"
   },
   {
    "duration": 19,
    "start_time": "2021-11-10T00:35:32.613Z"
   },
   {
    "duration": 1043,
    "start_time": "2021-11-10T00:35:32.635Z"
   },
   {
    "duration": 243,
    "start_time": "2021-11-10T00:35:33.681Z"
   },
   {
    "duration": 216,
    "start_time": "2021-11-10T00:35:33.926Z"
   },
   {
    "duration": 144,
    "start_time": "2021-11-10T00:35:34.144Z"
   },
   {
    "duration": 7,
    "start_time": "2021-11-10T00:35:34.292Z"
   },
   {
    "duration": 7,
    "start_time": "2021-11-10T00:35:34.302Z"
   },
   {
    "duration": 482,
    "start_time": "2021-11-10T00:35:34.311Z"
   },
   {
    "duration": 15,
    "start_time": "2021-11-10T00:35:34.796Z"
   },
   {
    "duration": 615,
    "start_time": "2021-11-10T00:35:34.813Z"
   },
   {
    "duration": 12,
    "start_time": "2021-11-10T00:35:35.431Z"
   },
   {
    "duration": 9,
    "start_time": "2021-11-10T00:35:35.446Z"
   },
   {
    "duration": 116,
    "start_time": "2021-11-10T00:35:35.483Z"
   },
   {
    "duration": 24,
    "start_time": "2021-11-10T00:35:35.601Z"
   },
   {
    "duration": 4,
    "start_time": "2021-11-10T00:35:35.627Z"
   },
   {
    "duration": 10,
    "start_time": "2021-11-10T00:35:35.633Z"
   },
   {
    "duration": 13,
    "start_time": "2021-11-10T00:35:35.646Z"
   },
   {
    "duration": 10,
    "start_time": "2021-11-10T00:35:35.685Z"
   },
   {
    "duration": 8,
    "start_time": "2021-11-10T00:35:35.697Z"
   },
   {
    "duration": 12,
    "start_time": "2021-11-10T00:35:35.708Z"
   },
   {
    "duration": 16,
    "start_time": "2021-11-10T00:35:35.722Z"
   },
   {
    "duration": 8,
    "start_time": "2021-11-10T00:35:35.740Z"
   },
   {
    "duration": 22,
    "start_time": "2021-11-10T00:35:40.051Z"
   },
   {
    "duration": 13,
    "start_time": "2021-11-10T00:35:48.626Z"
   },
   {
    "duration": 23,
    "start_time": "2021-11-10T00:35:49.474Z"
   },
   {
    "duration": 37,
    "start_time": "2021-11-10T00:36:57.018Z"
   },
   {
    "duration": 10,
    "start_time": "2021-11-10T00:37:09.597Z"
   },
   {
    "duration": 31,
    "start_time": "2021-11-10T00:37:54.969Z"
   },
   {
    "duration": 21,
    "start_time": "2021-11-10T00:38:10.480Z"
   },
   {
    "duration": 5,
    "start_time": "2021-11-10T00:40:52.761Z"
   },
   {
    "duration": 8,
    "start_time": "2021-11-10T00:40:59.997Z"
   },
   {
    "duration": 36,
    "start_time": "2021-11-10T00:41:32.138Z"
   },
   {
    "duration": 4,
    "start_time": "2021-11-10T00:55:02.336Z"
   },
   {
    "duration": 10,
    "start_time": "2021-11-10T00:55:02.343Z"
   },
   {
    "duration": 1135,
    "start_time": "2021-11-10T00:55:02.356Z"
   },
   {
    "duration": 260,
    "start_time": "2021-11-10T00:55:03.494Z"
   },
   {
    "duration": 221,
    "start_time": "2021-11-10T00:55:03.756Z"
   },
   {
    "duration": 145,
    "start_time": "2021-11-10T00:55:03.979Z"
   },
   {
    "duration": 8,
    "start_time": "2021-11-10T00:55:04.126Z"
   },
   {
    "duration": 7,
    "start_time": "2021-11-10T00:55:04.138Z"
   },
   {
    "duration": 508,
    "start_time": "2021-11-10T00:55:04.147Z"
   },
   {
    "duration": 30,
    "start_time": "2021-11-10T00:55:04.657Z"
   },
   {
    "duration": 630,
    "start_time": "2021-11-10T00:55:04.690Z"
   },
   {
    "duration": 16,
    "start_time": "2021-11-10T00:55:05.323Z"
   },
   {
    "duration": 40,
    "start_time": "2021-11-10T00:55:05.342Z"
   },
   {
    "duration": 131,
    "start_time": "2021-11-10T00:55:05.385Z"
   },
   {
    "duration": 27,
    "start_time": "2021-11-10T00:55:05.519Z"
   },
   {
    "duration": 6,
    "start_time": "2021-11-10T00:55:05.548Z"
   },
   {
    "duration": 30,
    "start_time": "2021-11-10T00:55:05.557Z"
   },
   {
    "duration": 10,
    "start_time": "2021-11-10T00:55:05.590Z"
   },
   {
    "duration": 11,
    "start_time": "2021-11-10T00:55:05.603Z"
   },
   {
    "duration": 6,
    "start_time": "2021-11-10T00:55:05.617Z"
   },
   {
    "duration": 10,
    "start_time": "2021-11-10T00:55:05.626Z"
   },
   {
    "duration": 50,
    "start_time": "2021-11-10T00:55:05.638Z"
   },
   {
    "duration": 7,
    "start_time": "2021-11-10T00:55:05.692Z"
   },
   {
    "duration": 11,
    "start_time": "2021-11-10T00:55:05.701Z"
   },
   {
    "duration": 22,
    "start_time": "2021-11-10T00:55:05.714Z"
   },
   {
    "duration": 21,
    "start_time": "2021-11-10T00:55:05.738Z"
   },
   {
    "duration": 4,
    "start_time": "2021-11-10T00:55:11.872Z"
   },
   {
    "duration": 584,
    "start_time": "2021-11-10T00:55:13.748Z"
   },
   {
    "duration": 8,
    "start_time": "2021-11-10T00:57:06.703Z"
   },
   {
    "duration": 8,
    "start_time": "2021-11-10T00:57:17.119Z"
   },
   {
    "duration": 7,
    "start_time": "2021-11-10T00:57:23.691Z"
   },
   {
    "duration": 6,
    "start_time": "2021-11-10T00:57:27.785Z"
   },
   {
    "duration": 8,
    "start_time": "2021-11-10T00:58:07.627Z"
   },
   {
    "duration": 8,
    "start_time": "2021-11-10T00:58:09.180Z"
   },
   {
    "duration": 7,
    "start_time": "2021-11-10T00:58:17.163Z"
   },
   {
    "duration": 7,
    "start_time": "2021-11-10T00:58:23.586Z"
   },
   {
    "duration": 5,
    "start_time": "2021-11-10T00:58:40.803Z"
   },
   {
    "duration": 8,
    "start_time": "2021-11-10T00:58:42.927Z"
   },
   {
    "duration": 29,
    "start_time": "2021-11-10T00:59:04.508Z"
   },
   {
    "duration": 8,
    "start_time": "2021-11-10T01:04:13.219Z"
   },
   {
    "duration": 8,
    "start_time": "2021-11-10T01:04:31.807Z"
   },
   {
    "duration": 9,
    "start_time": "2021-11-10T01:06:50.523Z"
   },
   {
    "duration": 35,
    "start_time": "2021-11-10T01:06:57.937Z"
   },
   {
    "duration": 4,
    "start_time": "2021-11-10T01:07:33.474Z"
   },
   {
    "duration": 8,
    "start_time": "2021-11-10T01:07:34.949Z"
   },
   {
    "duration": 8,
    "start_time": "2021-11-10T01:07:38.087Z"
   },
   {
    "duration": 8,
    "start_time": "2021-11-10T01:07:41.276Z"
   },
   {
    "duration": 7,
    "start_time": "2021-11-10T01:07:43.578Z"
   },
   {
    "duration": 5,
    "start_time": "2021-11-10T01:08:37.400Z"
   },
   {
    "duration": 30,
    "start_time": "2021-11-10T01:08:56.742Z"
   },
   {
    "duration": 14,
    "start_time": "2021-11-10T01:09:53.276Z"
   },
   {
    "duration": 7,
    "start_time": "2021-11-10T01:10:34.191Z"
   },
   {
    "duration": 6,
    "start_time": "2021-11-10T01:11:01.438Z"
   },
   {
    "duration": 22,
    "start_time": "2021-11-10T01:13:53.921Z"
   },
   {
    "duration": 6,
    "start_time": "2021-11-10T01:15:12.122Z"
   },
   {
    "duration": 18,
    "start_time": "2021-11-10T01:15:17.568Z"
   },
   {
    "duration": 491,
    "start_time": "2021-11-10T01:19:46.398Z"
   },
   {
    "duration": 435,
    "start_time": "2021-11-10T01:19:50.685Z"
   },
   {
    "duration": 4,
    "start_time": "2021-11-10T01:20:49.993Z"
   },
   {
    "duration": 7,
    "start_time": "2021-11-10T01:20:50.000Z"
   },
   {
    "duration": 1108,
    "start_time": "2021-11-10T01:20:50.010Z"
   },
   {
    "duration": 261,
    "start_time": "2021-11-10T01:20:51.121Z"
   },
   {
    "duration": 226,
    "start_time": "2021-11-10T01:20:51.384Z"
   },
   {
    "duration": 145,
    "start_time": "2021-11-10T01:20:51.612Z"
   },
   {
    "duration": 8,
    "start_time": "2021-11-10T01:20:51.760Z"
   },
   {
    "duration": 18,
    "start_time": "2021-11-10T01:20:51.770Z"
   },
   {
    "duration": 523,
    "start_time": "2021-11-10T01:20:51.792Z"
   },
   {
    "duration": 14,
    "start_time": "2021-11-10T01:20:52.318Z"
   },
   {
    "duration": 513,
    "start_time": "2021-11-10T01:20:52.335Z"
   },
   {
    "duration": 13,
    "start_time": "2021-11-10T01:20:52.850Z"
   },
   {
    "duration": 11,
    "start_time": "2021-11-10T01:20:52.882Z"
   },
   {
    "duration": 153,
    "start_time": "2021-11-10T01:20:52.897Z"
   },
   {
    "duration": 32,
    "start_time": "2021-11-10T01:20:53.052Z"
   },
   {
    "duration": 4,
    "start_time": "2021-11-10T01:20:53.087Z"
   },
   {
    "duration": 9,
    "start_time": "2021-11-10T01:20:53.093Z"
   },
   {
    "duration": 514,
    "start_time": "2021-11-10T01:20:53.104Z"
   },
   {
    "duration": 436,
    "start_time": "2021-11-10T01:20:53.620Z"
   },
   {
    "duration": 8,
    "start_time": "2021-11-10T01:20:54.058Z"
   },
   {
    "duration": 23,
    "start_time": "2021-11-10T01:20:54.068Z"
   },
   {
    "duration": 5,
    "start_time": "2021-11-10T01:20:54.093Z"
   },
   {
    "duration": 9,
    "start_time": "2021-11-10T01:20:54.101Z"
   },
   {
    "duration": 10,
    "start_time": "2021-11-10T01:20:54.112Z"
   },
   {
    "duration": 12,
    "start_time": "2021-11-10T01:20:54.124Z"
   },
   {
    "duration": 44,
    "start_time": "2021-11-10T01:20:54.138Z"
   },
   {
    "duration": 8,
    "start_time": "2021-11-10T01:20:54.187Z"
   },
   {
    "duration": 23,
    "start_time": "2021-11-10T01:20:54.197Z"
   },
   {
    "duration": 3,
    "start_time": "2021-11-10T01:22:54.382Z"
   },
   {
    "duration": 16,
    "start_time": "2021-11-10T01:22:56.186Z"
   },
   {
    "duration": 15,
    "start_time": "2021-11-10T01:22:59.742Z"
   },
   {
    "duration": 16,
    "start_time": "2021-11-10T01:23:01.331Z"
   },
   {
    "duration": 7,
    "start_time": "2021-11-10T01:23:03.552Z"
   },
   {
    "duration": 5,
    "start_time": "2021-11-10T01:23:08.461Z"
   },
   {
    "duration": 12,
    "start_time": "2021-11-10T01:23:10.552Z"
   },
   {
    "duration": 6,
    "start_time": "2021-11-10T01:23:15.833Z"
   },
   {
    "duration": 4,
    "start_time": "2021-11-10T01:25:38.078Z"
   },
   {
    "duration": 6,
    "start_time": "2021-11-10T01:25:38.085Z"
   },
   {
    "duration": 1127,
    "start_time": "2021-11-10T01:25:38.094Z"
   },
   {
    "duration": 341,
    "start_time": "2021-11-10T01:25:39.224Z"
   },
   {
    "duration": 345,
    "start_time": "2021-11-10T01:25:39.567Z"
   },
   {
    "duration": 164,
    "start_time": "2021-11-10T01:25:39.914Z"
   },
   {
    "duration": 11,
    "start_time": "2021-11-10T01:25:40.083Z"
   },
   {
    "duration": 7,
    "start_time": "2021-11-10T01:25:40.096Z"
   },
   {
    "duration": 501,
    "start_time": "2021-11-10T01:25:40.109Z"
   },
   {
    "duration": 17,
    "start_time": "2021-11-10T01:25:40.615Z"
   },
   {
    "duration": 562,
    "start_time": "2021-11-10T01:25:40.635Z"
   },
   {
    "duration": 14,
    "start_time": "2021-11-10T01:25:41.200Z"
   },
   {
    "duration": 11,
    "start_time": "2021-11-10T01:25:41.216Z"
   },
   {
    "duration": 490,
    "start_time": "2021-11-10T01:25:41.229Z"
   },
   {
    "duration": 25,
    "start_time": "2021-11-10T01:25:41.722Z"
   },
   {
    "duration": 5,
    "start_time": "2021-11-10T01:25:41.749Z"
   },
   {
    "duration": 26,
    "start_time": "2021-11-10T01:25:41.756Z"
   },
   {
    "duration": 514,
    "start_time": "2021-11-10T01:25:41.784Z"
   },
   {
    "duration": 439,
    "start_time": "2021-11-10T01:25:42.300Z"
   },
   {
    "duration": 7,
    "start_time": "2021-11-10T01:25:42.742Z"
   },
   {
    "duration": 32,
    "start_time": "2021-11-10T01:25:42.752Z"
   },
   {
    "duration": 6,
    "start_time": "2021-11-10T01:25:42.787Z"
   },
   {
    "duration": 14,
    "start_time": "2021-11-10T01:25:42.796Z"
   },
   {
    "duration": 13,
    "start_time": "2021-11-10T01:25:42.813Z"
   },
   {
    "duration": 15,
    "start_time": "2021-11-10T01:25:42.828Z"
   },
   {
    "duration": 15,
    "start_time": "2021-11-10T01:25:42.846Z"
   },
   {
    "duration": 8,
    "start_time": "2021-11-10T01:25:42.881Z"
   },
   {
    "duration": 23,
    "start_time": "2021-11-10T01:25:42.892Z"
   },
   {
    "duration": 3,
    "start_time": "2021-11-10T01:25:42.917Z"
   },
   {
    "duration": 4,
    "start_time": "2021-11-10T01:25:46.111Z"
   },
   {
    "duration": 8,
    "start_time": "2021-11-10T01:25:48.610Z"
   },
   {
    "duration": 715,
    "start_time": "2021-11-10T01:26:03.857Z"
   },
   {
    "duration": 4,
    "start_time": "2021-11-10T01:27:20.424Z"
   },
   {
    "duration": 18,
    "start_time": "2021-11-10T01:27:20.431Z"
   },
   {
    "duration": 1050,
    "start_time": "2021-11-10T01:27:20.452Z"
   },
   {
    "duration": 249,
    "start_time": "2021-11-10T01:27:21.504Z"
   },
   {
    "duration": 252,
    "start_time": "2021-11-10T01:27:21.755Z"
   },
   {
    "duration": 137,
    "start_time": "2021-11-10T01:27:22.009Z"
   },
   {
    "duration": 8,
    "start_time": "2021-11-10T01:27:22.149Z"
   },
   {
    "duration": 22,
    "start_time": "2021-11-10T01:27:22.161Z"
   },
   {
    "duration": 485,
    "start_time": "2021-11-10T01:27:22.186Z"
   },
   {
    "duration": 20,
    "start_time": "2021-11-10T01:27:22.673Z"
   },
   {
    "duration": 612,
    "start_time": "2021-11-10T01:27:22.695Z"
   },
   {
    "duration": 13,
    "start_time": "2021-11-10T01:27:23.309Z"
   },
   {
    "duration": 10,
    "start_time": "2021-11-10T01:27:23.324Z"
   },
   {
    "duration": 142,
    "start_time": "2021-11-10T01:27:23.337Z"
   },
   {
    "duration": 24,
    "start_time": "2021-11-10T01:27:23.482Z"
   },
   {
    "duration": 4,
    "start_time": "2021-11-10T01:27:23.508Z"
   },
   {
    "duration": 13,
    "start_time": "2021-11-10T01:27:23.514Z"
   },
   {
    "duration": 615,
    "start_time": "2021-11-10T01:27:23.529Z"
   },
   {
    "duration": 426,
    "start_time": "2021-11-10T01:27:24.146Z"
   },
   {
    "duration": 8,
    "start_time": "2021-11-10T01:27:24.581Z"
   },
   {
    "duration": 13,
    "start_time": "2021-11-10T01:27:24.591Z"
   },
   {
    "duration": 6,
    "start_time": "2021-11-10T01:27:24.606Z"
   },
   {
    "duration": 5,
    "start_time": "2021-11-10T01:27:24.617Z"
   },
   {
    "duration": 9,
    "start_time": "2021-11-10T01:27:24.624Z"
   },
   {
    "duration": 48,
    "start_time": "2021-11-10T01:27:24.635Z"
   },
   {
    "duration": 10,
    "start_time": "2021-11-10T01:27:24.686Z"
   },
   {
    "duration": 8,
    "start_time": "2021-11-10T01:27:24.698Z"
   },
   {
    "duration": 20,
    "start_time": "2021-11-10T01:27:24.709Z"
   },
   {
    "duration": 4,
    "start_time": "2021-11-10T01:27:24.731Z"
   },
   {
    "duration": 44,
    "start_time": "2021-11-10T01:27:24.738Z"
   },
   {
    "duration": 8,
    "start_time": "2021-11-10T01:27:26.642Z"
   },
   {
    "duration": 8,
    "start_time": "2021-11-10T01:27:32.200Z"
   },
   {
    "duration": 8,
    "start_time": "2021-11-10T01:27:33.475Z"
   },
   {
    "duration": 7,
    "start_time": "2021-11-10T01:27:38.117Z"
   },
   {
    "duration": 4,
    "start_time": "2021-11-10T01:28:02.538Z"
   },
   {
    "duration": 7,
    "start_time": "2021-11-10T01:28:05.028Z"
   },
   {
    "duration": 5,
    "start_time": "2021-11-10T01:28:08.923Z"
   },
   {
    "duration": 12,
    "start_time": "2021-11-10T01:28:10.758Z"
   },
   {
    "duration": 5,
    "start_time": "2021-11-10T01:28:13.340Z"
   },
   {
    "duration": 7,
    "start_time": "2021-11-10T01:28:48.699Z"
   },
   {
    "duration": 20,
    "start_time": "2021-11-10T01:28:56.261Z"
   },
   {
    "duration": 21,
    "start_time": "2021-11-10T01:29:20.536Z"
   },
   {
    "duration": 8,
    "start_time": "2021-11-10T01:29:44.893Z"
   },
   {
    "duration": 11,
    "start_time": "2021-11-10T01:29:51.319Z"
   },
   {
    "duration": 4,
    "start_time": "2021-11-10T01:30:21.213Z"
   },
   {
    "duration": 5,
    "start_time": "2021-11-10T01:30:21.223Z"
   },
   {
    "duration": 1042,
    "start_time": "2021-11-10T01:30:21.231Z"
   },
   {
    "duration": 250,
    "start_time": "2021-11-10T01:30:22.276Z"
   },
   {
    "duration": 225,
    "start_time": "2021-11-10T01:30:22.529Z"
   },
   {
    "duration": 141,
    "start_time": "2021-11-10T01:30:22.756Z"
   },
   {
    "duration": 10,
    "start_time": "2021-11-10T01:30:22.899Z"
   },
   {
    "duration": 7,
    "start_time": "2021-11-10T01:30:22.912Z"
   },
   {
    "duration": 496,
    "start_time": "2021-11-10T01:30:22.922Z"
   },
   {
    "duration": 15,
    "start_time": "2021-11-10T01:30:23.421Z"
   },
   {
    "duration": 519,
    "start_time": "2021-11-10T01:30:23.438Z"
   },
   {
    "duration": 29,
    "start_time": "2021-11-10T01:30:23.960Z"
   },
   {
    "duration": 9,
    "start_time": "2021-11-10T01:30:23.991Z"
   },
   {
    "duration": 126,
    "start_time": "2021-11-10T01:30:24.003Z"
   },
   {
    "duration": 24,
    "start_time": "2021-11-10T01:30:24.131Z"
   },
   {
    "duration": 4,
    "start_time": "2021-11-10T01:30:24.157Z"
   },
   {
    "duration": 19,
    "start_time": "2021-11-10T01:30:24.163Z"
   },
   {
    "duration": 500,
    "start_time": "2021-11-10T01:30:24.184Z"
   },
   {
    "duration": 437,
    "start_time": "2021-11-10T01:30:24.686Z"
   },
   {
    "duration": 8,
    "start_time": "2021-11-10T01:30:25.125Z"
   },
   {
    "duration": 11,
    "start_time": "2021-11-10T01:30:25.135Z"
   },
   {
    "duration": 7,
    "start_time": "2021-11-10T01:30:25.148Z"
   },
   {
    "duration": 27,
    "start_time": "2021-11-10T01:30:25.158Z"
   },
   {
    "duration": 9,
    "start_time": "2021-11-10T01:30:25.189Z"
   },
   {
    "duration": 7,
    "start_time": "2021-11-10T01:30:25.200Z"
   },
   {
    "duration": 12,
    "start_time": "2021-11-10T01:30:25.209Z"
   },
   {
    "duration": 8,
    "start_time": "2021-11-10T01:30:25.224Z"
   },
   {
    "duration": 61,
    "start_time": "2021-11-10T01:30:25.234Z"
   },
   {
    "duration": 5,
    "start_time": "2021-11-10T01:30:25.298Z"
   },
   {
    "duration": 4,
    "start_time": "2021-11-10T01:30:25.306Z"
   },
   {
    "duration": 9,
    "start_time": "2021-11-10T01:30:25.312Z"
   },
   {
    "duration": 11,
    "start_time": "2021-11-10T01:30:25.323Z"
   },
   {
    "duration": 10,
    "start_time": "2021-11-10T01:30:25.336Z"
   },
   {
    "duration": 37,
    "start_time": "2021-11-10T01:30:25.348Z"
   },
   {
    "duration": 8,
    "start_time": "2021-11-10T01:30:25.387Z"
   },
   {
    "duration": 10,
    "start_time": "2021-11-10T01:30:28.529Z"
   },
   {
    "duration": 4,
    "start_time": "2021-11-10T01:30:55.775Z"
   },
   {
    "duration": 10,
    "start_time": "2021-11-10T01:30:55.781Z"
   },
   {
    "duration": 1075,
    "start_time": "2021-11-10T01:30:55.794Z"
   },
   {
    "duration": 254,
    "start_time": "2021-11-10T01:30:56.872Z"
   },
   {
    "duration": 223,
    "start_time": "2021-11-10T01:30:57.129Z"
   },
   {
    "duration": 139,
    "start_time": "2021-11-10T01:30:57.355Z"
   },
   {
    "duration": 9,
    "start_time": "2021-11-10T01:30:57.499Z"
   },
   {
    "duration": 7,
    "start_time": "2021-11-10T01:30:57.511Z"
   },
   {
    "duration": 495,
    "start_time": "2021-11-10T01:30:57.520Z"
   },
   {
    "duration": 14,
    "start_time": "2021-11-10T01:30:58.018Z"
   },
   {
    "duration": 526,
    "start_time": "2021-11-10T01:30:58.035Z"
   },
   {
    "duration": 21,
    "start_time": "2021-11-10T01:30:58.563Z"
   },
   {
    "duration": 12,
    "start_time": "2021-11-10T01:30:58.586Z"
   },
   {
    "duration": 134,
    "start_time": "2021-11-10T01:30:58.600Z"
   },
   {
    "duration": 23,
    "start_time": "2021-11-10T01:30:58.737Z"
   },
   {
    "duration": 4,
    "start_time": "2021-11-10T01:30:58.763Z"
   },
   {
    "duration": 5,
    "start_time": "2021-11-10T01:30:58.782Z"
   },
   {
    "duration": 499,
    "start_time": "2021-11-10T01:30:58.790Z"
   },
   {
    "duration": 459,
    "start_time": "2021-11-10T01:30:59.295Z"
   },
   {
    "duration": 23,
    "start_time": "2021-11-10T01:30:59.758Z"
   },
   {
    "duration": 11,
    "start_time": "2021-11-10T01:30:59.784Z"
   },
   {
    "duration": 8,
    "start_time": "2021-11-10T01:30:59.798Z"
   },
   {
    "duration": 7,
    "start_time": "2021-11-10T01:30:59.809Z"
   },
   {
    "duration": 13,
    "start_time": "2021-11-10T01:30:59.819Z"
   },
   {
    "duration": 48,
    "start_time": "2021-11-10T01:30:59.834Z"
   },
   {
    "duration": 13,
    "start_time": "2021-11-10T01:30:59.885Z"
   },
   {
    "duration": 11,
    "start_time": "2021-11-10T01:30:59.900Z"
   },
   {
    "duration": 21,
    "start_time": "2021-11-10T01:30:59.914Z"
   },
   {
    "duration": 45,
    "start_time": "2021-11-10T01:30:59.937Z"
   },
   {
    "duration": 8,
    "start_time": "2021-11-10T01:30:59.984Z"
   },
   {
    "duration": 11,
    "start_time": "2021-11-10T01:30:59.994Z"
   },
   {
    "duration": 14,
    "start_time": "2021-11-10T01:31:00.007Z"
   },
   {
    "duration": 28,
    "start_time": "2021-11-10T01:31:00.024Z"
   },
   {
    "duration": 19,
    "start_time": "2021-11-10T01:31:00.055Z"
   },
   {
    "duration": 25,
    "start_time": "2021-11-10T01:31:00.077Z"
   },
   {
    "duration": 19,
    "start_time": "2021-11-10T01:31:00.105Z"
   },
   {
    "duration": 9,
    "start_time": "2021-11-10T01:31:00.126Z"
   },
   {
    "duration": 12,
    "start_time": "2021-11-10T01:31:00.137Z"
   },
   {
    "duration": 7,
    "start_time": "2021-11-10T01:31:00.152Z"
   },
   {
    "duration": 4,
    "start_time": "2021-11-10T01:31:57.512Z"
   },
   {
    "duration": 7,
    "start_time": "2021-11-10T01:31:57.519Z"
   },
   {
    "duration": 1052,
    "start_time": "2021-11-10T01:31:57.529Z"
   },
   {
    "duration": 252,
    "start_time": "2021-11-10T01:31:58.583Z"
   },
   {
    "duration": 220,
    "start_time": "2021-11-10T01:31:58.838Z"
   },
   {
    "duration": 141,
    "start_time": "2021-11-10T01:31:59.060Z"
   },
   {
    "duration": 9,
    "start_time": "2021-11-10T01:31:59.203Z"
   },
   {
    "duration": 8,
    "start_time": "2021-11-10T01:31:59.216Z"
   },
   {
    "duration": 484,
    "start_time": "2021-11-10T01:31:59.227Z"
   },
   {
    "duration": 15,
    "start_time": "2021-11-10T01:31:59.714Z"
   },
   {
    "duration": 622,
    "start_time": "2021-11-10T01:31:59.731Z"
   },
   {
    "duration": 30,
    "start_time": "2021-11-10T01:32:00.356Z"
   },
   {
    "duration": 10,
    "start_time": "2021-11-10T01:32:00.389Z"
   },
   {
    "duration": 134,
    "start_time": "2021-11-10T01:32:00.401Z"
   },
   {
    "duration": 25,
    "start_time": "2021-11-10T01:32:00.537Z"
   },
   {
    "duration": 6,
    "start_time": "2021-11-10T01:32:00.581Z"
   },
   {
    "duration": 22,
    "start_time": "2021-11-10T01:32:00.590Z"
   },
   {
    "duration": 509,
    "start_time": "2021-11-10T01:32:00.614Z"
   },
   {
    "duration": 431,
    "start_time": "2021-11-10T01:32:01.126Z"
   },
   {
    "duration": 22,
    "start_time": "2021-11-10T01:32:01.560Z"
   },
   {
    "duration": 12,
    "start_time": "2021-11-10T01:32:01.585Z"
   },
   {
    "duration": 9,
    "start_time": "2021-11-10T01:32:01.599Z"
   },
   {
    "duration": 6,
    "start_time": "2021-11-10T01:32:01.615Z"
   },
   {
    "duration": 63,
    "start_time": "2021-11-10T01:32:01.624Z"
   },
   {
    "duration": 13,
    "start_time": "2021-11-10T01:32:01.690Z"
   },
   {
    "duration": 14,
    "start_time": "2021-11-10T01:32:01.706Z"
   },
   {
    "duration": 11,
    "start_time": "2021-11-10T01:32:01.723Z"
   },
   {
    "duration": 46,
    "start_time": "2021-11-10T01:32:01.736Z"
   },
   {
    "duration": 4,
    "start_time": "2021-11-10T01:32:01.786Z"
   },
   {
    "duration": 8,
    "start_time": "2021-11-10T01:32:01.793Z"
   },
   {
    "duration": 15,
    "start_time": "2021-11-10T01:32:01.804Z"
   },
   {
    "duration": 13,
    "start_time": "2021-11-10T01:32:01.822Z"
   },
   {
    "duration": 13,
    "start_time": "2021-11-10T01:32:01.838Z"
   },
   {
    "duration": 8,
    "start_time": "2021-11-10T01:32:01.882Z"
   },
   {
    "duration": 15,
    "start_time": "2021-11-10T01:32:01.893Z"
   },
   {
    "duration": 15,
    "start_time": "2021-11-10T01:32:01.911Z"
   },
   {
    "duration": 7,
    "start_time": "2021-11-10T01:32:01.929Z"
   },
   {
    "duration": 8,
    "start_time": "2021-11-10T01:33:07.966Z"
   },
   {
    "duration": 5,
    "start_time": "2021-11-10T01:33:10.351Z"
   },
   {
    "duration": 7,
    "start_time": "2021-11-10T01:33:12.184Z"
   },
   {
    "duration": 12,
    "start_time": "2021-11-10T01:33:14.028Z"
   },
   {
    "duration": 6,
    "start_time": "2021-11-10T01:33:16.235Z"
   },
   {
    "duration": 3,
    "start_time": "2021-11-10T01:33:57.661Z"
   },
   {
    "duration": 7,
    "start_time": "2021-11-10T01:33:57.667Z"
   },
   {
    "duration": 1065,
    "start_time": "2021-11-10T01:33:57.677Z"
   },
   {
    "duration": 246,
    "start_time": "2021-11-10T01:33:58.744Z"
   },
   {
    "duration": 211,
    "start_time": "2021-11-10T01:33:58.993Z"
   },
   {
    "duration": 147,
    "start_time": "2021-11-10T01:33:59.207Z"
   },
   {
    "duration": 8,
    "start_time": "2021-11-10T01:33:59.357Z"
   },
   {
    "duration": 16,
    "start_time": "2021-11-10T01:33:59.367Z"
   },
   {
    "duration": 476,
    "start_time": "2021-11-10T01:33:59.387Z"
   },
   {
    "duration": 26,
    "start_time": "2021-11-10T01:33:59.867Z"
   },
   {
    "duration": 926,
    "start_time": "2021-11-10T01:33:59.896Z"
   },
   {
    "duration": 12,
    "start_time": "2021-11-10T01:34:00.824Z"
   },
   {
    "duration": 10,
    "start_time": "2021-11-10T01:34:00.839Z"
   },
   {
    "duration": 134,
    "start_time": "2021-11-10T01:34:00.852Z"
   },
   {
    "duration": 24,
    "start_time": "2021-11-10T01:34:00.989Z"
   },
   {
    "duration": 11,
    "start_time": "2021-11-10T01:34:01.016Z"
   },
   {
    "duration": 11,
    "start_time": "2021-11-10T01:34:01.029Z"
   },
   {
    "duration": 513,
    "start_time": "2021-11-10T01:34:01.042Z"
   },
   {
    "duration": 441,
    "start_time": "2021-11-10T01:34:01.557Z"
   },
   {
    "duration": 8,
    "start_time": "2021-11-10T01:34:02.001Z"
   },
   {
    "duration": 13,
    "start_time": "2021-11-10T01:34:02.011Z"
   },
   {
    "duration": 5,
    "start_time": "2021-11-10T01:34:02.027Z"
   },
   {
    "duration": 7,
    "start_time": "2021-11-10T01:34:02.034Z"
   },
   {
    "duration": 9,
    "start_time": "2021-11-10T01:34:02.083Z"
   },
   {
    "duration": 13,
    "start_time": "2021-11-10T01:34:02.095Z"
   },
   {
    "duration": 27,
    "start_time": "2021-11-10T01:34:02.110Z"
   },
   {
    "duration": 14,
    "start_time": "2021-11-10T01:34:02.142Z"
   },
   {
    "duration": 29,
    "start_time": "2021-11-10T01:34:02.159Z"
   },
   {
    "duration": 3,
    "start_time": "2021-11-10T01:35:04.153Z"
   },
   {
    "duration": 8,
    "start_time": "2021-11-10T01:35:20.007Z"
   },
   {
    "duration": 7,
    "start_time": "2021-11-10T01:35:22.435Z"
   },
   {
    "duration": 7,
    "start_time": "2021-11-10T01:35:26.000Z"
   },
   {
    "duration": 5,
    "start_time": "2021-11-10T01:36:17.276Z"
   },
   {
    "duration": 8,
    "start_time": "2021-11-10T01:36:28.082Z"
   },
   {
    "duration": 8,
    "start_time": "2021-11-10T01:36:45.219Z"
   },
   {
    "duration": 7,
    "start_time": "2021-11-10T01:37:06.754Z"
   },
   {
    "duration": 5,
    "start_time": "2021-11-10T01:37:20.264Z"
   },
   {
    "duration": 7,
    "start_time": "2021-11-10T01:37:27.179Z"
   },
   {
    "duration": 7,
    "start_time": "2021-11-10T01:37:47.187Z"
   },
   {
    "duration": 7,
    "start_time": "2021-11-10T01:37:50.863Z"
   },
   {
    "duration": 8,
    "start_time": "2021-11-10T01:38:29.840Z"
   },
   {
    "duration": 4,
    "start_time": "2021-11-10T01:38:58.589Z"
   },
   {
    "duration": 7,
    "start_time": "2021-11-10T01:39:01.235Z"
   },
   {
    "duration": 7,
    "start_time": "2021-11-10T01:39:17.029Z"
   },
   {
    "duration": 5,
    "start_time": "2021-11-10T01:39:51.275Z"
   },
   {
    "duration": 8,
    "start_time": "2021-11-10T01:39:53.923Z"
   },
   {
    "duration": 8,
    "start_time": "2021-11-10T01:40:09.417Z"
   },
   {
    "duration": 8,
    "start_time": "2021-11-10T01:40:16.479Z"
   },
   {
    "duration": 11,
    "start_time": "2021-11-10T01:40:19.772Z"
   },
   {
    "duration": 6,
    "start_time": "2021-11-10T01:41:35.703Z"
   },
   {
    "duration": 5,
    "start_time": "2021-11-10T01:41:38.016Z"
   },
   {
    "duration": 9,
    "start_time": "2021-11-10T01:41:38.024Z"
   },
   {
    "duration": 1231,
    "start_time": "2021-11-10T01:41:38.037Z"
   },
   {
    "duration": 272,
    "start_time": "2021-11-10T01:41:39.271Z"
   },
   {
    "duration": 290,
    "start_time": "2021-11-10T01:41:39.546Z"
   },
   {
    "duration": 184,
    "start_time": "2021-11-10T01:41:39.839Z"
   },
   {
    "duration": 9,
    "start_time": "2021-11-10T01:41:40.025Z"
   },
   {
    "duration": 46,
    "start_time": "2021-11-10T01:41:40.037Z"
   },
   {
    "duration": 606,
    "start_time": "2021-11-10T01:41:40.086Z"
   },
   {
    "duration": 16,
    "start_time": "2021-11-10T01:41:40.694Z"
   },
   {
    "duration": 526,
    "start_time": "2021-11-10T01:41:40.712Z"
   },
   {
    "duration": 13,
    "start_time": "2021-11-10T01:41:41.240Z"
   },
   {
    "duration": 29,
    "start_time": "2021-11-10T01:41:41.255Z"
   },
   {
    "duration": 126,
    "start_time": "2021-11-10T01:41:41.287Z"
   },
   {
    "duration": 26,
    "start_time": "2021-11-10T01:41:41.415Z"
   },
   {
    "duration": 4,
    "start_time": "2021-11-10T01:41:41.443Z"
   },
   {
    "duration": 19,
    "start_time": "2021-11-10T01:41:41.449Z"
   },
   {
    "duration": 506,
    "start_time": "2021-11-10T01:41:41.483Z"
   },
   {
    "duration": 443,
    "start_time": "2021-11-10T01:41:41.992Z"
   },
   {
    "duration": 8,
    "start_time": "2021-11-10T01:41:42.437Z"
   },
   {
    "duration": 16,
    "start_time": "2021-11-10T01:41:42.447Z"
   },
   {
    "duration": 6,
    "start_time": "2021-11-10T01:41:42.483Z"
   },
   {
    "duration": 15,
    "start_time": "2021-11-10T01:41:42.494Z"
   },
   {
    "duration": 20,
    "start_time": "2021-11-10T01:41:42.512Z"
   },
   {
    "duration": 31,
    "start_time": "2021-11-10T01:41:42.534Z"
   },
   {
    "duration": 15,
    "start_time": "2021-11-10T01:41:42.567Z"
   },
   {
    "duration": 11,
    "start_time": "2021-11-10T01:41:42.585Z"
   },
   {
    "duration": 21,
    "start_time": "2021-11-10T01:41:42.598Z"
   },
   {
    "duration": 7,
    "start_time": "2021-11-10T01:41:42.621Z"
   },
   {
    "duration": 11,
    "start_time": "2021-11-10T01:41:42.630Z"
   },
   {
    "duration": 12,
    "start_time": "2021-11-10T01:41:42.644Z"
   },
   {
    "duration": 8,
    "start_time": "2021-11-10T01:41:42.683Z"
   },
   {
    "duration": 6,
    "start_time": "2021-11-10T01:41:42.693Z"
   },
   {
    "duration": 9,
    "start_time": "2021-11-10T01:41:42.701Z"
   },
   {
    "duration": 5,
    "start_time": "2021-11-10T01:41:42.712Z"
   },
   {
    "duration": 8,
    "start_time": "2021-11-10T01:41:42.719Z"
   },
   {
    "duration": 8,
    "start_time": "2021-11-10T01:41:42.730Z"
   },
   {
    "duration": 47,
    "start_time": "2021-11-10T01:41:42.740Z"
   },
   {
    "duration": 7,
    "start_time": "2021-11-10T01:41:47.071Z"
   },
   {
    "duration": 7,
    "start_time": "2021-11-10T01:43:01.535Z"
   },
   {
    "duration": 20,
    "start_time": "2021-11-10T01:43:09.150Z"
   },
   {
    "duration": 6,
    "start_time": "2021-11-10T01:43:34.342Z"
   },
   {
    "duration": 11,
    "start_time": "2021-11-10T01:43:57.691Z"
   },
   {
    "duration": 7,
    "start_time": "2021-11-10T01:46:05.644Z"
   },
   {
    "duration": 8,
    "start_time": "2021-11-10T01:48:15.043Z"
   },
   {
    "duration": 18,
    "start_time": "2021-11-10T01:48:24.466Z"
   },
   {
    "duration": 22,
    "start_time": "2021-11-10T01:49:01.076Z"
   },
   {
    "duration": 18,
    "start_time": "2021-11-10T01:49:21.153Z"
   },
   {
    "duration": 21,
    "start_time": "2021-11-10T01:50:16.697Z"
   },
   {
    "duration": 22,
    "start_time": "2021-11-10T01:50:53.039Z"
   },
   {
    "duration": 37,
    "start_time": "2021-11-10T01:51:06.885Z"
   },
   {
    "duration": 37,
    "start_time": "2021-11-10T01:53:23.686Z"
   },
   {
    "duration": 6,
    "start_time": "2021-11-10T01:55:08.870Z"
   },
   {
    "duration": 36,
    "start_time": "2021-11-10T01:55:12.412Z"
   },
   {
    "duration": 34,
    "start_time": "2021-11-10T01:56:04.438Z"
   },
   {
    "duration": 35,
    "start_time": "2021-11-10T01:56:25.745Z"
   },
   {
    "duration": 35,
    "start_time": "2021-11-10T01:56:44.602Z"
   },
   {
    "duration": 35,
    "start_time": "2021-11-10T01:57:22.128Z"
   },
   {
    "duration": 36,
    "start_time": "2021-11-10T01:58:38.061Z"
   },
   {
    "duration": 22,
    "start_time": "2021-11-10T02:01:42.035Z"
   },
   {
    "duration": 16,
    "start_time": "2021-11-10T02:01:46.574Z"
   },
   {
    "duration": 16,
    "start_time": "2021-11-10T02:01:51.910Z"
   },
   {
    "duration": 16,
    "start_time": "2021-11-10T02:02:00.241Z"
   },
   {
    "duration": 6,
    "start_time": "2021-11-10T02:05:44.821Z"
   },
   {
    "duration": 5,
    "start_time": "2021-11-10T02:06:05.162Z"
   },
   {
    "duration": 326,
    "start_time": "2021-11-10T02:08:58.108Z"
   },
   {
    "duration": 10,
    "start_time": "2021-11-10T02:09:17.182Z"
   },
   {
    "duration": 5,
    "start_time": "2021-11-10T02:09:21.337Z"
   },
   {
    "duration": 5,
    "start_time": "2021-11-10T02:09:40.339Z"
   },
   {
    "duration": 5,
    "start_time": "2021-11-10T02:11:30.337Z"
   },
   {
    "duration": 5,
    "start_time": "2021-11-10T02:11:55.967Z"
   },
   {
    "duration": 6,
    "start_time": "2021-11-10T02:16:01.630Z"
   },
   {
    "duration": 6,
    "start_time": "2021-11-10T02:16:07.073Z"
   },
   {
    "duration": 306,
    "start_time": "2021-11-10T02:16:10.553Z"
   },
   {
    "duration": 319,
    "start_time": "2021-11-10T02:16:50.879Z"
   },
   {
    "duration": 5,
    "start_time": "2021-11-10T02:16:57.473Z"
   },
   {
    "duration": 5,
    "start_time": "2021-11-10T02:17:01.910Z"
   },
   {
    "duration": 5,
    "start_time": "2021-11-10T02:17:42.024Z"
   },
   {
    "duration": 10,
    "start_time": "2021-11-10T02:18:40.680Z"
   },
   {
    "duration": 5,
    "start_time": "2021-11-10T02:18:42.743Z"
   },
   {
    "duration": 5,
    "start_time": "2021-11-10T02:18:56.681Z"
   },
   {
    "duration": 10,
    "start_time": "2021-11-10T02:20:29.686Z"
   },
   {
    "duration": 5,
    "start_time": "2021-11-10T02:20:31.077Z"
   },
   {
    "duration": 9,
    "start_time": "2021-11-10T02:21:02.749Z"
   },
   {
    "duration": 5,
    "start_time": "2021-11-10T02:21:19.974Z"
   },
   {
    "duration": 10,
    "start_time": "2021-11-10T02:22:09.679Z"
   },
   {
    "duration": 5,
    "start_time": "2021-11-10T02:22:10.374Z"
   },
   {
    "duration": 10,
    "start_time": "2021-11-10T02:23:34.478Z"
   },
   {
    "duration": 330,
    "start_time": "2021-11-10T02:23:35.438Z"
   },
   {
    "duration": 6,
    "start_time": "2021-11-10T02:23:43.354Z"
   },
   {
    "duration": 9,
    "start_time": "2021-11-10T02:24:23.724Z"
   },
   {
    "duration": 5,
    "start_time": "2021-11-10T02:24:25.264Z"
   },
   {
    "duration": 299,
    "start_time": "2021-11-10T02:30:51.936Z"
   },
   {
    "duration": 5,
    "start_time": "2021-11-10T02:31:01.801Z"
   },
   {
    "duration": 10,
    "start_time": "2021-11-10T02:31:06.448Z"
   },
   {
    "duration": 5,
    "start_time": "2021-11-10T02:32:10.624Z"
   },
   {
    "duration": 10,
    "start_time": "2021-11-10T02:32:14.111Z"
   },
   {
    "duration": 5,
    "start_time": "2021-11-10T02:33:28.597Z"
   },
   {
    "duration": 5,
    "start_time": "2021-11-10T02:33:29.728Z"
   },
   {
    "duration": 10,
    "start_time": "2021-11-10T02:33:48.209Z"
   },
   {
    "duration": 11,
    "start_time": "2021-11-10T02:34:12.022Z"
   },
   {
    "duration": 10,
    "start_time": "2021-11-10T02:34:33.876Z"
   },
   {
    "duration": 54,
    "start_time": "2021-11-10T02:35:14.470Z"
   },
   {
    "duration": 54,
    "start_time": "2021-11-10T02:35:25.745Z"
   },
   {
    "duration": 48,
    "start_time": "2021-11-10T02:35:50.607Z"
   },
   {
    "duration": 46,
    "start_time": "2021-11-10T02:37:44.682Z"
   },
   {
    "duration": 44,
    "start_time": "2021-11-10T02:37:57.162Z"
   },
   {
    "duration": 45,
    "start_time": "2021-11-10T02:38:05.133Z"
   },
   {
    "duration": 287,
    "start_time": "2021-11-10T02:41:26.833Z"
   },
   {
    "duration": 317,
    "start_time": "2021-11-10T02:41:58.229Z"
   },
   {
    "duration": 340,
    "start_time": "2021-11-10T02:42:17.801Z"
   },
   {
    "duration": 342,
    "start_time": "2021-11-10T02:42:26.709Z"
   },
   {
    "duration": 562,
    "start_time": "2021-11-10T02:42:53.856Z"
   },
   {
    "duration": 427,
    "start_time": "2021-11-10T02:42:59.355Z"
   },
   {
    "duration": 407,
    "start_time": "2021-11-10T02:43:05.586Z"
   },
   {
    "duration": 550,
    "start_time": "2021-11-10T02:43:10.495Z"
   },
   {
    "duration": 572,
    "start_time": "2021-11-10T02:43:19.312Z"
   },
   {
    "duration": 433,
    "start_time": "2021-11-10T02:43:25.251Z"
   },
   {
    "duration": 416,
    "start_time": "2021-11-10T02:43:31.772Z"
   },
   {
    "duration": 548,
    "start_time": "2021-11-10T02:43:39.868Z"
   },
   {
    "duration": 527,
    "start_time": "2021-11-10T02:43:56.425Z"
   },
   {
    "duration": 565,
    "start_time": "2021-11-10T02:44:04.254Z"
   },
   {
    "duration": 540,
    "start_time": "2021-11-10T02:44:12.811Z"
   },
   {
    "duration": 598,
    "start_time": "2021-11-10T02:44:20.677Z"
   },
   {
    "duration": 1048,
    "start_time": "2021-11-10T02:44:29.674Z"
   },
   {
    "duration": 706,
    "start_time": "2021-11-10T02:44:39.981Z"
   },
   {
    "duration": 475,
    "start_time": "2021-11-10T02:44:45.795Z"
   },
   {
    "duration": 605,
    "start_time": "2021-11-10T02:44:50.825Z"
   },
   {
    "duration": 552,
    "start_time": "2021-11-10T02:45:18.096Z"
   },
   {
    "duration": 471,
    "start_time": "2021-11-10T02:45:26.669Z"
   },
   {
    "duration": 418,
    "start_time": "2021-11-10T02:45:31.495Z"
   },
   {
    "duration": 445,
    "start_time": "2021-11-10T02:45:36.526Z"
   },
   {
    "duration": 596,
    "start_time": "2021-11-10T02:46:15.722Z"
   },
   {
    "duration": 570,
    "start_time": "2021-11-10T02:46:17.601Z"
   },
   {
    "duration": 671,
    "start_time": "2021-11-10T02:46:29.162Z"
   },
   {
    "duration": 460,
    "start_time": "2021-11-10T02:46:37.136Z"
   },
   {
    "duration": 621,
    "start_time": "2021-11-10T02:46:43.727Z"
   },
   {
    "duration": 565,
    "start_time": "2021-11-10T02:46:54.336Z"
   },
   {
    "duration": 95,
    "start_time": "2021-11-10T03:00:07.510Z"
   },
   {
    "duration": 328,
    "start_time": "2021-11-10T03:07:56.969Z"
   },
   {
    "duration": 619,
    "start_time": "2021-11-10T03:08:13.637Z"
   },
   {
    "duration": 604,
    "start_time": "2021-11-10T03:10:09.451Z"
   },
   {
    "duration": 613,
    "start_time": "2021-11-10T03:14:04.338Z"
   },
   {
    "duration": 421,
    "start_time": "2021-11-10T03:16:42.899Z"
   },
   {
    "duration": 366,
    "start_time": "2021-11-10T03:17:42.220Z"
   },
   {
    "duration": 393,
    "start_time": "2021-11-10T03:19:54.992Z"
   },
   {
    "duration": 702,
    "start_time": "2021-11-10T03:20:03.886Z"
   },
   {
    "duration": 553,
    "start_time": "2021-11-10T03:20:17.279Z"
   },
   {
    "duration": 1069,
    "start_time": "2021-11-10T03:24:25.616Z"
   },
   {
    "duration": 24,
    "start_time": "2021-11-10T03:49:21.873Z"
   },
   {
    "duration": 288,
    "start_time": "2021-11-10T03:49:56.610Z"
   },
   {
    "duration": 23,
    "start_time": "2021-11-10T03:50:03.486Z"
   },
   {
    "duration": 23,
    "start_time": "2021-11-10T03:50:12.804Z"
   },
   {
    "duration": 4,
    "start_time": "2021-11-10T03:53:04.008Z"
   },
   {
    "duration": 8,
    "start_time": "2021-11-10T03:53:04.015Z"
   },
   {
    "duration": 1082,
    "start_time": "2021-11-10T03:53:04.026Z"
   },
   {
    "duration": 262,
    "start_time": "2021-11-10T03:53:05.111Z"
   },
   {
    "duration": 219,
    "start_time": "2021-11-10T03:53:05.376Z"
   },
   {
    "duration": 148,
    "start_time": "2021-11-10T03:53:05.598Z"
   },
   {
    "duration": 8,
    "start_time": "2021-11-10T03:53:05.749Z"
   },
   {
    "duration": 26,
    "start_time": "2021-11-10T03:53:05.760Z"
   },
   {
    "duration": 497,
    "start_time": "2021-11-10T03:53:05.788Z"
   },
   {
    "duration": 16,
    "start_time": "2021-11-10T03:53:06.287Z"
   },
   {
    "duration": 537,
    "start_time": "2021-11-10T03:53:06.305Z"
   },
   {
    "duration": 12,
    "start_time": "2021-11-10T03:53:06.845Z"
   },
   {
    "duration": 27,
    "start_time": "2021-11-10T03:53:06.859Z"
   },
   {
    "duration": 129,
    "start_time": "2021-11-10T03:53:06.890Z"
   },
   {
    "duration": 24,
    "start_time": "2021-11-10T03:53:07.022Z"
   },
   {
    "duration": 4,
    "start_time": "2021-11-10T03:53:07.048Z"
   },
   {
    "duration": 27,
    "start_time": "2021-11-10T03:53:07.055Z"
   },
   {
    "duration": 607,
    "start_time": "2021-11-10T03:53:07.084Z"
   },
   {
    "duration": 445,
    "start_time": "2021-11-10T03:53:07.693Z"
   },
   {
    "duration": 7,
    "start_time": "2021-11-10T03:53:08.141Z"
   },
   {
    "duration": 11,
    "start_time": "2021-11-10T03:53:08.151Z"
   },
   {
    "duration": 6,
    "start_time": "2021-11-10T03:53:08.182Z"
   },
   {
    "duration": 7,
    "start_time": "2021-11-10T03:53:08.190Z"
   },
   {
    "duration": 10,
    "start_time": "2021-11-10T03:53:08.199Z"
   },
   {
    "duration": 13,
    "start_time": "2021-11-10T03:53:08.211Z"
   },
   {
    "duration": 313,
    "start_time": "2021-11-10T03:53:08.226Z"
   },
   {
    "duration": 981,
    "start_time": "2021-11-10T03:53:07.562Z"
   },
   {
    "duration": 978,
    "start_time": "2021-11-10T03:53:07.566Z"
   },
   {
    "duration": 972,
    "start_time": "2021-11-10T03:53:07.574Z"
   },
   {
    "duration": 969,
    "start_time": "2021-11-10T03:53:07.578Z"
   },
   {
    "duration": 966,
    "start_time": "2021-11-10T03:53:07.582Z"
   },
   {
    "duration": 963,
    "start_time": "2021-11-10T03:53:07.586Z"
   },
   {
    "duration": 957,
    "start_time": "2021-11-10T03:53:07.594Z"
   },
   {
    "duration": 953,
    "start_time": "2021-11-10T03:53:07.599Z"
   },
   {
    "duration": 949,
    "start_time": "2021-11-10T03:53:07.604Z"
   },
   {
    "duration": 948,
    "start_time": "2021-11-10T03:53:07.607Z"
   },
   {
    "duration": 945,
    "start_time": "2021-11-10T03:53:07.611Z"
   },
   {
    "duration": 943,
    "start_time": "2021-11-10T03:53:07.614Z"
   },
   {
    "duration": 936,
    "start_time": "2021-11-10T03:53:07.622Z"
   },
   {
    "duration": 932,
    "start_time": "2021-11-10T03:53:07.627Z"
   },
   {
    "duration": 930,
    "start_time": "2021-11-10T03:53:07.631Z"
   },
   {
    "duration": 926,
    "start_time": "2021-11-10T03:53:07.636Z"
   },
   {
    "duration": 922,
    "start_time": "2021-11-10T03:53:07.641Z"
   },
   {
    "duration": 920,
    "start_time": "2021-11-10T03:53:07.645Z"
   },
   {
    "duration": 918,
    "start_time": "2021-11-10T03:53:07.649Z"
   },
   {
    "duration": 902,
    "start_time": "2021-11-10T03:53:07.666Z"
   },
   {
    "duration": 899,
    "start_time": "2021-11-10T03:53:07.671Z"
   },
   {
    "duration": 893,
    "start_time": "2021-11-10T03:53:07.678Z"
   },
   {
    "duration": 887,
    "start_time": "2021-11-10T03:53:07.685Z"
   },
   {
    "duration": 885,
    "start_time": "2021-11-10T03:53:07.689Z"
   },
   {
    "duration": 880,
    "start_time": "2021-11-10T03:53:07.695Z"
   },
   {
    "duration": 875,
    "start_time": "2021-11-10T03:53:07.701Z"
   },
   {
    "duration": 869,
    "start_time": "2021-11-10T03:53:07.708Z"
   },
   {
    "duration": 865,
    "start_time": "2021-11-10T03:53:07.713Z"
   },
   {
    "duration": 861,
    "start_time": "2021-11-10T03:53:07.718Z"
   },
   {
    "duration": 857,
    "start_time": "2021-11-10T03:53:07.723Z"
   },
   {
    "duration": 852,
    "start_time": "2021-11-10T03:53:07.729Z"
   },
   {
    "duration": 848,
    "start_time": "2021-11-10T03:53:07.734Z"
   },
   {
    "duration": 843,
    "start_time": "2021-11-10T03:53:07.741Z"
   },
   {
    "duration": 841,
    "start_time": "2021-11-10T03:53:07.744Z"
   },
   {
    "duration": 4,
    "start_time": "2021-11-10T03:53:44.611Z"
   },
   {
    "duration": 8,
    "start_time": "2021-11-10T03:53:44.617Z"
   },
   {
    "duration": 1102,
    "start_time": "2021-11-10T03:53:44.628Z"
   },
   {
    "duration": 260,
    "start_time": "2021-11-10T03:53:45.732Z"
   },
   {
    "duration": 227,
    "start_time": "2021-11-10T03:53:45.994Z"
   },
   {
    "duration": 151,
    "start_time": "2021-11-10T03:53:46.224Z"
   },
   {
    "duration": 9,
    "start_time": "2021-11-10T03:53:46.378Z"
   },
   {
    "duration": 8,
    "start_time": "2021-11-10T03:53:46.391Z"
   },
   {
    "duration": 498,
    "start_time": "2021-11-10T03:53:46.403Z"
   },
   {
    "duration": 15,
    "start_time": "2021-11-10T03:53:46.904Z"
   },
   {
    "duration": 630,
    "start_time": "2021-11-10T03:53:46.922Z"
   },
   {
    "duration": 13,
    "start_time": "2021-11-10T03:53:47.554Z"
   },
   {
    "duration": 10,
    "start_time": "2021-11-10T03:53:47.582Z"
   },
   {
    "duration": 127,
    "start_time": "2021-11-10T03:53:47.595Z"
   },
   {
    "duration": 24,
    "start_time": "2021-11-10T03:53:47.724Z"
   },
   {
    "duration": 4,
    "start_time": "2021-11-10T03:53:47.751Z"
   },
   {
    "duration": 25,
    "start_time": "2021-11-10T03:53:47.757Z"
   },
   {
    "duration": 510,
    "start_time": "2021-11-10T03:53:47.785Z"
   },
   {
    "duration": 458,
    "start_time": "2021-11-10T03:53:48.297Z"
   },
   {
    "duration": 8,
    "start_time": "2021-11-10T03:53:48.757Z"
   },
   {
    "duration": 23,
    "start_time": "2021-11-10T03:53:48.767Z"
   },
   {
    "duration": 5,
    "start_time": "2021-11-10T03:53:48.793Z"
   },
   {
    "duration": 5,
    "start_time": "2021-11-10T03:53:48.805Z"
   },
   {
    "duration": 10,
    "start_time": "2021-11-10T03:53:48.814Z"
   },
   {
    "duration": 10,
    "start_time": "2021-11-10T03:53:48.826Z"
   },
   {
    "duration": 54,
    "start_time": "2021-11-10T03:53:48.838Z"
   },
   {
    "duration": 9,
    "start_time": "2021-11-10T03:53:48.894Z"
   },
   {
    "duration": 22,
    "start_time": "2021-11-10T03:53:48.905Z"
   },
   {
    "duration": 3,
    "start_time": "2021-11-10T03:53:48.930Z"
   },
   {
    "duration": 48,
    "start_time": "2021-11-10T03:53:48.935Z"
   },
   {
    "duration": 11,
    "start_time": "2021-11-10T03:53:48.985Z"
   },
   {
    "duration": 15,
    "start_time": "2021-11-10T03:53:48.998Z"
   },
   {
    "duration": 12,
    "start_time": "2021-11-10T03:53:49.016Z"
   },
   {
    "duration": 9,
    "start_time": "2021-11-10T03:53:49.030Z"
   },
   {
    "duration": 11,
    "start_time": "2021-11-10T03:53:49.042Z"
   },
   {
    "duration": 5,
    "start_time": "2021-11-10T03:53:49.083Z"
   },
   {
    "duration": 8,
    "start_time": "2021-11-10T03:53:49.091Z"
   },
   {
    "duration": 19,
    "start_time": "2021-11-10T03:53:49.101Z"
   },
   {
    "duration": 76,
    "start_time": "2021-11-10T03:53:49.123Z"
   },
   {
    "duration": 10,
    "start_time": "2021-11-10T03:53:49.201Z"
   },
   {
    "duration": 9,
    "start_time": "2021-11-10T03:53:49.213Z"
   },
   {
    "duration": 14,
    "start_time": "2021-11-10T03:53:49.224Z"
   },
   {
    "duration": 8,
    "start_time": "2021-11-10T03:53:49.240Z"
   },
   {
    "duration": 37,
    "start_time": "2021-11-10T03:53:49.251Z"
   },
   {
    "duration": 8,
    "start_time": "2021-11-10T03:53:49.290Z"
   },
   {
    "duration": 11,
    "start_time": "2021-11-10T03:53:49.300Z"
   },
   {
    "duration": 10,
    "start_time": "2021-11-10T03:53:49.313Z"
   },
   {
    "duration": 10,
    "start_time": "2021-11-10T03:53:49.326Z"
   },
   {
    "duration": 5,
    "start_time": "2021-11-10T03:53:49.338Z"
   },
   {
    "duration": 42,
    "start_time": "2021-11-10T03:53:49.346Z"
   },
   {
    "duration": 13,
    "start_time": "2021-11-10T03:53:49.390Z"
   },
   {
    "duration": 7,
    "start_time": "2021-11-10T03:53:49.406Z"
   },
   {
    "duration": 14,
    "start_time": "2021-11-10T03:53:49.416Z"
   },
   {
    "duration": 6,
    "start_time": "2021-11-10T03:53:49.432Z"
   },
   {
    "duration": 46,
    "start_time": "2021-11-10T03:53:49.441Z"
   },
   {
    "duration": 6,
    "start_time": "2021-11-10T03:53:49.489Z"
   },
   {
    "duration": 13,
    "start_time": "2021-11-10T03:53:49.498Z"
   },
   {
    "duration": 637,
    "start_time": "2021-11-10T03:53:49.513Z"
   },
   {
    "duration": 555,
    "start_time": "2021-11-10T03:53:50.152Z"
   },
   {
    "duration": 614,
    "start_time": "2021-11-10T03:53:50.710Z"
   },
   {
    "duration": 23,
    "start_time": "2021-11-10T03:54:43.346Z"
   },
   {
    "duration": 4,
    "start_time": "2021-11-10T03:55:19.117Z"
   },
   {
    "duration": 13,
    "start_time": "2021-11-10T03:58:03.313Z"
   },
   {
    "duration": 12,
    "start_time": "2021-11-10T03:58:07.947Z"
   },
   {
    "duration": 16,
    "start_time": "2021-11-10T03:58:41.775Z"
   },
   {
    "duration": 12,
    "start_time": "2021-11-10T03:58:44.642Z"
   },
   {
    "duration": 14,
    "start_time": "2021-11-10T03:58:53.606Z"
   },
   {
    "duration": 12,
    "start_time": "2021-11-10T03:58:55.073Z"
   },
   {
    "duration": 17,
    "start_time": "2021-11-10T03:59:00.085Z"
   },
   {
    "duration": 15,
    "start_time": "2021-11-10T03:59:01.054Z"
   },
   {
    "duration": 28,
    "start_time": "2021-11-10T03:59:55.913Z"
   },
   {
    "duration": 23,
    "start_time": "2021-11-10T04:00:14.580Z"
   },
   {
    "duration": 862,
    "start_time": "2021-11-10T04:01:17.510Z"
   },
   {
    "duration": 4,
    "start_time": "2021-11-10T04:01:36.546Z"
   },
   {
    "duration": 7,
    "start_time": "2021-11-10T04:01:45.802Z"
   },
   {
    "duration": 28,
    "start_time": "2021-11-10T04:05:52.363Z"
   },
   {
    "duration": 9,
    "start_time": "2021-11-10T04:05:56.631Z"
   },
   {
    "duration": 19,
    "start_time": "2021-11-10T04:06:31.679Z"
   },
   {
    "duration": 7,
    "start_time": "2021-11-10T04:06:32.409Z"
   },
   {
    "duration": 20,
    "start_time": "2021-11-10T04:06:38.831Z"
   },
   {
    "duration": 8,
    "start_time": "2021-11-10T04:06:39.899Z"
   },
   {
    "duration": 11,
    "start_time": "2021-11-10T04:06:49.015Z"
   },
   {
    "duration": 7,
    "start_time": "2021-11-10T04:06:52.997Z"
   },
   {
    "duration": 351,
    "start_time": "2021-11-10T04:07:41.626Z"
   },
   {
    "duration": 11,
    "start_time": "2021-11-10T04:07:50.007Z"
   },
   {
    "duration": 7,
    "start_time": "2021-11-10T04:07:51.005Z"
   },
   {
    "duration": 7,
    "start_time": "2021-11-10T04:09:19.309Z"
   },
   {
    "duration": 5,
    "start_time": "2021-11-10T04:09:24.631Z"
   },
   {
    "duration": 5,
    "start_time": "2021-11-10T04:09:50.704Z"
   },
   {
    "duration": 6,
    "start_time": "2021-11-10T04:10:06.152Z"
   },
   {
    "duration": 21,
    "start_time": "2021-11-10T04:13:15.142Z"
   },
   {
    "duration": 8,
    "start_time": "2021-11-10T04:13:19.243Z"
   },
   {
    "duration": 12,
    "start_time": "2021-11-10T04:13:36.919Z"
   },
   {
    "duration": 7,
    "start_time": "2021-11-10T04:13:42.314Z"
   },
   {
    "duration": 6,
    "start_time": "2021-11-10T04:14:49.076Z"
   },
   {
    "duration": 6,
    "start_time": "2021-11-10T04:15:34.883Z"
   },
   {
    "duration": 1395,
    "start_time": "2021-11-10T05:21:06.381Z"
   },
   {
    "duration": 5,
    "start_time": "2021-11-10T05:21:07.779Z"
   },
   {
    "duration": 1174,
    "start_time": "2021-11-10T05:21:07.787Z"
   },
   {
    "duration": 263,
    "start_time": "2021-11-10T05:21:08.964Z"
   },
   {
    "duration": 227,
    "start_time": "2021-11-10T05:21:09.229Z"
   },
   {
    "duration": 156,
    "start_time": "2021-11-10T05:21:09.458Z"
   },
   {
    "duration": 8,
    "start_time": "2021-11-10T05:21:09.616Z"
   },
   {
    "duration": 16,
    "start_time": "2021-11-10T05:21:09.627Z"
   },
   {
    "duration": 493,
    "start_time": "2021-11-10T05:21:09.645Z"
   },
   {
    "duration": 20,
    "start_time": "2021-11-10T05:21:10.140Z"
   },
   {
    "duration": 519,
    "start_time": "2021-11-10T05:21:10.163Z"
   },
   {
    "duration": 13,
    "start_time": "2021-11-10T05:21:10.684Z"
   },
   {
    "duration": 16,
    "start_time": "2021-11-10T05:21:10.699Z"
   },
   {
    "duration": 156,
    "start_time": "2021-11-10T05:21:10.717Z"
   },
   {
    "duration": 29,
    "start_time": "2021-11-10T05:21:10.875Z"
   },
   {
    "duration": 5,
    "start_time": "2021-11-10T05:21:10.906Z"
   },
   {
    "duration": 18,
    "start_time": "2021-11-10T05:21:10.913Z"
   },
   {
    "duration": 510,
    "start_time": "2021-11-10T05:21:10.933Z"
   },
   {
    "duration": 451,
    "start_time": "2021-11-10T05:21:11.446Z"
   },
   {
    "duration": 7,
    "start_time": "2021-11-10T05:21:11.899Z"
   },
   {
    "duration": 29,
    "start_time": "2021-11-10T05:21:11.908Z"
   },
   {
    "duration": 13,
    "start_time": "2021-11-10T05:21:11.939Z"
   },
   {
    "duration": 14,
    "start_time": "2021-11-10T05:21:11.958Z"
   },
   {
    "duration": 18,
    "start_time": "2021-11-10T05:21:11.975Z"
   },
   {
    "duration": 17,
    "start_time": "2021-11-10T05:21:11.995Z"
   },
   {
    "duration": 25,
    "start_time": "2021-11-10T05:21:12.014Z"
   },
   {
    "duration": 15,
    "start_time": "2021-11-10T05:21:12.041Z"
   },
   {
    "duration": 31,
    "start_time": "2021-11-10T05:21:12.059Z"
   },
   {
    "duration": 4,
    "start_time": "2021-11-10T05:21:12.092Z"
   },
   {
    "duration": 12,
    "start_time": "2021-11-10T05:21:12.098Z"
   },
   {
    "duration": 12,
    "start_time": "2021-11-10T05:21:12.113Z"
   },
   {
    "duration": 14,
    "start_time": "2021-11-10T05:21:12.127Z"
   },
   {
    "duration": 10,
    "start_time": "2021-11-10T05:21:12.143Z"
   },
   {
    "duration": 30,
    "start_time": "2021-11-10T05:21:12.156Z"
   },
   {
    "duration": 20,
    "start_time": "2021-11-10T05:21:12.188Z"
   },
   {
    "duration": 14,
    "start_time": "2021-11-10T05:21:12.211Z"
   },
   {
    "duration": 25,
    "start_time": "2021-11-10T05:21:12.227Z"
   },
   {
    "duration": 59,
    "start_time": "2021-11-10T05:21:12.254Z"
   },
   {
    "duration": 9,
    "start_time": "2021-11-10T05:21:12.315Z"
   },
   {
    "duration": 8,
    "start_time": "2021-11-10T05:21:12.327Z"
   },
   {
    "duration": 23,
    "start_time": "2021-11-10T05:21:12.337Z"
   },
   {
    "duration": 23,
    "start_time": "2021-11-10T05:21:12.362Z"
   },
   {
    "duration": 25,
    "start_time": "2021-11-10T05:21:12.388Z"
   },
   {
    "duration": 15,
    "start_time": "2021-11-10T05:21:12.416Z"
   },
   {
    "duration": 9,
    "start_time": "2021-11-10T05:21:12.434Z"
   },
   {
    "duration": 25,
    "start_time": "2021-11-10T05:21:12.445Z"
   },
   {
    "duration": 19,
    "start_time": "2021-11-10T05:21:12.473Z"
   },
   {
    "duration": 22,
    "start_time": "2021-11-10T05:21:12.494Z"
   },
   {
    "duration": 16,
    "start_time": "2021-11-10T05:21:12.518Z"
   },
   {
    "duration": 34,
    "start_time": "2021-11-10T05:21:12.537Z"
   },
   {
    "duration": 30,
    "start_time": "2021-11-10T05:21:12.574Z"
   },
   {
    "duration": 30,
    "start_time": "2021-11-10T05:21:12.607Z"
   },
   {
    "duration": 19,
    "start_time": "2021-11-10T05:21:12.639Z"
   },
   {
    "duration": 37,
    "start_time": "2021-11-10T05:21:12.661Z"
   },
   {
    "duration": 20,
    "start_time": "2021-11-10T05:21:12.701Z"
   },
   {
    "duration": 19,
    "start_time": "2021-11-10T05:21:12.724Z"
   },
   {
    "duration": 594,
    "start_time": "2021-11-10T05:21:12.745Z"
   },
   {
    "duration": 676,
    "start_time": "2021-11-10T05:21:13.342Z"
   },
   {
    "duration": 605,
    "start_time": "2021-11-10T05:21:14.021Z"
   },
   {
    "duration": 4,
    "start_time": "2021-11-10T05:21:14.628Z"
   },
   {
    "duration": 12,
    "start_time": "2021-11-10T05:21:14.634Z"
   },
   {
    "duration": 5,
    "start_time": "2021-11-10T05:21:14.649Z"
   },
   {
    "duration": 32,
    "start_time": "2021-11-10T05:21:14.656Z"
   },
   {
    "duration": 10,
    "start_time": "2021-11-10T05:21:14.691Z"
   },
   {
    "duration": 9,
    "start_time": "2021-11-10T05:21:14.704Z"
   },
   {
    "duration": 10,
    "start_time": "2021-11-10T05:21:14.715Z"
   },
   {
    "duration": 61,
    "start_time": "2021-11-10T07:26:35.547Z"
   },
   {
    "duration": 216,
    "start_time": "2021-11-10T09:39:34.714Z"
   },
   {
    "duration": 1000,
    "start_time": "2021-11-10T09:39:39.968Z"
   },
   {
    "duration": 3,
    "start_time": "2021-11-10T09:39:40.970Z"
   },
   {
    "duration": 1195,
    "start_time": "2021-11-10T09:39:43.247Z"
   },
   {
    "duration": 1104,
    "start_time": "2021-11-10T09:39:53.399Z"
   },
   {
    "duration": 1118,
    "start_time": "2021-11-10T09:40:20.554Z"
   },
   {
    "duration": 1132,
    "start_time": "2021-11-10T09:40:56.351Z"
   },
   {
    "duration": 1649,
    "start_time": "2021-11-10T09:41:30.972Z"
   },
   {
    "duration": 1595,
    "start_time": "2021-11-10T09:41:43.395Z"
   },
   {
    "duration": 1660,
    "start_time": "2021-11-10T09:42:04.640Z"
   },
   {
    "duration": 5188,
    "start_time": "2021-11-10T09:45:18.962Z"
   },
   {
    "duration": 1759,
    "start_time": "2021-11-10T09:46:00.195Z"
   },
   {
    "duration": 208,
    "start_time": "2021-11-10T09:46:55.827Z"
   },
   {
    "duration": 484,
    "start_time": "2021-11-10T09:47:13.270Z"
   },
   {
    "duration": 501,
    "start_time": "2021-11-10T09:47:23.505Z"
   },
   {
    "duration": 487,
    "start_time": "2021-11-10T09:47:29.979Z"
   },
   {
    "duration": 351,
    "start_time": "2021-11-10T09:47:39.798Z"
   },
   {
    "duration": 595,
    "start_time": "2021-11-10T09:48:08.891Z"
   },
   {
    "duration": 322,
    "start_time": "2021-11-10T09:48:45.925Z"
   },
   {
    "duration": 265,
    "start_time": "2021-11-10T09:49:20.363Z"
   },
   {
    "duration": 271,
    "start_time": "2021-11-10T09:49:38.644Z"
   },
   {
    "duration": 267,
    "start_time": "2021-11-10T09:49:43.385Z"
   },
   {
    "duration": 289,
    "start_time": "2021-11-10T09:50:29.266Z"
   },
   {
    "duration": 1288,
    "start_time": "2021-11-10T09:52:44.145Z"
   },
   {
    "duration": 3,
    "start_time": "2021-11-10T09:52:49.777Z"
   },
   {
    "duration": 15,
    "start_time": "2021-11-10T09:52:49.782Z"
   },
   {
    "duration": 6539,
    "start_time": "2021-11-10T09:52:49.798Z"
   },
   {
    "duration": 348,
    "start_time": "2021-11-10T09:52:56.339Z"
   },
   {
    "duration": 338,
    "start_time": "2021-11-10T09:53:11.886Z"
   },
   {
    "duration": 319,
    "start_time": "2021-11-10T09:53:15.055Z"
   },
   {
    "duration": 86,
    "start_time": "2021-11-10T09:53:17.243Z"
   },
   {
    "duration": 100,
    "start_time": "2021-11-10T09:53:20.821Z"
   },
   {
    "duration": 109,
    "start_time": "2021-11-10T09:59:01.514Z"
   },
   {
    "duration": 286,
    "start_time": "2021-11-10T09:59:12.738Z"
   },
   {
    "duration": 283,
    "start_time": "2021-11-10T09:59:18.429Z"
   },
   {
    "duration": 289,
    "start_time": "2021-11-10T10:00:11.671Z"
   },
   {
    "duration": 277,
    "start_time": "2021-11-10T10:01:43.856Z"
   },
   {
    "duration": 325,
    "start_time": "2021-11-10T10:02:07.675Z"
   },
   {
    "duration": 865,
    "start_time": "2021-11-10T10:02:48.515Z"
   },
   {
    "duration": 334,
    "start_time": "2021-11-10T10:02:55.746Z"
   },
   {
    "duration": 210,
    "start_time": "2021-11-10T10:03:09.000Z"
   },
   {
    "duration": 232,
    "start_time": "2021-11-10T10:03:21.923Z"
   },
   {
    "duration": 282,
    "start_time": "2021-11-10T10:03:42.889Z"
   },
   {
    "duration": 259,
    "start_time": "2021-11-10T10:03:51.803Z"
   },
   {
    "duration": 244,
    "start_time": "2021-11-10T10:03:55.302Z"
   },
   {
    "duration": 251,
    "start_time": "2021-11-10T10:03:59.314Z"
   },
   {
    "duration": 319,
    "start_time": "2021-11-10T10:06:29.942Z"
   },
   {
    "duration": 213,
    "start_time": "2021-11-10T10:09:33.615Z"
   },
   {
    "duration": 196,
    "start_time": "2021-11-10T10:09:51.464Z"
   },
   {
    "duration": 1121,
    "start_time": "2021-11-10T10:10:11.428Z"
   },
   {
    "duration": 205,
    "start_time": "2021-11-10T10:10:26.420Z"
   },
   {
    "duration": 1299,
    "start_time": "2021-11-10T10:10:34.892Z"
   },
   {
    "duration": 1222,
    "start_time": "2021-11-10T10:10:43.523Z"
   },
   {
    "duration": 1127,
    "start_time": "2021-11-10T10:10:54.607Z"
   },
   {
    "duration": 1143,
    "start_time": "2021-11-10T10:11:18.629Z"
   },
   {
    "duration": 1162,
    "start_time": "2021-11-10T10:11:28.529Z"
   },
   {
    "duration": 1211,
    "start_time": "2021-11-10T10:11:34.862Z"
   },
   {
    "duration": 1219,
    "start_time": "2021-11-10T10:12:02.215Z"
   },
   {
    "duration": 391,
    "start_time": "2021-11-10T10:14:07.067Z"
   },
   {
    "duration": 69,
    "start_time": "2021-11-10T10:14:27.876Z"
   },
   {
    "duration": 1296,
    "start_time": "2021-11-10T10:14:34.183Z"
   },
   {
    "duration": 1258,
    "start_time": "2021-11-10T10:14:47.943Z"
   },
   {
    "duration": 269,
    "start_time": "2021-11-10T10:17:11.025Z"
   },
   {
    "duration": 1194,
    "start_time": "2021-11-10T10:17:15.466Z"
   },
   {
    "duration": 1796,
    "start_time": "2021-11-10T10:19:52.404Z"
   },
   {
    "duration": 187,
    "start_time": "2021-11-10T10:22:26.142Z"
   },
   {
    "duration": 164,
    "start_time": "2021-11-10T10:22:27.805Z"
   },
   {
    "duration": 113,
    "start_time": "2021-11-10T10:22:29.204Z"
   },
   {
    "duration": 22,
    "start_time": "2021-11-10T10:25:49.346Z"
   },
   {
    "duration": 23,
    "start_time": "2021-11-10T10:25:55.176Z"
   },
   {
    "duration": 19,
    "start_time": "2021-11-10T10:26:31.679Z"
   },
   {
    "duration": 17,
    "start_time": "2021-11-10T10:26:44.780Z"
   },
   {
    "duration": 3,
    "start_time": "2021-11-10T10:28:02.170Z"
   },
   {
    "duration": 13,
    "start_time": "2021-11-10T10:28:02.175Z"
   },
   {
    "duration": 1773,
    "start_time": "2021-11-10T10:28:02.190Z"
   },
   {
    "duration": 359,
    "start_time": "2021-11-10T10:28:03.965Z"
   },
   {
    "duration": 338,
    "start_time": "2021-11-10T10:28:04.326Z"
   },
   {
    "duration": 296,
    "start_time": "2021-11-10T10:28:04.666Z"
   },
   {
    "duration": 300,
    "start_time": "2021-11-10T10:28:04.964Z"
   },
   {
    "duration": 1195,
    "start_time": "2021-11-10T10:28:05.265Z"
   },
   {
    "duration": 186,
    "start_time": "2021-11-10T10:28:06.461Z"
   },
   {
    "duration": 23,
    "start_time": "2021-11-10T10:28:06.650Z"
   },
   {
    "duration": 168,
    "start_time": "2021-11-10T10:28:06.675Z"
   },
   {
    "duration": 19,
    "start_time": "2021-11-10T10:28:06.845Z"
   },
   {
    "duration": 116,
    "start_time": "2021-11-10T10:28:06.866Z"
   },
   {
    "duration": 17,
    "start_time": "2021-11-10T10:28:06.991Z"
   },
   {
    "duration": 29,
    "start_time": "2021-11-10T10:28:07.010Z"
   },
   {
    "duration": 29,
    "start_time": "2021-11-10T10:28:07.041Z"
   },
   {
    "duration": 319,
    "start_time": "2021-11-10T10:28:07.072Z"
   },
   {
    "duration": 11,
    "start_time": "2021-11-10T10:28:07.393Z"
   },
   {
    "duration": 349,
    "start_time": "2021-11-10T10:28:07.405Z"
   },
   {
    "duration": 9,
    "start_time": "2021-11-10T10:28:07.756Z"
   },
   {
    "duration": 7,
    "start_time": "2021-11-10T10:28:07.766Z"
   },
   {
    "duration": 99,
    "start_time": "2021-11-10T10:28:07.792Z"
   },
   {
    "duration": 16,
    "start_time": "2021-11-10T10:28:07.893Z"
   },
   {
    "duration": 9,
    "start_time": "2021-11-10T10:28:47.076Z"
   },
   {
    "duration": 184,
    "start_time": "2021-11-10T10:28:58.801Z"
   },
   {
    "duration": 188,
    "start_time": "2021-11-10T10:29:12.889Z"
   },
   {
    "duration": 4,
    "start_time": "2021-11-10T10:29:41.690Z"
   },
   {
    "duration": 8,
    "start_time": "2021-11-10T10:29:48.306Z"
   },
   {
    "duration": 1010,
    "start_time": "2021-11-10T10:33:35.966Z"
   },
   {
    "duration": 3,
    "start_time": "2021-11-10T10:33:36.978Z"
   },
   {
    "duration": 1719,
    "start_time": "2021-11-10T10:33:36.982Z"
   },
   {
    "duration": 347,
    "start_time": "2021-11-10T10:33:38.703Z"
   },
   {
    "duration": 327,
    "start_time": "2021-11-10T10:33:39.052Z"
   },
   {
    "duration": 281,
    "start_time": "2021-11-10T10:33:39.381Z"
   },
   {
    "duration": 241,
    "start_time": "2021-11-10T10:33:39.663Z"
   },
   {
    "duration": 1183,
    "start_time": "2021-11-10T10:33:39.907Z"
   },
   {
    "duration": 177,
    "start_time": "2021-11-10T10:33:41.093Z"
   },
   {
    "duration": 31,
    "start_time": "2021-11-10T10:33:41.272Z"
   },
   {
    "duration": 155,
    "start_time": "2021-11-10T10:33:41.305Z"
   },
   {
    "duration": 18,
    "start_time": "2021-11-10T10:33:41.462Z"
   },
   {
    "duration": 123,
    "start_time": "2021-11-10T10:33:41.481Z"
   },
   {
    "duration": 16,
    "start_time": "2021-11-10T10:33:41.605Z"
   },
   {
    "duration": 30,
    "start_time": "2021-11-10T10:33:41.623Z"
   },
   {
    "duration": 26,
    "start_time": "2021-11-10T10:33:41.654Z"
   },
   {
    "duration": 301,
    "start_time": "2021-11-10T10:33:41.681Z"
   },
   {
    "duration": 16,
    "start_time": "2021-11-10T10:33:41.984Z"
   },
   {
    "duration": 398,
    "start_time": "2021-11-10T10:33:42.001Z"
   },
   {
    "duration": 10,
    "start_time": "2021-11-10T10:33:42.401Z"
   },
   {
    "duration": 22,
    "start_time": "2021-11-10T10:33:42.412Z"
   },
   {
    "duration": 112,
    "start_time": "2021-11-10T10:33:42.436Z"
   },
   {
    "duration": 17,
    "start_time": "2021-11-10T10:33:42.550Z"
   },
   {
    "duration": 20,
    "start_time": "2021-11-10T10:33:42.568Z"
   },
   {
    "duration": 21,
    "start_time": "2021-11-10T10:33:42.590Z"
   },
   {
    "duration": 316,
    "start_time": "2021-11-10T10:33:42.615Z"
   },
   {
    "duration": 278,
    "start_time": "2021-11-10T10:33:42.934Z"
   },
   {
    "duration": 5,
    "start_time": "2021-11-10T10:33:43.214Z"
   },
   {
    "duration": 16,
    "start_time": "2021-11-10T10:33:43.220Z"
   },
   {
    "duration": 17,
    "start_time": "2021-11-10T10:33:43.238Z"
   },
   {
    "duration": 11,
    "start_time": "2021-11-10T10:33:43.257Z"
   },
   {
    "duration": 24,
    "start_time": "2021-11-10T10:33:43.269Z"
   },
   {
    "duration": 15,
    "start_time": "2021-11-10T10:33:43.295Z"
   },
   {
    "duration": 16,
    "start_time": "2021-11-10T10:33:43.312Z"
   },
   {
    "duration": 21,
    "start_time": "2021-11-10T10:33:43.330Z"
   },
   {
    "duration": 29,
    "start_time": "2021-11-10T10:33:43.352Z"
   },
   {
    "duration": 18,
    "start_time": "2021-11-10T10:33:43.382Z"
   },
   {
    "duration": 24,
    "start_time": "2021-11-10T10:33:43.402Z"
   },
   {
    "duration": 26,
    "start_time": "2021-11-10T10:33:43.427Z"
   },
   {
    "duration": 21,
    "start_time": "2021-11-10T10:33:43.455Z"
   },
   {
    "duration": 21,
    "start_time": "2021-11-10T10:33:43.477Z"
   },
   {
    "duration": 23,
    "start_time": "2021-11-10T10:33:43.500Z"
   },
   {
    "duration": 18,
    "start_time": "2021-11-10T10:33:43.524Z"
   },
   {
    "duration": 20,
    "start_time": "2021-11-10T10:33:43.543Z"
   },
   {
    "duration": 25,
    "start_time": "2021-11-10T10:33:43.564Z"
   },
   {
    "duration": 39,
    "start_time": "2021-11-10T10:33:43.591Z"
   },
   {
    "duration": 11,
    "start_time": "2021-11-10T10:33:43.632Z"
   },
   {
    "duration": 27,
    "start_time": "2021-11-10T10:33:43.645Z"
   },
   {
    "duration": 30,
    "start_time": "2021-11-10T10:33:43.674Z"
   },
   {
    "duration": 8,
    "start_time": "2021-11-10T10:33:43.705Z"
   },
   {
    "duration": 26,
    "start_time": "2021-11-10T10:33:43.715Z"
   },
   {
    "duration": 23,
    "start_time": "2021-11-10T10:33:43.743Z"
   },
   {
    "duration": 28,
    "start_time": "2021-11-10T10:33:43.768Z"
   },
   {
    "duration": 13,
    "start_time": "2021-11-10T10:33:43.798Z"
   },
   {
    "duration": 30,
    "start_time": "2021-11-10T10:33:43.813Z"
   },
   {
    "duration": 16,
    "start_time": "2021-11-10T10:33:43.845Z"
   },
   {
    "duration": 17,
    "start_time": "2021-11-10T10:33:43.863Z"
   },
   {
    "duration": 21,
    "start_time": "2021-11-10T10:33:43.881Z"
   },
   {
    "duration": 12,
    "start_time": "2021-11-10T10:33:43.904Z"
   },
   {
    "duration": 34,
    "start_time": "2021-11-10T10:33:43.917Z"
   },
   {
    "duration": 22,
    "start_time": "2021-11-10T10:33:43.953Z"
   },
   {
    "duration": 37,
    "start_time": "2021-11-10T10:33:43.976Z"
   },
   {
    "duration": 18,
    "start_time": "2021-11-10T10:33:44.015Z"
   },
   {
    "duration": 21,
    "start_time": "2021-11-10T10:33:44.035Z"
   },
   {
    "duration": 381,
    "start_time": "2021-11-10T10:33:44.058Z"
   },
   {
    "duration": 358,
    "start_time": "2021-11-10T10:33:44.441Z"
   },
   {
    "duration": 379,
    "start_time": "2021-11-10T10:33:44.801Z"
   },
   {
    "duration": 2,
    "start_time": "2021-11-10T10:33:45.182Z"
   },
   {
    "duration": 10,
    "start_time": "2021-11-10T10:33:45.186Z"
   },
   {
    "duration": 5,
    "start_time": "2021-11-10T10:33:45.198Z"
   },
   {
    "duration": 7,
    "start_time": "2021-11-10T10:33:45.204Z"
   },
   {
    "duration": 11,
    "start_time": "2021-11-10T10:33:45.212Z"
   },
   {
    "duration": 7,
    "start_time": "2021-11-10T10:33:45.225Z"
   },
   {
    "duration": 6,
    "start_time": "2021-11-10T10:33:45.233Z"
   }
  ],
  "kernelspec": {
   "display_name": "Python 3",
   "language": "python",
   "name": "python3"
  },
  "language_info": {
   "codemirror_mode": {
    "name": "ipython",
    "version": 3
   },
   "file_extension": ".py",
   "mimetype": "text/x-python",
   "name": "python",
   "nbconvert_exporter": "python",
   "pygments_lexer": "ipython3",
   "version": "3.8.2"
  },
  "toc": {
   "base_numbering": 1,
   "nav_menu": {},
   "number_sections": true,
   "sideBar": true,
   "skip_h1_title": true,
   "title_cell": "Table of Contents",
   "title_sidebar": "Contents",
   "toc_cell": true,
   "toc_position": {},
   "toc_section_display": true,
   "toc_window_display": true
  }
 },
 "nbformat": 4,
 "nbformat_minor": 2
}
